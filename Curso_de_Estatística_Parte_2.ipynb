{
  "nbformat": 4,
  "nbformat_minor": 0,
  "metadata": {
    "colab": {
      "name": "Curso_de_Estatística_Parte_2.ipynb",
      "provenance": [],
      "collapsed_sections": [],
      "toc_visible": true,
      "include_colab_link": true
    },
    "kernelspec": {
      "display_name": "Python 3",
      "language": "python",
      "name": "python3"
    },
    "language_info": {
      "codemirror_mode": {
        "name": "ipython",
        "version": 3
      },
      "file_extension": ".py",
      "mimetype": "text/x-python",
      "name": "python",
      "nbconvert_exporter": "python",
      "pygments_lexer": "ipython3",
      "version": "3.6.5"
    }
  },
  "cells": [
    {
      "cell_type": "markdown",
      "metadata": {
        "id": "view-in-github",
        "colab_type": "text"
      },
      "source": [
        "<a href=\"https://colab.research.google.com/github/flaakira/Alura/blob/master/Curso_de_Estat%C3%ADstica_Parte_2.ipynb\" target=\"_parent\"><img src=\"https://colab.research.google.com/assets/colab-badge.svg\" alt=\"Open In Colab\"/></a>"
      ]
    },
    {
      "cell_type": "markdown",
      "metadata": {
        "colab_type": "text",
        "id": "WvMflodMjQKe"
      },
      "source": [
        "***\n",
        "# <font color=green size=10>CURSO DE ESTATÍSTICA - PARTE 2</font>\n",
        "***"
      ]
    },
    {
      "cell_type": "markdown",
      "metadata": {
        "colab_type": "text",
        "id": "cVgsZ_E3jQKg"
      },
      "source": [
        "# <font color=green>1 CONHECENDO OS DADOS</font>\n",
        "***"
      ]
    },
    {
      "cell_type": "markdown",
      "metadata": {
        "colab_type": "text",
        "id": "TDjqYYNojQKh"
      },
      "source": [
        "## <font color=green>1.1 Dataset do projeto</font>\n",
        "***"
      ]
    },
    {
      "cell_type": "markdown",
      "metadata": {
        "colab_type": "text",
        "id": "iN1gIbaKjQKh"
      },
      "source": [
        "### Pesquisa Nacional por Amostra de Domicílios - 2015\n",
        "\n",
        "A **Pesquisa Nacional por Amostra de Domicílios - PNAD** investiga anualmente, de forma permanente, características gerais da população, de educação, trabalho, rendimento e habitação e outras, com periodicidade variável, de acordo com as necessidades de informação para o país, como as características sobre migração, fecundidade, nupcialidade, saúde, segurança alimentar, entre outros temas. O levantamento dessas estatísticas constitui, ao longo dos 49 anos de realização da pesquisa, um importante instrumento para formulação, validação e avaliação de políticas orientadas para o desenvolvimento socioeconômico e a melhoria das condições de vida no Brasil."
      ]
    },
    {
      "cell_type": "markdown",
      "metadata": {
        "colab_type": "text",
        "id": "U6V7br1RjQKi"
      },
      "source": [
        "### Fonte dos Dados\n",
        "\n",
        "https://ww2.ibge.gov.br/home/estatistica/populacao/trabalhoerendimento/pnad2015/microdados.shtm"
      ]
    },
    {
      "cell_type": "markdown",
      "metadata": {
        "colab_type": "text",
        "id": "r0Fe_qnzjQKj"
      },
      "source": [
        "### Variáveis utilizadas\n",
        "\n",
        "> ### Renda\n",
        "> ***\n",
        "\n",
        "Rendimento mensal do trabalho principal para pessoas de 10 anos ou mais de idade.\n",
        "\n",
        "> ### Idade\n",
        "> ***\n",
        "\n",
        "Idade do morador na data de referência em anos.\n",
        "\n",
        "> ### Altura (elaboração própria)\n",
        "> ***\n",
        "\n",
        "Altura do morador em metros.\n",
        "\n",
        "> ### UF\n",
        "> ***\n",
        "\n",
        "|Código|Descrição|\n",
        "|---|---|\n",
        "|11|Rondônia|\n",
        "|12|Acre|\n",
        "|13|Amazonas|\n",
        "|14|Roraima|\n",
        "|15|Pará|\n",
        "|16|Amapá|\n",
        "|17|Tocantins|\n",
        "|21|Maranhão|\n",
        "|22|Piauí|\n",
        "|23|Ceará|\n",
        "|24|Rio Grande do Norte|\n",
        "|25|Paraíba|\n",
        "|26|Pernambuco|\n",
        "|27|Alagoas|\n",
        "|28|Sergipe|\n",
        "|29|Bahia|\n",
        "|31|Minas Gerais|\n",
        "|32|Espírito Santo|\n",
        "|33|Rio de Janeiro|\n",
        "|35|São Paulo|\n",
        "|41|Paraná|\n",
        "|42|Santa Catarina|\n",
        "|43|Rio Grande do Sul|\n",
        "|50|Mato Grosso do Sul|\n",
        "|51|Mato Grosso|\n",
        "|52|Goiás|\n",
        "|53|Distrito Federal|\n",
        "\n",
        "> ### Sexo\t\n",
        "> ***\n",
        "\n",
        "|Código|Descrição|\n",
        "|---|---|\n",
        "|0|Masculino|\n",
        "|1|Feminino|\n",
        "\n",
        "> ### Anos de Estudo\n",
        "> ***\n",
        "\n",
        "|Código|Descrição|\n",
        "|---|---|\n",
        "|1|Sem instrução e menos de 1 ano|\n",
        "|2|1 ano|\n",
        "|3|2 anos|\n",
        "|4|3 anos|\n",
        "|5|4 anos|\n",
        "|6|5 anos|\n",
        "|7|6 anos|\n",
        "|8|7 anos|\n",
        "|9|8 anos|\n",
        "|10|9 anos|\n",
        "|11|10 anos|\n",
        "|12|11 anos|\n",
        "|13|12 anos|\n",
        "|14|13 anos|\n",
        "|15|14 anos|\n",
        "|16|15 anos ou mais|\n",
        "|17|Não determinados| \n",
        "||Não aplicável|\n",
        "\n",
        "> ### Cor\n",
        "> ***\n",
        "\n",
        "|Código|Descrição|\n",
        "|---|---|\n",
        "|0|Indígena|\n",
        "|2|Branca|\n",
        "|4|Preta|\n",
        "|6|Amarela|\n",
        "|8|Parda|\n",
        "|9|Sem declaração|"
      ]
    },
    {
      "cell_type": "markdown",
      "metadata": {
        "colab_type": "text",
        "id": "OK1IQH5cX7Gb"
      },
      "source": [
        "#### <font color='red'>Observação</font>\n",
        "***\n",
        "> Os seguintes tratamentos foram realizados nos dados originais:\n",
        "> 1. Foram eliminados os registros onde a **Renda** era inválida (999 999 999 999);\n",
        "> 2. Foram eliminados os registros onde a **Renda** era missing;\n",
        "> 3. Foram considerados somente os registros das **Pessoas de Referência** de cada domicílio (responsável pelo domicílio)."
      ]
    },
    {
      "cell_type": "markdown",
      "metadata": {
        "colab_type": "text",
        "id": "8Rw70V6ojQKk"
      },
      "source": [
        "### Importando pandas e lendo o dataset do projeto\n",
        "\n",
        "https://pandas.pydata.org/"
      ]
    },
    {
      "cell_type": "code",
      "metadata": {
        "colab_type": "code",
        "id": "8QgOpE-wjQKl",
        "colab": {}
      },
      "source": [
        "import pandas as pd "
      ],
      "execution_count": 0,
      "outputs": []
    },
    {
      "cell_type": "code",
      "metadata": {
        "colab_type": "code",
        "id": "ufRZ7TLwjQKo",
        "colab": {}
      },
      "source": [
        "dados = pd.read_csv('dados.csv')"
      ],
      "execution_count": 0,
      "outputs": []
    },
    {
      "cell_type": "code",
      "metadata": {
        "colab_type": "code",
        "id": "GsC_WhLFjQKq",
        "outputId": "de33ff7b-30ef-4cd7-eff0-0643b8dcaa05",
        "scrolled": true,
        "colab": {
          "base_uri": "https://localhost:8080/",
          "height": 204
        }
      },
      "source": [
        "dados.head()"
      ],
      "execution_count": 146,
      "outputs": [
        {
          "output_type": "execute_result",
          "data": {
            "text/html": [
              "<div>\n",
              "<style scoped>\n",
              "    .dataframe tbody tr th:only-of-type {\n",
              "        vertical-align: middle;\n",
              "    }\n",
              "\n",
              "    .dataframe tbody tr th {\n",
              "        vertical-align: top;\n",
              "    }\n",
              "\n",
              "    .dataframe thead th {\n",
              "        text-align: right;\n",
              "    }\n",
              "</style>\n",
              "<table border=\"1\" class=\"dataframe\">\n",
              "  <thead>\n",
              "    <tr style=\"text-align: right;\">\n",
              "      <th></th>\n",
              "      <th>UF</th>\n",
              "      <th>Sexo</th>\n",
              "      <th>Idade</th>\n",
              "      <th>Cor</th>\n",
              "      <th>Anos de Estudo</th>\n",
              "      <th>Renda</th>\n",
              "      <th>Altura</th>\n",
              "    </tr>\n",
              "  </thead>\n",
              "  <tbody>\n",
              "    <tr>\n",
              "      <th>0</th>\n",
              "      <td>11</td>\n",
              "      <td>0</td>\n",
              "      <td>23</td>\n",
              "      <td>8</td>\n",
              "      <td>12</td>\n",
              "      <td>800</td>\n",
              "      <td>1.603808</td>\n",
              "    </tr>\n",
              "    <tr>\n",
              "      <th>1</th>\n",
              "      <td>11</td>\n",
              "      <td>1</td>\n",
              "      <td>23</td>\n",
              "      <td>2</td>\n",
              "      <td>12</td>\n",
              "      <td>1150</td>\n",
              "      <td>1.739790</td>\n",
              "    </tr>\n",
              "    <tr>\n",
              "      <th>2</th>\n",
              "      <td>11</td>\n",
              "      <td>1</td>\n",
              "      <td>35</td>\n",
              "      <td>8</td>\n",
              "      <td>15</td>\n",
              "      <td>880</td>\n",
              "      <td>1.760444</td>\n",
              "    </tr>\n",
              "    <tr>\n",
              "      <th>3</th>\n",
              "      <td>11</td>\n",
              "      <td>0</td>\n",
              "      <td>46</td>\n",
              "      <td>2</td>\n",
              "      <td>6</td>\n",
              "      <td>3500</td>\n",
              "      <td>1.783158</td>\n",
              "    </tr>\n",
              "    <tr>\n",
              "      <th>4</th>\n",
              "      <td>11</td>\n",
              "      <td>1</td>\n",
              "      <td>47</td>\n",
              "      <td>8</td>\n",
              "      <td>9</td>\n",
              "      <td>150</td>\n",
              "      <td>1.690631</td>\n",
              "    </tr>\n",
              "  </tbody>\n",
              "</table>\n",
              "</div>"
            ],
            "text/plain": [
              "   UF  Sexo  Idade  Cor  Anos de Estudo  Renda    Altura\n",
              "0  11     0     23    8              12    800  1.603808\n",
              "1  11     1     23    2              12   1150  1.739790\n",
              "2  11     1     35    8              15    880  1.760444\n",
              "3  11     0     46    2               6   3500  1.783158\n",
              "4  11     1     47    8               9    150  1.690631"
            ]
          },
          "metadata": {
            "tags": []
          },
          "execution_count": 146
        }
      ]
    },
    {
      "cell_type": "markdown",
      "metadata": {
        "colab_type": "text",
        "id": "-z3bLQIUG3Hv"
      },
      "source": [
        "---\n",
        "---"
      ]
    },
    {
      "cell_type": "markdown",
      "metadata": {
        "colab_type": "text",
        "id": "tL9xVLwTX07g"
      },
      "source": [
        "# <font color=green>2 DISTRIBUIÇÕES DE PROBABILIDADE</font>\n",
        "***"
      ]
    },
    {
      "cell_type": "markdown",
      "metadata": {
        "colab_type": "text",
        "id": "3nlvC-5qG3Bj"
      },
      "source": [
        "## <font color=red>Problema</font>\n",
        "***"
      ]
    },
    {
      "cell_type": "markdown",
      "metadata": {
        "colab_type": "text",
        "id": "8CclIz9oG3Bk"
      },
      "source": [
        "Em um concurso para preencher uma vaga de cientista de dados temos um total de **10 questões** de múltipla escolha com **3 alternativas possíveis** em cada questão. **Cada questão tem o mesmo valor.** Suponha que um candidato resolva se aventurar sem ter estudado absolutamente nada. Ele resolve fazer a prova de olhos vendados e chutar todas as resposta. Assumindo que a prova **vale 10 pontos e a nota de corte seja 5**, obtenha a probabilidade deste candidato **acertar 5 questões** e também a probabilidade deste candidato **passar para a próxima etapa do processo seletivo**."
      ]
    },
    {
      "cell_type": "markdown",
      "metadata": {
        "colab_type": "text",
        "id": "KJxd2KFSYLML"
      },
      "source": [
        "## <font color=green>2.1 Distribuição Binomial</font>\n",
        "***"
      ]
    },
    {
      "cell_type": "markdown",
      "metadata": {
        "colab_type": "text",
        "id": "mcbl3KbnG3Bq"
      },
      "source": [
        "Um evento **binomial** é caracterizado pela possibilidade de ocorrência de apenas duas categorias. Estas categorias somadas representam todo o espaço amostral, sendo também mutuamente excludentes, ou seja, a ocorrência de uma implica na não ocorrência da outra.\n",
        "\n",
        "Em análises estatísticas o uso mais comum da distribuição binomial é na solução de problemas que envolvem situações de **sucesso** e **fracasso**."
      ]
    },
    {
      "cell_type": "markdown",
      "metadata": {
        "colab_type": "text",
        "id": "iLoYAuJ9G3Bs"
      },
      "source": [
        "# $$P(k)=\\binom{n}{k} p^k q^{n-k}$$\n",
        "\n",
        "Onde:\n",
        "\n",
        "$p$ = probabilidade de sucesso\n",
        "\n",
        "$q = (1 - p)$ = probabilidade de fracasso\n",
        "\n",
        "$n$ = número de eventos estudados\n",
        "\n",
        "$k$ = número de eventos desejados que tenham sucesso"
      ]
    },
    {
      "cell_type": "markdown",
      "metadata": {
        "colab_type": "text",
        "id": "PxEgWbFdG3Bt"
      },
      "source": [
        "### Experimento Binomial"
      ]
    },
    {
      "cell_type": "markdown",
      "metadata": {
        "colab_type": "text",
        "id": "eqQK3Ny-G3Bv"
      },
      "source": [
        "1. Realização de $n$ ensaios idênticos.\n",
        "\n",
        "2. Os ensaios são independentes.\n",
        "\n",
        "3. Somente dois resultados são possíveis, exemplo: Verdadeiro ou falso; Cara ou coroa; Sucesso ou fracasso.\n",
        "\n",
        "4. A probabilidade de sucesso é representada por $p$ e a de fracasso por $1-p=q$. Estas probabilidades não se modificam de ensaio para ensaio."
      ]
    },
    {
      "cell_type": "markdown",
      "metadata": {
        "colab_type": "text",
        "id": "mT77udQ0G3Bx"
      },
      "source": [
        "### Média da distribuição binomial"
      ]
    },
    {
      "cell_type": "markdown",
      "metadata": {
        "colab_type": "text",
        "id": "EGiuemgqG3By"
      },
      "source": [
        "O valor esperado ou a média da distribuição binomial é igual ao número de experimentos realizados multiplicado pela chance de ocorrência do evento.\n",
        "\n",
        "# $$\\mu = n \\times p$$"
      ]
    },
    {
      "cell_type": "markdown",
      "metadata": {
        "colab_type": "text",
        "id": "1fDLi96OG3Bz"
      },
      "source": [
        "### Desvio padrão da distribuição binomial"
      ]
    },
    {
      "cell_type": "markdown",
      "metadata": {
        "colab_type": "text",
        "id": "EZojizotG3B1"
      },
      "source": [
        "O desvio padrão é o produto entre o número de experimentos, a probabilidade de sucesso e a probabilidade de fracasso.\n",
        "\n",
        "# $$\\sigma = \\sqrt{n \\times p \\times q}$$"
      ]
    },
    {
      "cell_type": "markdown",
      "metadata": {
        "colab_type": "text",
        "id": "udqnjFnsG3B2"
      },
      "source": [
        "### Importando bibliotecas\n",
        "https://docs.scipy.org/doc/scipy/reference/generated/scipy.special.comb.html"
      ]
    },
    {
      "cell_type": "code",
      "metadata": {
        "colab_type": "code",
        "id": "-U2sGssNG3B4",
        "colab": {}
      },
      "source": [
        "from scipy.special import comb"
      ],
      "execution_count": 0,
      "outputs": []
    },
    {
      "cell_type": "markdown",
      "metadata": {
        "colab_type": "text",
        "id": "MxxuJNSwG3B7"
      },
      "source": [
        "### Combinações\n",
        "\n",
        "Número de combinações de $n$ objetos, tomados $k$ a cada vez, é:\n",
        "\n",
        "# $$C_{k}^{n} = \\binom{n}{k} = \\frac{n!}{k!(n - k)!}$$\n",
        "\n",
        "Onde\n",
        "\n",
        "## $$n! = n\\times(n-1)\\times(n-2)\\times...\\times(2)\\times(1)$$\n",
        "## $$k! = k\\times(k-1)\\times(k-2)\\times...\\times(2)\\times(1)$$\n",
        "\n",
        "Por definição\n",
        "\n",
        "## $$0! = 1$$"
      ]
    },
    {
      "cell_type": "markdown",
      "metadata": {
        "colab_type": "text",
        "id": "Udz87Pq3G3B8"
      },
      "source": [
        "## <font color='blue'>Exemplo: Mega Sena</font>"
      ]
    },
    {
      "cell_type": "markdown",
      "metadata": {
        "colab_type": "text",
        "id": "h1Mo9AxyG3B8"
      },
      "source": [
        "Em um volante de loteria da Mega Sena temos um total de **60 números** para escolher onde a aposta mínima é de **seis números**. Você que é curiosa(o) resolve calcular a probabilidade de se acertar na Mega Sena com apenas **um jogo**. Para isso precisamos saber quantas **combinações de seis números podem ser formadas com os 60 números disponíveis**.\n",
        "\n",
        "### $$C_{6}^{60} = \\binom{60}{6} = \\frac{60!}{6!(60 - 6)!}$$"
      ]
    },
    {
      "cell_type": "code",
      "metadata": {
        "colab_type": "code",
        "id": "c2t7yHl7G3B9",
        "outputId": "c792a4ac-5fc0-4f72-a876-d34ca7b06c4a",
        "colab": {
          "base_uri": "https://localhost:8080/",
          "height": 34
        }
      },
      "source": [
        "combinacoes = comb(60,6)\n",
        "combinacoes"
      ],
      "execution_count": 148,
      "outputs": [
        {
          "output_type": "execute_result",
          "data": {
            "text/plain": [
              "50063860.0"
            ]
          },
          "metadata": {
            "tags": []
          },
          "execution_count": 148
        }
      ]
    },
    {
      "cell_type": "code",
      "metadata": {
        "colab_type": "code",
        "id": "LpioeTSXG3CB",
        "outputId": "37ddcfd2-95ba-4473-ae61-7eb45cad13d0",
        "colab": {
          "base_uri": "https://localhost:8080/",
          "height": 34
        }
      },
      "source": [
        "probabilidade = 1 / combinacoes\n",
        "print('%0.15f' % probabilidade)"
      ],
      "execution_count": 149,
      "outputs": [
        {
          "output_type": "stream",
          "text": [
            "0.000000019974489\n"
          ],
          "name": "stdout"
        }
      ]
    },
    {
      "cell_type": "markdown",
      "metadata": {
        "colab_type": "text",
        "id": "t1rA1yJpG3CF"
      },
      "source": [
        "## <font color='blue'>Exemplo: Concurso para cientista de dados</font>"
      ]
    },
    {
      "cell_type": "markdown",
      "metadata": {
        "colab_type": "text",
        "id": "K0DPDD37G3CG"
      },
      "source": [
        "Em um concurso para preencher uma vaga de cientista de dados temos um total de **10 questões** de múltipla escolha com **3 alternativas possíveis** em cada questão. **Cada questão tem o mesmo valor.** Suponha que um candidato resolva se aventurar sem ter estudado absolutamente nada. Ele resolve fazer a prova de olhos vendados e chutar todas as resposta. Assumindo que a prova **vale 10 pontos e a nota de corte seja 5**, obtenha a probabilidade deste candidato **acertar 5 questões** e também a probabilidade deste candidato **passar para a próxima etapa do processo seletivo**."
      ]
    },
    {
      "cell_type": "markdown",
      "metadata": {
        "colab_type": "text",
        "id": "sf-NMPfxG3CH"
      },
      "source": [
        "### Qual o número de ensaios ($n$)?"
      ]
    },
    {
      "cell_type": "code",
      "metadata": {
        "colab_type": "code",
        "id": "WmnjMTnYG3CH",
        "outputId": "5d88bcc1-4c15-42cf-9f6c-4c925993eeef",
        "colab": {
          "base_uri": "https://localhost:8080/",
          "height": 34
        }
      },
      "source": [
        "n = 10\n",
        "n"
      ],
      "execution_count": 150,
      "outputs": [
        {
          "output_type": "execute_result",
          "data": {
            "text/plain": [
              "10"
            ]
          },
          "metadata": {
            "tags": []
          },
          "execution_count": 150
        }
      ]
    },
    {
      "cell_type": "markdown",
      "metadata": {
        "colab_type": "text",
        "id": "1USf9Ro8G3CK"
      },
      "source": [
        "### Os ensaios são independentes?"
      ]
    },
    {
      "cell_type": "markdown",
      "metadata": {
        "colab_type": "text",
        "id": "82xf2XIkG3CM"
      },
      "source": [
        "Sim. A opção escolhida em uma questão não influencia em nada a opção escolhida em outra questão."
      ]
    },
    {
      "cell_type": "markdown",
      "metadata": {
        "colab_type": "text",
        "id": "7jN0H5e7G3CN"
      },
      "source": [
        "### Somente dois resultados são possíveis em cada ensaio?"
      ]
    },
    {
      "cell_type": "markdown",
      "metadata": {
        "colab_type": "text",
        "id": "gGxcY7K8G3CO"
      },
      "source": [
        "Sim. O candidato tem duas possibilidades, ACERTA ou ERRAR uma questão. "
      ]
    },
    {
      "cell_type": "markdown",
      "metadata": {
        "colab_type": "text",
        "id": "MZw2LDQjG3CR"
      },
      "source": [
        "### Qual a probabilidade de sucesso ($p$)?"
      ]
    },
    {
      "cell_type": "code",
      "metadata": {
        "colab_type": "code",
        "id": "AazGDtt0G3CS",
        "outputId": "75ec7d72-05ac-444d-bb8b-385955bc62b3",
        "colab": {
          "base_uri": "https://localhost:8080/",
          "height": 34
        }
      },
      "source": [
        "numero_alternativa_por_questao = 3\n",
        "p = 1/numero_alternativa_por_questao\n",
        "p"
      ],
      "execution_count": 151,
      "outputs": [
        {
          "output_type": "execute_result",
          "data": {
            "text/plain": [
              "0.3333333333333333"
            ]
          },
          "metadata": {
            "tags": []
          },
          "execution_count": 151
        }
      ]
    },
    {
      "cell_type": "markdown",
      "metadata": {
        "colab_type": "text",
        "id": "KPCw41OlG3CX"
      },
      "source": [
        "### Qual a probabilidade de fracasso ($q$)?"
      ]
    },
    {
      "cell_type": "code",
      "metadata": {
        "colab_type": "code",
        "id": "FRhmjCnpG3CZ",
        "outputId": "f90501ae-744d-4879-a14d-ee5f54ab7f62",
        "colab": {
          "base_uri": "https://localhost:8080/",
          "height": 34
        }
      },
      "source": [
        "q = 1 -p\n",
        "q"
      ],
      "execution_count": 152,
      "outputs": [
        {
          "output_type": "execute_result",
          "data": {
            "text/plain": [
              "0.6666666666666667"
            ]
          },
          "metadata": {
            "tags": []
          },
          "execution_count": 152
        }
      ]
    },
    {
      "cell_type": "markdown",
      "metadata": {
        "colab_type": "text",
        "id": "W2htpmzaG3Ce"
      },
      "source": [
        "### Qual o total de eventos que se deseja obter sucesso ($k$)?"
      ]
    },
    {
      "cell_type": "code",
      "metadata": {
        "colab_type": "code",
        "id": "MmHpiIIuG3Cj",
        "outputId": "f4381861-4293-4cba-fe7e-90a739bc327c",
        "colab": {
          "base_uri": "https://localhost:8080/",
          "height": 34
        }
      },
      "source": [
        "k = 5\n",
        "k"
      ],
      "execution_count": 153,
      "outputs": [
        {
          "output_type": "execute_result",
          "data": {
            "text/plain": [
              "5"
            ]
          },
          "metadata": {
            "tags": []
          },
          "execution_count": 153
        }
      ]
    },
    {
      "cell_type": "markdown",
      "metadata": {
        "colab_type": "text",
        "id": "r8TZ6DSuG3Cm"
      },
      "source": [
        "### Solução 1"
      ]
    },
    {
      "cell_type": "code",
      "metadata": {
        "colab_type": "code",
        "id": "tZBbMIzKG3Cn",
        "outputId": "1132a830-b1a9-40b2-c602-1d6887e6cb4a",
        "colab": {
          "base_uri": "https://localhost:8080/",
          "height": 34
        }
      },
      "source": [
        "probabilidade = (comb(n,k)* (p**k)*(q **(n-k)))\n",
        "print( '%0.8f' % probabilidade)"
      ],
      "execution_count": 154,
      "outputs": [
        {
          "output_type": "stream",
          "text": [
            "0.13656455\n"
          ],
          "name": "stdout"
        }
      ]
    },
    {
      "cell_type": "markdown",
      "metadata": {
        "colab_type": "text",
        "id": "rDwUvW5UG3Cq"
      },
      "source": [
        "### Importando bibliotecas\n",
        "https://docs.scipy.org/doc/scipy/reference/generated/scipy.stats.binom.html"
      ]
    },
    {
      "cell_type": "code",
      "metadata": {
        "colab_type": "code",
        "id": "rhlsI3iLG3Cr",
        "colab": {}
      },
      "source": [
        "from scipy.stats import binom"
      ],
      "execution_count": 0,
      "outputs": []
    },
    {
      "cell_type": "markdown",
      "metadata": {
        "colab_type": "text",
        "id": "hvj2sYaSG3Ct"
      },
      "source": [
        "### Solução 2"
      ]
    },
    {
      "cell_type": "code",
      "metadata": {
        "colab_type": "code",
        "id": "OjS1xsz5G3Cu",
        "outputId": "0268eace-b3d6-45d1-ee47-e1176ff3d90a",
        "colab": {
          "base_uri": "https://localhost:8080/",
          "height": 34
        }
      },
      "source": [
        "probabilidade = binom.pmf(k,n,p)\n",
        "print('%0.8f' % probabilidade)"
      ],
      "execution_count": 156,
      "outputs": [
        {
          "output_type": "stream",
          "text": [
            "0.13656455\n"
          ],
          "name": "stdout"
        }
      ]
    },
    {
      "cell_type": "markdown",
      "metadata": {
        "id": "ZyFbmFjJ9CR0",
        "colab_type": "text"
      },
      "source": [
        "### Obter a probabilidade do candidato passar"
      ]
    },
    {
      "cell_type": "markdown",
      "metadata": {
        "id": "jJ_vwN2T9CR0",
        "colab_type": "text"
      },
      "source": [
        "### $$P(acertar \\geq 5) = P(5) + P(6) + P(7) + P(8) + P(9) + P10)$$"
      ]
    },
    {
      "cell_type": "code",
      "metadata": {
        "id": "hLdbHKZr9CR1",
        "colab_type": "code",
        "outputId": "40991860-cc49-4046-d6c7-da191e0865ce",
        "colab": {
          "base_uri": "https://localhost:8080/",
          "height": 34
        }
      },
      "source": [
        "binom.pmf(5,n,p) + binom.pmf(6,n,p) + binom.pmf(7,n,p)+ binom.pmf(8,n,p) + binom.pmf(9,n,p) +binom.pmf(10,n,p)"
      ],
      "execution_count": 157,
      "outputs": [
        {
          "output_type": "execute_result",
          "data": {
            "text/plain": [
              "0.2131280800690952"
            ]
          },
          "metadata": {
            "tags": []
          },
          "execution_count": 157
        }
      ]
    },
    {
      "cell_type": "code",
      "metadata": {
        "id": "z0ibupHp9CR4",
        "colab_type": "code",
        "outputId": "2ccb361d-b86e-4fe4-9e8a-7fd7a1a62d24",
        "colab": {
          "base_uri": "https://localhost:8080/",
          "height": 34
        }
      },
      "source": [
        "binom.pmf([5,6,7,8,9,10],n,p).sum()"
      ],
      "execution_count": 158,
      "outputs": [
        {
          "output_type": "execute_result",
          "data": {
            "text/plain": [
              "0.2131280800690952"
            ]
          },
          "metadata": {
            "tags": []
          },
          "execution_count": 158
        }
      ]
    },
    {
      "cell_type": "code",
      "metadata": {
        "id": "VFb8NkWj9CR7",
        "colab_type": "code",
        "outputId": "88026b1e-c5d6-4411-d060-cf8fa31c0665",
        "colab": {
          "base_uri": "https://localhost:8080/",
          "height": 34
        }
      },
      "source": [
        "binom.cdf(10 ,n,p) - binom.cdf(4,n,p)"
      ],
      "execution_count": 159,
      "outputs": [
        {
          "output_type": "execute_result",
          "data": {
            "text/plain": [
              "0.21312808006909512"
            ]
          },
          "metadata": {
            "tags": []
          },
          "execution_count": 159
        }
      ]
    },
    {
      "cell_type": "code",
      "metadata": {
        "id": "aj9bU1Cb9CR-",
        "colab_type": "code",
        "outputId": "53ad9289-da16-4677-c5c2-11f6128ba49f",
        "colab": {
          "base_uri": "https://localhost:8080/",
          "height": 34
        }
      },
      "source": [
        "binom.sf(4,n,p)"
      ],
      "execution_count": 160,
      "outputs": [
        {
          "output_type": "execute_result",
          "data": {
            "text/plain": [
              "0.21312808006909517"
            ]
          },
          "metadata": {
            "tags": []
          },
          "execution_count": 160
        }
      ]
    },
    {
      "cell_type": "markdown",
      "metadata": {
        "colab_type": "text",
        "id": "7hAZ4XkMG3Cx"
      },
      "source": [
        "## <font color='blue'>Exemplo: Gincana</font>"
      ]
    },
    {
      "cell_type": "markdown",
      "metadata": {
        "colab_type": "text",
        "id": "l42alRhOG3Cy"
      },
      "source": [
        "Uma cidade do interior realiza todos os anos uma gincana para arrecadar fundos para o hospital da cidade. Na última gincana se sabe que a **proporção de participantes do sexo feminino foi de 60%**. **O total de equipes, com 12 integrantes, inscritas na gincana deste ano é de 30**. Com as informações acima responda: Quantas equipes deverão ser formadas por **8 mulheres**?"
      ]
    },
    {
      "cell_type": "markdown",
      "metadata": {
        "colab_type": "text",
        "id": "dqBGf6d7G3C0"
      },
      "source": [
        "### Solução"
      ]
    },
    {
      "cell_type": "code",
      "metadata": {
        "colab_type": "code",
        "id": "Xw9b6ch3G3C1",
        "outputId": "3a59404f-7ed9-4d9e-c07c-56860b5e8013",
        "colab": {
          "base_uri": "https://localhost:8080/",
          "height": 34
        }
      },
      "source": [
        "p = 0.60\n",
        "p"
      ],
      "execution_count": 161,
      "outputs": [
        {
          "output_type": "execute_result",
          "data": {
            "text/plain": [
              "0.6"
            ]
          },
          "metadata": {
            "tags": []
          },
          "execution_count": 161
        }
      ]
    },
    {
      "cell_type": "code",
      "metadata": {
        "colab_type": "code",
        "id": "R3-RaxP5G3C3",
        "outputId": "10e4a18f-7686-42a1-f3c5-e3992004f6f5",
        "colab": {
          "base_uri": "https://localhost:8080/",
          "height": 34
        }
      },
      "source": [
        "n = 12\n",
        "n"
      ],
      "execution_count": 162,
      "outputs": [
        {
          "output_type": "execute_result",
          "data": {
            "text/plain": [
              "12"
            ]
          },
          "metadata": {
            "tags": []
          },
          "execution_count": 162
        }
      ]
    },
    {
      "cell_type": "code",
      "metadata": {
        "colab_type": "code",
        "id": "otBHHyD0G3C6",
        "outputId": "7b2cd0e3-92da-4370-b096-e5d7ce374878",
        "colab": {
          "base_uri": "https://localhost:8080/",
          "height": 34
        }
      },
      "source": [
        "k = 8\n",
        "k"
      ],
      "execution_count": 163,
      "outputs": [
        {
          "output_type": "execute_result",
          "data": {
            "text/plain": [
              "8"
            ]
          },
          "metadata": {
            "tags": []
          },
          "execution_count": 163
        }
      ]
    },
    {
      "cell_type": "code",
      "metadata": {
        "colab_type": "code",
        "id": "ZAoBvbQqG3C9",
        "outputId": "3a914abe-45bc-4cef-aff9-f0e6cdc315a2",
        "colab": {
          "base_uri": "https://localhost:8080/",
          "height": 34
        }
      },
      "source": [
        "probabilidade = binom.pmf(k,n,p)\n",
        "print('%0.8f' % probabilidade)"
      ],
      "execution_count": 164,
      "outputs": [
        {
          "output_type": "stream",
          "text": [
            "0.21284094\n"
          ],
          "name": "stdout"
        }
      ]
    },
    {
      "cell_type": "code",
      "metadata": {
        "colab_type": "code",
        "id": "Tg53uGL4G3DA",
        "outputId": "ae6c7f90-9b18-4dd9-b040-bf5b3d28492e",
        "colab": {
          "base_uri": "https://localhost:8080/",
          "height": 34
        }
      },
      "source": [
        "equipes = 30 * probabilidade\n",
        "equipes"
      ],
      "execution_count": 165,
      "outputs": [
        {
          "output_type": "execute_result",
          "data": {
            "text/plain": [
              "6.385228185599988"
            ]
          },
          "metadata": {
            "tags": []
          },
          "execution_count": 165
        }
      ]
    },
    {
      "cell_type": "markdown",
      "metadata": {
        "colab_type": "text",
        "id": "49TiCQRvG3DC"
      },
      "source": [
        "---\n",
        "---"
      ]
    },
    {
      "cell_type": "markdown",
      "metadata": {
        "colab_type": "text",
        "id": "X6bYonAZG3DE"
      },
      "source": [
        "## <font color=red>Problema</font>\n",
        "***"
      ]
    },
    {
      "cell_type": "markdown",
      "metadata": {
        "colab_type": "text",
        "id": "Ccx-Bc9oG3DH"
      },
      "source": [
        "Um restaurante recebe em média **20 pedidos por hora**. Qual a chance de que, em determinada hora escolhida ao acaso, o restaurante receba **15 pedidos**?"
      ]
    },
    {
      "cell_type": "markdown",
      "metadata": {
        "colab_type": "text",
        "id": "k-uV7bgsmand"
      },
      "source": [
        "## <font color=green>2.2 Distribuição Poisson</font>\n",
        "***"
      ]
    },
    {
      "cell_type": "markdown",
      "metadata": {
        "colab_type": "text",
        "id": "H0jPtJICG3DM"
      },
      "source": [
        "É empregada para descrever o número de ocorrências em um intervalo de tempo ou espaço específico. Os eventos são caracterizados pela possibilidade de contagem dos sucessos, mas a não possibilidade de contagem dos fracassos.\n",
        "\n",
        "Como exemplos de processos onde podemos aplicar a distribuição de Poisson temos a determinação do número de clientes que entram em uma loja em determinada hora, o número de carros que chegam em um drive-thru de uma lanchonete na hora do almoço, a determinação do número de acidentes registrados em um trecho de estrada etc."
      ]
    },
    {
      "cell_type": "markdown",
      "metadata": {
        "colab_type": "text",
        "id": "O_XqwANJG3DN"
      },
      "source": [
        "# $$P(k) = \\frac{e^{-\\mu}(\\mu)^k}{k!}$$\n",
        "\n",
        "Onde:\n",
        "\n",
        "$e$ = constante cujo valor aproximado é 2,718281828459045\n",
        "\n",
        "$\\mu$ = representa o número médio de ocorrências em um determinado intervalo de tempo ou espaço\n",
        "\n",
        "$k$ = número de sucessos no intervalo desejado"
      ]
    },
    {
      "cell_type": "markdown",
      "metadata": {
        "colab_type": "text",
        "id": "FqquU8wOG3DO"
      },
      "source": [
        "### Experimento Poisson"
      ]
    },
    {
      "cell_type": "markdown",
      "metadata": {
        "colab_type": "text",
        "id": "ir2odEW3G3DO"
      },
      "source": [
        "1. A probabilidade de uma ocorrência é a mesma em todo o intervalo observado.\n",
        "\n",
        "2. O número de ocorrências em determinado intervalo é independente do número de ocorrências em outros intervalos.\n",
        "\n",
        "3. A probabilidade de uma ocorrência é a mesma em intervalos de igual comprimento."
      ]
    },
    {
      "cell_type": "markdown",
      "metadata": {
        "colab_type": "text",
        "id": "2INlWMa0G3DP"
      },
      "source": [
        "### Média da distribuição Poisson"
      ]
    },
    {
      "cell_type": "markdown",
      "metadata": {
        "colab_type": "text",
        "id": "xywTsniCG3DP"
      },
      "source": [
        "# $$\\mu$$"
      ]
    },
    {
      "cell_type": "markdown",
      "metadata": {
        "colab_type": "text",
        "id": "7-Lh-LpfG3DQ"
      },
      "source": [
        "### Desvio padrão da distribuição Poisson"
      ]
    },
    {
      "cell_type": "markdown",
      "metadata": {
        "colab_type": "text",
        "id": "61uStWUsG3DQ"
      },
      "source": [
        "# $$\\sigma = \\sqrt{\\mu}$$"
      ]
    },
    {
      "cell_type": "markdown",
      "metadata": {
        "colab_type": "text",
        "id": "vniBmzIMG3DR"
      },
      "source": [
        "### Importando bibliotecas\n",
        "\n",
        "http://www.numpy.org/"
      ]
    },
    {
      "cell_type": "code",
      "metadata": {
        "colab_type": "code",
        "id": "w23fjVT-G3DS",
        "colab": {}
      },
      "source": [
        "import numpy as np"
      ],
      "execution_count": 0,
      "outputs": []
    },
    {
      "cell_type": "code",
      "metadata": {
        "colab_type": "code",
        "id": "rdNqMuFNG3DU",
        "outputId": "13fe169d-491c-4d4a-cc60-f073b013511d",
        "colab": {
          "base_uri": "https://localhost:8080/",
          "height": 34
        }
      },
      "source": [
        "np.e"
      ],
      "execution_count": 167,
      "outputs": [
        {
          "output_type": "execute_result",
          "data": {
            "text/plain": [
              "2.718281828459045"
            ]
          },
          "metadata": {
            "tags": []
          },
          "execution_count": 167
        }
      ]
    },
    {
      "cell_type": "markdown",
      "metadata": {
        "colab_type": "text",
        "id": "RKQWuVgMG3DW"
      },
      "source": [
        "## <font color='blue'>Exemplo: Delivery</font>"
      ]
    },
    {
      "cell_type": "markdown",
      "metadata": {
        "colab_type": "text",
        "id": "ZKc__49bG3DX"
      },
      "source": [
        "Um restaurante recebe em média **20 pedidos por hora**. Qual a chance de que, em determinada hora escolhida ao acaso, o restaurante receba **15 pedidos**?"
      ]
    },
    {
      "cell_type": "markdown",
      "metadata": {
        "colab_type": "text",
        "id": "W-MJ4XBkG3DX"
      },
      "source": [
        "### Qual o número médio de ocorrências por hora ($\\mu$)?"
      ]
    },
    {
      "cell_type": "code",
      "metadata": {
        "colab_type": "code",
        "id": "2fVfJxdSG3DY",
        "outputId": "6557d98f-ef6c-4ee4-d2d9-2a40ffae020f",
        "colab": {
          "base_uri": "https://localhost:8080/",
          "height": 34
        }
      },
      "source": [
        "media = 20\n",
        "media"
      ],
      "execution_count": 168,
      "outputs": [
        {
          "output_type": "execute_result",
          "data": {
            "text/plain": [
              "20"
            ]
          },
          "metadata": {
            "tags": []
          },
          "execution_count": 168
        }
      ]
    },
    {
      "cell_type": "markdown",
      "metadata": {
        "colab_type": "text",
        "id": "3SagRtPvG3Da"
      },
      "source": [
        "### Qual o número de ocorrências que queremos obter no período ($k$)?"
      ]
    },
    {
      "cell_type": "code",
      "metadata": {
        "colab_type": "code",
        "id": "yXB3QhWyG3Da",
        "outputId": "96f11c41-b661-4452-d506-ce7054645f27",
        "colab": {
          "base_uri": "https://localhost:8080/",
          "height": 34
        }
      },
      "source": [
        "k = 15\n",
        "k\n"
      ],
      "execution_count": 169,
      "outputs": [
        {
          "output_type": "execute_result",
          "data": {
            "text/plain": [
              "15"
            ]
          },
          "metadata": {
            "tags": []
          },
          "execution_count": 169
        }
      ]
    },
    {
      "cell_type": "markdown",
      "metadata": {
        "colab_type": "text",
        "id": "3wFh3lFCG3De"
      },
      "source": [
        "### Solução 1"
      ]
    },
    {
      "cell_type": "code",
      "metadata": {
        "colab_type": "code",
        "id": "IEGO31WCG3Df",
        "outputId": "9bf556df-eeac-4409-a5b2-e0a94033034d",
        "colab": {
          "base_uri": "https://localhost:8080/",
          "height": 51
        }
      },
      "source": [
        "probabilidade = (np.e ** (-media)) * (media ** k) / (np.math.factorial(k))\n",
        "print ('%0.8f' % probabilidade)\n",
        "print"
      ],
      "execution_count": 170,
      "outputs": [
        {
          "output_type": "stream",
          "text": [
            "0.05164885\n"
          ],
          "name": "stdout"
        },
        {
          "output_type": "execute_result",
          "data": {
            "text/plain": [
              "<function print>"
            ]
          },
          "metadata": {
            "tags": []
          },
          "execution_count": 170
        }
      ]
    },
    {
      "cell_type": "markdown",
      "metadata": {
        "colab_type": "text",
        "id": "GoIBvH62G3Di"
      },
      "source": [
        "### Importando bibliotecas"
      ]
    },
    {
      "cell_type": "markdown",
      "metadata": {
        "colab_type": "text",
        "id": "iFSF_9Y4G3Dj"
      },
      "source": [
        "https://docs.scipy.org/doc/scipy/reference/generated/scipy.stats.poisson.html"
      ]
    },
    {
      "cell_type": "markdown",
      "metadata": {
        "colab_type": "text",
        "id": "yAyXh0euG3Dk"
      },
      "source": [
        "### Solução 2"
      ]
    },
    {
      "cell_type": "code",
      "metadata": {
        "colab_type": "code",
        "id": "sNw4oCAyG3Dk",
        "outputId": "93313407-fb7f-4ec3-fc0e-9f93a53018fb",
        "colab": {
          "base_uri": "https://localhost:8080/",
          "height": 34
        }
      },
      "source": [
        "from scipy.stats import poisson\n",
        "\n",
        "probabilidade = poisson.pmf(k, media)\n",
        "print('%0.8f' % probabilidade)"
      ],
      "execution_count": 171,
      "outputs": [
        {
          "output_type": "stream",
          "text": [
            "0.05164885\n"
          ],
          "name": "stdout"
        }
      ]
    },
    {
      "cell_type": "markdown",
      "metadata": {
        "colab_type": "text",
        "id": "g3ng8tQFG3Do"
      },
      "source": [
        "---\n",
        "---"
      ]
    },
    {
      "cell_type": "markdown",
      "metadata": {
        "colab_type": "text",
        "id": "tVPUT9kEG3Dp"
      },
      "source": [
        "## <font color=red>Problema</font>\n",
        "***"
      ]
    },
    {
      "cell_type": "markdown",
      "metadata": {
        "colab_type": "text",
        "id": "j7zVDN0kG3Dq"
      },
      "source": [
        "Em um estudo sobre as alturas dos moradores de uma cidade verificou-se que o conjunto de dados segue uma **distribuição aproximadamente normal**, com **média 1,70** e **desvio padrão de 0,1**. Com estas informações obtenha o seguinte conjunto de probabilidades:\n",
        "\n",
        "> **A.** probabilidade de uma pessoa, selecionada ao acaso, ter menos de 1,80 metros.\n",
        "\n",
        "> **B.** probabilidade de uma pessoa, selecionada ao acaso, ter entre 1,60 metros e 1,80 metros.    \n",
        "\n",
        "> **C.** probabilidade de uma pessoa, selecionada ao acaso, ter mais de 1,90 metros."
      ]
    },
    {
      "cell_type": "markdown",
      "metadata": {
        "colab_type": "text",
        "id": "AowcVaKqpvf2"
      },
      "source": [
        "## <font color=green>2.3 Distribuição Normal</font>\n",
        "***"
      ]
    },
    {
      "cell_type": "markdown",
      "metadata": {
        "colab_type": "text",
        "id": "YOBD21hGG3Dw"
      },
      "source": [
        "A distribuição normal é uma das mais utilizadas em estatística. É uma distribuição contínua, onde a distribuição de frequências de uma variável quantitativa apresenta a forma de sino e é simétrica em relação a sua média."
      ]
    },
    {
      "cell_type": "markdown",
      "metadata": {
        "colab_type": "text",
        "id": "kbPy2ORqqKJA"
      },
      "source": [
        "![Normal](https://caelum-online-public.s3.amazonaws.com/1178-estatistica-parte2/01/img001.png)"
      ]
    },
    {
      "cell_type": "markdown",
      "metadata": {
        "colab_type": "text",
        "id": "J3eKESHTG3Dx"
      },
      "source": [
        "### Características importantes"
      ]
    },
    {
      "cell_type": "markdown",
      "metadata": {
        "colab_type": "text",
        "id": "z8GxAzWZG3Dx"
      },
      "source": [
        "1. É simétrica em torno da média;\n",
        "\n",
        "2. A área sob a curva corresponde à proporção 1 ou 100%;\n",
        "\n",
        "3. As medidas de tendência central (média, mediana e moda) apresentam o mesmo valor;\n",
        "\n",
        "4. Os extremos da curva tendem ao infinito em ambas as direções e, teoricamente, jamais tocam o eixo $x$;\n",
        "\n",
        "5. O desvio padrão define o achatamento e largura da distribuição. Curvas mais largas e mais achatadas apresentam valores maiores de desvio padrão;\n",
        "\n",
        "6. A distribuição é definida por sua média e desvio padrão;\n",
        "\n",
        "7. A probabilidade sempre será igual à área sob a curva, delimitada pelos limites inferior e superior."
      ]
    },
    {
      "cell_type": "markdown",
      "metadata": {
        "colab_type": "text",
        "id": "hoWLlOiwG3Dy"
      },
      "source": [
        "# $$f(x) = \\frac{1}{\\sqrt{2\\pi\\sigma}}e^{-\\frac{1}{2}\\left(\\frac{x-\\mu}{\\sigma}\\right)^2}$$\n",
        "\n",
        "Onde:\n",
        "\n",
        "$x$ = variável normal\n",
        "\n",
        "$\\sigma$ = desvio padrão\n",
        "\n",
        "$\\mu$ = média"
      ]
    },
    {
      "cell_type": "markdown",
      "metadata": {
        "colab_type": "text",
        "id": "8n03Z0VlG3Dz"
      },
      "source": [
        "A probabilidade é obtida a partir da área sob a curva, delimitada pelos limites inferior e superior especificados. Um exemplo pode ser visto na figura abaixo."
      ]
    },
    {
      "cell_type": "markdown",
      "metadata": {
        "colab_type": "text",
        "id": "X1UgmFoxG3Dz"
      },
      "source": [
        "![alt text](https://caelum-online-public.s3.amazonaws.com/1178-estatistica-parte2/01/img002.png)\n"
      ]
    },
    {
      "cell_type": "markdown",
      "metadata": {
        "colab_type": "text",
        "id": "rtKiApHLG3D0"
      },
      "source": [
        "Para obter a área acima basta calcular a integral da função para os intervalos determinados. Conforme equação abaixo:"
      ]
    },
    {
      "cell_type": "markdown",
      "metadata": {
        "colab_type": "text",
        "id": "0r_9CbSOG3D0"
      },
      "source": [
        "# $$P(L_i<x<L_s) = \\int_{L_i}^{L_s}\\frac{1}{\\sqrt{2\\pi\\sigma}}e^{-\\frac{1}{2}\\left(\\frac{x-\\mu}{\\sigma}\\right)^2}$$\n",
        "\n",
        "Onde:\n",
        "\n",
        "$x$ = variável normal\n",
        "\n",
        "$\\sigma$ = desvio padrão\n",
        "\n",
        "$\\mu$ = média\n",
        "\n",
        "$L_i$ = limite inferior\n",
        "\n",
        "$L_s$ = limite superior"
      ]
    },
    {
      "cell_type": "markdown",
      "metadata": {
        "colab_type": "text",
        "id": "qP-Ye-leG3D1"
      },
      "source": [
        "### Tabelas padronizadas"
      ]
    },
    {
      "cell_type": "markdown",
      "metadata": {
        "colab_type": "text",
        "id": "Z1VnLK11G3D1"
      },
      "source": [
        "As tabelas padronizadas foram criadas para facilitar a obtenção dos valores das áreas sob a curva normal e eliminar a necessidade de solucionar integrais definidas.\n",
        "\n",
        "Para consultarmos os valores em uma tabela padronizada basta transformarmos nossa variável em uma variável padronizada $Z$.\n",
        "\n",
        "Esta variável $Z$ representa o afastamento em desvios padrões de um valor da variável original em relação à média."
      ]
    },
    {
      "cell_type": "markdown",
      "metadata": {
        "colab_type": "text",
        "id": "HJcdgdsgG3D2"
      },
      "source": [
        "# $$Z = \\frac{x-\\mu}{\\sigma}$$\n",
        "\n",
        "Onde:\n",
        "\n",
        "$x$ = variável normal com média $\\mu$ e desvio padrão $\\sigma$\n",
        "\n",
        "$\\sigma$ = desvio padrão\n",
        "\n",
        "$\\mu$ = média"
      ]
    },
    {
      "cell_type": "markdown",
      "metadata": {
        "colab_type": "text",
        "id": "hUrVKJH3G3D2"
      },
      "source": [
        "### Construindo tabela normal padronizada\n",
        "https://docs.scipy.org/doc/scipy/reference/generated/scipy.stats.norm.html"
      ]
    },
    {
      "cell_type": "code",
      "metadata": {
        "colab_type": "code",
        "id": "7SudUNlcG3D4",
        "outputId": "4e935612-396f-455c-808f-91deeb6ef41b",
        "colab": {
          "base_uri": "https://localhost:8080/",
          "height": 1000
        }
      },
      "source": [
        "import pandas as pd\n",
        "import numpy as np\n",
        "from scipy.stats import norm\n",
        "\n",
        "tabela_normal_padronizada = pd.DataFrame(\n",
        "    [], \n",
        "    index=[\"{0:0.2f}\".format(i / 100) for i in range(0, 400, 10)],\n",
        "    columns = [\"{0:0.2f}\".format(i / 100) for i in range(0, 10)])\n",
        "\n",
        "for index in tabela_normal_padronizada.index:\n",
        "    for column in tabela_normal_padronizada.columns:\n",
        "        Z = np.round(float(index) + float(column), 2)\n",
        "        tabela_normal_padronizada.loc[index, column] = \"{0:0.4f}\".format(norm.cdf(Z))\n",
        "\n",
        "tabela_normal_padronizada.rename_axis('Z', axis = 'columns', inplace = True)\n",
        "\n",
        "tabela_normal_padronizada"
      ],
      "execution_count": 172,
      "outputs": [
        {
          "output_type": "execute_result",
          "data": {
            "text/html": [
              "<div>\n",
              "<style scoped>\n",
              "    .dataframe tbody tr th:only-of-type {\n",
              "        vertical-align: middle;\n",
              "    }\n",
              "\n",
              "    .dataframe tbody tr th {\n",
              "        vertical-align: top;\n",
              "    }\n",
              "\n",
              "    .dataframe thead th {\n",
              "        text-align: right;\n",
              "    }\n",
              "</style>\n",
              "<table border=\"1\" class=\"dataframe\">\n",
              "  <thead>\n",
              "    <tr style=\"text-align: right;\">\n",
              "      <th>Z</th>\n",
              "      <th>0.00</th>\n",
              "      <th>0.01</th>\n",
              "      <th>0.02</th>\n",
              "      <th>0.03</th>\n",
              "      <th>0.04</th>\n",
              "      <th>0.05</th>\n",
              "      <th>0.06</th>\n",
              "      <th>0.07</th>\n",
              "      <th>0.08</th>\n",
              "      <th>0.09</th>\n",
              "    </tr>\n",
              "  </thead>\n",
              "  <tbody>\n",
              "    <tr>\n",
              "      <th>0.00</th>\n",
              "      <td>0.5000</td>\n",
              "      <td>0.5040</td>\n",
              "      <td>0.5080</td>\n",
              "      <td>0.5120</td>\n",
              "      <td>0.5160</td>\n",
              "      <td>0.5199</td>\n",
              "      <td>0.5239</td>\n",
              "      <td>0.5279</td>\n",
              "      <td>0.5319</td>\n",
              "      <td>0.5359</td>\n",
              "    </tr>\n",
              "    <tr>\n",
              "      <th>0.10</th>\n",
              "      <td>0.5398</td>\n",
              "      <td>0.5438</td>\n",
              "      <td>0.5478</td>\n",
              "      <td>0.5517</td>\n",
              "      <td>0.5557</td>\n",
              "      <td>0.5596</td>\n",
              "      <td>0.5636</td>\n",
              "      <td>0.5675</td>\n",
              "      <td>0.5714</td>\n",
              "      <td>0.5753</td>\n",
              "    </tr>\n",
              "    <tr>\n",
              "      <th>0.20</th>\n",
              "      <td>0.5793</td>\n",
              "      <td>0.5832</td>\n",
              "      <td>0.5871</td>\n",
              "      <td>0.5910</td>\n",
              "      <td>0.5948</td>\n",
              "      <td>0.5987</td>\n",
              "      <td>0.6026</td>\n",
              "      <td>0.6064</td>\n",
              "      <td>0.6103</td>\n",
              "      <td>0.6141</td>\n",
              "    </tr>\n",
              "    <tr>\n",
              "      <th>0.30</th>\n",
              "      <td>0.6179</td>\n",
              "      <td>0.6217</td>\n",
              "      <td>0.6255</td>\n",
              "      <td>0.6293</td>\n",
              "      <td>0.6331</td>\n",
              "      <td>0.6368</td>\n",
              "      <td>0.6406</td>\n",
              "      <td>0.6443</td>\n",
              "      <td>0.6480</td>\n",
              "      <td>0.6517</td>\n",
              "    </tr>\n",
              "    <tr>\n",
              "      <th>0.40</th>\n",
              "      <td>0.6554</td>\n",
              "      <td>0.6591</td>\n",
              "      <td>0.6628</td>\n",
              "      <td>0.6664</td>\n",
              "      <td>0.6700</td>\n",
              "      <td>0.6736</td>\n",
              "      <td>0.6772</td>\n",
              "      <td>0.6808</td>\n",
              "      <td>0.6844</td>\n",
              "      <td>0.6879</td>\n",
              "    </tr>\n",
              "    <tr>\n",
              "      <th>0.50</th>\n",
              "      <td>0.6915</td>\n",
              "      <td>0.6950</td>\n",
              "      <td>0.6985</td>\n",
              "      <td>0.7019</td>\n",
              "      <td>0.7054</td>\n",
              "      <td>0.7088</td>\n",
              "      <td>0.7123</td>\n",
              "      <td>0.7157</td>\n",
              "      <td>0.7190</td>\n",
              "      <td>0.7224</td>\n",
              "    </tr>\n",
              "    <tr>\n",
              "      <th>0.60</th>\n",
              "      <td>0.7257</td>\n",
              "      <td>0.7291</td>\n",
              "      <td>0.7324</td>\n",
              "      <td>0.7357</td>\n",
              "      <td>0.7389</td>\n",
              "      <td>0.7422</td>\n",
              "      <td>0.7454</td>\n",
              "      <td>0.7486</td>\n",
              "      <td>0.7517</td>\n",
              "      <td>0.7549</td>\n",
              "    </tr>\n",
              "    <tr>\n",
              "      <th>0.70</th>\n",
              "      <td>0.7580</td>\n",
              "      <td>0.7611</td>\n",
              "      <td>0.7642</td>\n",
              "      <td>0.7673</td>\n",
              "      <td>0.7704</td>\n",
              "      <td>0.7734</td>\n",
              "      <td>0.7764</td>\n",
              "      <td>0.7794</td>\n",
              "      <td>0.7823</td>\n",
              "      <td>0.7852</td>\n",
              "    </tr>\n",
              "    <tr>\n",
              "      <th>0.80</th>\n",
              "      <td>0.7881</td>\n",
              "      <td>0.7910</td>\n",
              "      <td>0.7939</td>\n",
              "      <td>0.7967</td>\n",
              "      <td>0.7995</td>\n",
              "      <td>0.8023</td>\n",
              "      <td>0.8051</td>\n",
              "      <td>0.8078</td>\n",
              "      <td>0.8106</td>\n",
              "      <td>0.8133</td>\n",
              "    </tr>\n",
              "    <tr>\n",
              "      <th>0.90</th>\n",
              "      <td>0.8159</td>\n",
              "      <td>0.8186</td>\n",
              "      <td>0.8212</td>\n",
              "      <td>0.8238</td>\n",
              "      <td>0.8264</td>\n",
              "      <td>0.8289</td>\n",
              "      <td>0.8315</td>\n",
              "      <td>0.8340</td>\n",
              "      <td>0.8365</td>\n",
              "      <td>0.8389</td>\n",
              "    </tr>\n",
              "    <tr>\n",
              "      <th>1.00</th>\n",
              "      <td>0.8413</td>\n",
              "      <td>0.8438</td>\n",
              "      <td>0.8461</td>\n",
              "      <td>0.8485</td>\n",
              "      <td>0.8508</td>\n",
              "      <td>0.8531</td>\n",
              "      <td>0.8554</td>\n",
              "      <td>0.8577</td>\n",
              "      <td>0.8599</td>\n",
              "      <td>0.8621</td>\n",
              "    </tr>\n",
              "    <tr>\n",
              "      <th>1.10</th>\n",
              "      <td>0.8643</td>\n",
              "      <td>0.8665</td>\n",
              "      <td>0.8686</td>\n",
              "      <td>0.8708</td>\n",
              "      <td>0.8729</td>\n",
              "      <td>0.8749</td>\n",
              "      <td>0.8770</td>\n",
              "      <td>0.8790</td>\n",
              "      <td>0.8810</td>\n",
              "      <td>0.8830</td>\n",
              "    </tr>\n",
              "    <tr>\n",
              "      <th>1.20</th>\n",
              "      <td>0.8849</td>\n",
              "      <td>0.8869</td>\n",
              "      <td>0.8888</td>\n",
              "      <td>0.8907</td>\n",
              "      <td>0.8925</td>\n",
              "      <td>0.8944</td>\n",
              "      <td>0.8962</td>\n",
              "      <td>0.8980</td>\n",
              "      <td>0.8997</td>\n",
              "      <td>0.9015</td>\n",
              "    </tr>\n",
              "    <tr>\n",
              "      <th>1.30</th>\n",
              "      <td>0.9032</td>\n",
              "      <td>0.9049</td>\n",
              "      <td>0.9066</td>\n",
              "      <td>0.9082</td>\n",
              "      <td>0.9099</td>\n",
              "      <td>0.9115</td>\n",
              "      <td>0.9131</td>\n",
              "      <td>0.9147</td>\n",
              "      <td>0.9162</td>\n",
              "      <td>0.9177</td>\n",
              "    </tr>\n",
              "    <tr>\n",
              "      <th>1.40</th>\n",
              "      <td>0.9192</td>\n",
              "      <td>0.9207</td>\n",
              "      <td>0.9222</td>\n",
              "      <td>0.9236</td>\n",
              "      <td>0.9251</td>\n",
              "      <td>0.9265</td>\n",
              "      <td>0.9279</td>\n",
              "      <td>0.9292</td>\n",
              "      <td>0.9306</td>\n",
              "      <td>0.9319</td>\n",
              "    </tr>\n",
              "    <tr>\n",
              "      <th>1.50</th>\n",
              "      <td>0.9332</td>\n",
              "      <td>0.9345</td>\n",
              "      <td>0.9357</td>\n",
              "      <td>0.9370</td>\n",
              "      <td>0.9382</td>\n",
              "      <td>0.9394</td>\n",
              "      <td>0.9406</td>\n",
              "      <td>0.9418</td>\n",
              "      <td>0.9429</td>\n",
              "      <td>0.9441</td>\n",
              "    </tr>\n",
              "    <tr>\n",
              "      <th>1.60</th>\n",
              "      <td>0.9452</td>\n",
              "      <td>0.9463</td>\n",
              "      <td>0.9474</td>\n",
              "      <td>0.9484</td>\n",
              "      <td>0.9495</td>\n",
              "      <td>0.9505</td>\n",
              "      <td>0.9515</td>\n",
              "      <td>0.9525</td>\n",
              "      <td>0.9535</td>\n",
              "      <td>0.9545</td>\n",
              "    </tr>\n",
              "    <tr>\n",
              "      <th>1.70</th>\n",
              "      <td>0.9554</td>\n",
              "      <td>0.9564</td>\n",
              "      <td>0.9573</td>\n",
              "      <td>0.9582</td>\n",
              "      <td>0.9591</td>\n",
              "      <td>0.9599</td>\n",
              "      <td>0.9608</td>\n",
              "      <td>0.9616</td>\n",
              "      <td>0.9625</td>\n",
              "      <td>0.9633</td>\n",
              "    </tr>\n",
              "    <tr>\n",
              "      <th>1.80</th>\n",
              "      <td>0.9641</td>\n",
              "      <td>0.9649</td>\n",
              "      <td>0.9656</td>\n",
              "      <td>0.9664</td>\n",
              "      <td>0.9671</td>\n",
              "      <td>0.9678</td>\n",
              "      <td>0.9686</td>\n",
              "      <td>0.9693</td>\n",
              "      <td>0.9699</td>\n",
              "      <td>0.9706</td>\n",
              "    </tr>\n",
              "    <tr>\n",
              "      <th>1.90</th>\n",
              "      <td>0.9713</td>\n",
              "      <td>0.9719</td>\n",
              "      <td>0.9726</td>\n",
              "      <td>0.9732</td>\n",
              "      <td>0.9738</td>\n",
              "      <td>0.9744</td>\n",
              "      <td>0.9750</td>\n",
              "      <td>0.9756</td>\n",
              "      <td>0.9761</td>\n",
              "      <td>0.9767</td>\n",
              "    </tr>\n",
              "    <tr>\n",
              "      <th>2.00</th>\n",
              "      <td>0.9772</td>\n",
              "      <td>0.9778</td>\n",
              "      <td>0.9783</td>\n",
              "      <td>0.9788</td>\n",
              "      <td>0.9793</td>\n",
              "      <td>0.9798</td>\n",
              "      <td>0.9803</td>\n",
              "      <td>0.9808</td>\n",
              "      <td>0.9812</td>\n",
              "      <td>0.9817</td>\n",
              "    </tr>\n",
              "    <tr>\n",
              "      <th>2.10</th>\n",
              "      <td>0.9821</td>\n",
              "      <td>0.9826</td>\n",
              "      <td>0.9830</td>\n",
              "      <td>0.9834</td>\n",
              "      <td>0.9838</td>\n",
              "      <td>0.9842</td>\n",
              "      <td>0.9846</td>\n",
              "      <td>0.9850</td>\n",
              "      <td>0.9854</td>\n",
              "      <td>0.9857</td>\n",
              "    </tr>\n",
              "    <tr>\n",
              "      <th>2.20</th>\n",
              "      <td>0.9861</td>\n",
              "      <td>0.9864</td>\n",
              "      <td>0.9868</td>\n",
              "      <td>0.9871</td>\n",
              "      <td>0.9875</td>\n",
              "      <td>0.9878</td>\n",
              "      <td>0.9881</td>\n",
              "      <td>0.9884</td>\n",
              "      <td>0.9887</td>\n",
              "      <td>0.9890</td>\n",
              "    </tr>\n",
              "    <tr>\n",
              "      <th>2.30</th>\n",
              "      <td>0.9893</td>\n",
              "      <td>0.9896</td>\n",
              "      <td>0.9898</td>\n",
              "      <td>0.9901</td>\n",
              "      <td>0.9904</td>\n",
              "      <td>0.9906</td>\n",
              "      <td>0.9909</td>\n",
              "      <td>0.9911</td>\n",
              "      <td>0.9913</td>\n",
              "      <td>0.9916</td>\n",
              "    </tr>\n",
              "    <tr>\n",
              "      <th>2.40</th>\n",
              "      <td>0.9918</td>\n",
              "      <td>0.9920</td>\n",
              "      <td>0.9922</td>\n",
              "      <td>0.9925</td>\n",
              "      <td>0.9927</td>\n",
              "      <td>0.9929</td>\n",
              "      <td>0.9931</td>\n",
              "      <td>0.9932</td>\n",
              "      <td>0.9934</td>\n",
              "      <td>0.9936</td>\n",
              "    </tr>\n",
              "    <tr>\n",
              "      <th>2.50</th>\n",
              "      <td>0.9938</td>\n",
              "      <td>0.9940</td>\n",
              "      <td>0.9941</td>\n",
              "      <td>0.9943</td>\n",
              "      <td>0.9945</td>\n",
              "      <td>0.9946</td>\n",
              "      <td>0.9948</td>\n",
              "      <td>0.9949</td>\n",
              "      <td>0.9951</td>\n",
              "      <td>0.9952</td>\n",
              "    </tr>\n",
              "    <tr>\n",
              "      <th>2.60</th>\n",
              "      <td>0.9953</td>\n",
              "      <td>0.9955</td>\n",
              "      <td>0.9956</td>\n",
              "      <td>0.9957</td>\n",
              "      <td>0.9959</td>\n",
              "      <td>0.9960</td>\n",
              "      <td>0.9961</td>\n",
              "      <td>0.9962</td>\n",
              "      <td>0.9963</td>\n",
              "      <td>0.9964</td>\n",
              "    </tr>\n",
              "    <tr>\n",
              "      <th>2.70</th>\n",
              "      <td>0.9965</td>\n",
              "      <td>0.9966</td>\n",
              "      <td>0.9967</td>\n",
              "      <td>0.9968</td>\n",
              "      <td>0.9969</td>\n",
              "      <td>0.9970</td>\n",
              "      <td>0.9971</td>\n",
              "      <td>0.9972</td>\n",
              "      <td>0.9973</td>\n",
              "      <td>0.9974</td>\n",
              "    </tr>\n",
              "    <tr>\n",
              "      <th>2.80</th>\n",
              "      <td>0.9974</td>\n",
              "      <td>0.9975</td>\n",
              "      <td>0.9976</td>\n",
              "      <td>0.9977</td>\n",
              "      <td>0.9977</td>\n",
              "      <td>0.9978</td>\n",
              "      <td>0.9979</td>\n",
              "      <td>0.9979</td>\n",
              "      <td>0.9980</td>\n",
              "      <td>0.9981</td>\n",
              "    </tr>\n",
              "    <tr>\n",
              "      <th>2.90</th>\n",
              "      <td>0.9981</td>\n",
              "      <td>0.9982</td>\n",
              "      <td>0.9982</td>\n",
              "      <td>0.9983</td>\n",
              "      <td>0.9984</td>\n",
              "      <td>0.9984</td>\n",
              "      <td>0.9985</td>\n",
              "      <td>0.9985</td>\n",
              "      <td>0.9986</td>\n",
              "      <td>0.9986</td>\n",
              "    </tr>\n",
              "    <tr>\n",
              "      <th>3.00</th>\n",
              "      <td>0.9987</td>\n",
              "      <td>0.9987</td>\n",
              "      <td>0.9987</td>\n",
              "      <td>0.9988</td>\n",
              "      <td>0.9988</td>\n",
              "      <td>0.9989</td>\n",
              "      <td>0.9989</td>\n",
              "      <td>0.9989</td>\n",
              "      <td>0.9990</td>\n",
              "      <td>0.9990</td>\n",
              "    </tr>\n",
              "    <tr>\n",
              "      <th>3.10</th>\n",
              "      <td>0.9990</td>\n",
              "      <td>0.9991</td>\n",
              "      <td>0.9991</td>\n",
              "      <td>0.9991</td>\n",
              "      <td>0.9992</td>\n",
              "      <td>0.9992</td>\n",
              "      <td>0.9992</td>\n",
              "      <td>0.9992</td>\n",
              "      <td>0.9993</td>\n",
              "      <td>0.9993</td>\n",
              "    </tr>\n",
              "    <tr>\n",
              "      <th>3.20</th>\n",
              "      <td>0.9993</td>\n",
              "      <td>0.9993</td>\n",
              "      <td>0.9994</td>\n",
              "      <td>0.9994</td>\n",
              "      <td>0.9994</td>\n",
              "      <td>0.9994</td>\n",
              "      <td>0.9994</td>\n",
              "      <td>0.9995</td>\n",
              "      <td>0.9995</td>\n",
              "      <td>0.9995</td>\n",
              "    </tr>\n",
              "    <tr>\n",
              "      <th>3.30</th>\n",
              "      <td>0.9995</td>\n",
              "      <td>0.9995</td>\n",
              "      <td>0.9995</td>\n",
              "      <td>0.9996</td>\n",
              "      <td>0.9996</td>\n",
              "      <td>0.9996</td>\n",
              "      <td>0.9996</td>\n",
              "      <td>0.9996</td>\n",
              "      <td>0.9996</td>\n",
              "      <td>0.9997</td>\n",
              "    </tr>\n",
              "    <tr>\n",
              "      <th>3.40</th>\n",
              "      <td>0.9997</td>\n",
              "      <td>0.9997</td>\n",
              "      <td>0.9997</td>\n",
              "      <td>0.9997</td>\n",
              "      <td>0.9997</td>\n",
              "      <td>0.9997</td>\n",
              "      <td>0.9997</td>\n",
              "      <td>0.9997</td>\n",
              "      <td>0.9997</td>\n",
              "      <td>0.9998</td>\n",
              "    </tr>\n",
              "    <tr>\n",
              "      <th>3.50</th>\n",
              "      <td>0.9998</td>\n",
              "      <td>0.9998</td>\n",
              "      <td>0.9998</td>\n",
              "      <td>0.9998</td>\n",
              "      <td>0.9998</td>\n",
              "      <td>0.9998</td>\n",
              "      <td>0.9998</td>\n",
              "      <td>0.9998</td>\n",
              "      <td>0.9998</td>\n",
              "      <td>0.9998</td>\n",
              "    </tr>\n",
              "    <tr>\n",
              "      <th>3.60</th>\n",
              "      <td>0.9998</td>\n",
              "      <td>0.9998</td>\n",
              "      <td>0.9999</td>\n",
              "      <td>0.9999</td>\n",
              "      <td>0.9999</td>\n",
              "      <td>0.9999</td>\n",
              "      <td>0.9999</td>\n",
              "      <td>0.9999</td>\n",
              "      <td>0.9999</td>\n",
              "      <td>0.9999</td>\n",
              "    </tr>\n",
              "    <tr>\n",
              "      <th>3.70</th>\n",
              "      <td>0.9999</td>\n",
              "      <td>0.9999</td>\n",
              "      <td>0.9999</td>\n",
              "      <td>0.9999</td>\n",
              "      <td>0.9999</td>\n",
              "      <td>0.9999</td>\n",
              "      <td>0.9999</td>\n",
              "      <td>0.9999</td>\n",
              "      <td>0.9999</td>\n",
              "      <td>0.9999</td>\n",
              "    </tr>\n",
              "    <tr>\n",
              "      <th>3.80</th>\n",
              "      <td>0.9999</td>\n",
              "      <td>0.9999</td>\n",
              "      <td>0.9999</td>\n",
              "      <td>0.9999</td>\n",
              "      <td>0.9999</td>\n",
              "      <td>0.9999</td>\n",
              "      <td>0.9999</td>\n",
              "      <td>0.9999</td>\n",
              "      <td>0.9999</td>\n",
              "      <td>0.9999</td>\n",
              "    </tr>\n",
              "    <tr>\n",
              "      <th>3.90</th>\n",
              "      <td>1.0000</td>\n",
              "      <td>1.0000</td>\n",
              "      <td>1.0000</td>\n",
              "      <td>1.0000</td>\n",
              "      <td>1.0000</td>\n",
              "      <td>1.0000</td>\n",
              "      <td>1.0000</td>\n",
              "      <td>1.0000</td>\n",
              "      <td>1.0000</td>\n",
              "      <td>1.0000</td>\n",
              "    </tr>\n",
              "  </tbody>\n",
              "</table>\n",
              "</div>"
            ],
            "text/plain": [
              "Z       0.00    0.01    0.02    0.03  ...    0.06    0.07    0.08    0.09\n",
              "0.00  0.5000  0.5040  0.5080  0.5120  ...  0.5239  0.5279  0.5319  0.5359\n",
              "0.10  0.5398  0.5438  0.5478  0.5517  ...  0.5636  0.5675  0.5714  0.5753\n",
              "0.20  0.5793  0.5832  0.5871  0.5910  ...  0.6026  0.6064  0.6103  0.6141\n",
              "0.30  0.6179  0.6217  0.6255  0.6293  ...  0.6406  0.6443  0.6480  0.6517\n",
              "0.40  0.6554  0.6591  0.6628  0.6664  ...  0.6772  0.6808  0.6844  0.6879\n",
              "0.50  0.6915  0.6950  0.6985  0.7019  ...  0.7123  0.7157  0.7190  0.7224\n",
              "0.60  0.7257  0.7291  0.7324  0.7357  ...  0.7454  0.7486  0.7517  0.7549\n",
              "0.70  0.7580  0.7611  0.7642  0.7673  ...  0.7764  0.7794  0.7823  0.7852\n",
              "0.80  0.7881  0.7910  0.7939  0.7967  ...  0.8051  0.8078  0.8106  0.8133\n",
              "0.90  0.8159  0.8186  0.8212  0.8238  ...  0.8315  0.8340  0.8365  0.8389\n",
              "1.00  0.8413  0.8438  0.8461  0.8485  ...  0.8554  0.8577  0.8599  0.8621\n",
              "1.10  0.8643  0.8665  0.8686  0.8708  ...  0.8770  0.8790  0.8810  0.8830\n",
              "1.20  0.8849  0.8869  0.8888  0.8907  ...  0.8962  0.8980  0.8997  0.9015\n",
              "1.30  0.9032  0.9049  0.9066  0.9082  ...  0.9131  0.9147  0.9162  0.9177\n",
              "1.40  0.9192  0.9207  0.9222  0.9236  ...  0.9279  0.9292  0.9306  0.9319\n",
              "1.50  0.9332  0.9345  0.9357  0.9370  ...  0.9406  0.9418  0.9429  0.9441\n",
              "1.60  0.9452  0.9463  0.9474  0.9484  ...  0.9515  0.9525  0.9535  0.9545\n",
              "1.70  0.9554  0.9564  0.9573  0.9582  ...  0.9608  0.9616  0.9625  0.9633\n",
              "1.80  0.9641  0.9649  0.9656  0.9664  ...  0.9686  0.9693  0.9699  0.9706\n",
              "1.90  0.9713  0.9719  0.9726  0.9732  ...  0.9750  0.9756  0.9761  0.9767\n",
              "2.00  0.9772  0.9778  0.9783  0.9788  ...  0.9803  0.9808  0.9812  0.9817\n",
              "2.10  0.9821  0.9826  0.9830  0.9834  ...  0.9846  0.9850  0.9854  0.9857\n",
              "2.20  0.9861  0.9864  0.9868  0.9871  ...  0.9881  0.9884  0.9887  0.9890\n",
              "2.30  0.9893  0.9896  0.9898  0.9901  ...  0.9909  0.9911  0.9913  0.9916\n",
              "2.40  0.9918  0.9920  0.9922  0.9925  ...  0.9931  0.9932  0.9934  0.9936\n",
              "2.50  0.9938  0.9940  0.9941  0.9943  ...  0.9948  0.9949  0.9951  0.9952\n",
              "2.60  0.9953  0.9955  0.9956  0.9957  ...  0.9961  0.9962  0.9963  0.9964\n",
              "2.70  0.9965  0.9966  0.9967  0.9968  ...  0.9971  0.9972  0.9973  0.9974\n",
              "2.80  0.9974  0.9975  0.9976  0.9977  ...  0.9979  0.9979  0.9980  0.9981\n",
              "2.90  0.9981  0.9982  0.9982  0.9983  ...  0.9985  0.9985  0.9986  0.9986\n",
              "3.00  0.9987  0.9987  0.9987  0.9988  ...  0.9989  0.9989  0.9990  0.9990\n",
              "3.10  0.9990  0.9991  0.9991  0.9991  ...  0.9992  0.9992  0.9993  0.9993\n",
              "3.20  0.9993  0.9993  0.9994  0.9994  ...  0.9994  0.9995  0.9995  0.9995\n",
              "3.30  0.9995  0.9995  0.9995  0.9996  ...  0.9996  0.9996  0.9996  0.9997\n",
              "3.40  0.9997  0.9997  0.9997  0.9997  ...  0.9997  0.9997  0.9997  0.9998\n",
              "3.50  0.9998  0.9998  0.9998  0.9998  ...  0.9998  0.9998  0.9998  0.9998\n",
              "3.60  0.9998  0.9998  0.9999  0.9999  ...  0.9999  0.9999  0.9999  0.9999\n",
              "3.70  0.9999  0.9999  0.9999  0.9999  ...  0.9999  0.9999  0.9999  0.9999\n",
              "3.80  0.9999  0.9999  0.9999  0.9999  ...  0.9999  0.9999  0.9999  0.9999\n",
              "3.90  1.0000  1.0000  1.0000  1.0000  ...  1.0000  1.0000  1.0000  1.0000\n",
              "\n",
              "[40 rows x 10 columns]"
            ]
          },
          "metadata": {
            "tags": []
          },
          "execution_count": 172
        }
      ]
    },
    {
      "cell_type": "markdown",
      "metadata": {
        "colab_type": "text",
        "id": "XHYeMaN3G3D9"
      },
      "source": [
        "<img src='https://caelum-online-public.s3.amazonaws.com/1178-estatistica-parte2/01/img003.png' width='250px'>\n",
        "\n",
        "A tabela acima fornece a área sob a curva entre $-\\infty$ e $Z$ desvios padrão acima da média. Lembrando que por se tratar de valores padronizados temos $\\mu = 0$."
      ]
    },
    {
      "cell_type": "markdown",
      "metadata": {
        "colab_type": "text",
        "id": "Bs-KyZAJG3D-"
      },
      "source": [
        "## <font color='blue'>Exemplo: Qual sua altura?</font>"
      ]
    },
    {
      "cell_type": "markdown",
      "metadata": {
        "colab_type": "text",
        "id": "8PFIjXejG3EA"
      },
      "source": [
        "Em um estudo sobre as alturas dos moradores de uma cidade verificou-se que o conjunto de dados segue uma **distribuição aproximadamente normal**, com **média 1,70** e **desvio padrão de 0,1**. Com estas informações obtenha o seguinte conjunto de probabilidades:\n",
        "\n",
        "> **A.** probabilidade de uma pessoa, selecionada ao acaso, ter menos de 1,80 metros.\n",
        "\n",
        "> **B.** probabilidade de uma pessoa, selecionada ao acaso, ter entre 1,60 metros e 1,80 metros.    \n",
        "\n",
        "> **C.** probabilidade de uma pessoa, selecionada ao acaso, ter mais de 1,90 metros."
      ]
    },
    {
      "cell_type": "markdown",
      "metadata": {
        "colab_type": "text",
        "id": "aHpZLwt1G3EC"
      },
      "source": [
        "### Problema A - Identificação da área sob a curva"
      ]
    },
    {
      "cell_type": "markdown",
      "metadata": {
        "colab_type": "text",
        "id": "V1eC7tydG3EF"
      },
      "source": [
        "<img style='float: left' src='https://caelum-online-public.s3.amazonaws.com/1178-estatistica-parte2/01/img004.png' width='350px'>"
      ]
    },
    {
      "cell_type": "markdown",
      "metadata": {
        "colab_type": "text",
        "id": "X61wEuRrG3EI"
      },
      "source": [
        "### Obter a variável padronizada $Z$"
      ]
    },
    {
      "cell_type": "code",
      "metadata": {
        "colab_type": "code",
        "id": "gNSNIMvZG3EK",
        "colab": {}
      },
      "source": [
        "media = 1.7"
      ],
      "execution_count": 0,
      "outputs": []
    },
    {
      "cell_type": "code",
      "metadata": {
        "colab_type": "code",
        "id": "E_f2lycRG3ES",
        "outputId": "209685bc-37c9-44e2-8f99-a24494672f06",
        "colab": {
          "base_uri": "https://localhost:8080/",
          "height": 34
        }
      },
      "source": [
        "desvio_padrao = 0.1\n",
        "desvio_padrao"
      ],
      "execution_count": 174,
      "outputs": [
        {
          "output_type": "execute_result",
          "data": {
            "text/plain": [
              "0.1"
            ]
          },
          "metadata": {
            "tags": []
          },
          "execution_count": 174
        }
      ]
    },
    {
      "cell_type": "code",
      "metadata": {
        "colab_type": "code",
        "id": "xnsCkUb6G3EX",
        "outputId": "28819c8a-cf1f-4057-a711-908445b32a2d",
        "colab": {
          "base_uri": "https://localhost:8080/",
          "height": 34
        }
      },
      "source": [
        "z = (1.8 - media)/ desvio_padrao\n",
        "z"
      ],
      "execution_count": 175,
      "outputs": [
        {
          "output_type": "execute_result",
          "data": {
            "text/plain": [
              "1.0000000000000009"
            ]
          },
          "metadata": {
            "tags": []
          },
          "execution_count": 175
        }
      ]
    },
    {
      "cell_type": "markdown",
      "metadata": {
        "colab_type": "text",
        "id": "oj9sgHbkG3Eb"
      },
      "source": [
        "### Solução 1 - Utilizando tabela"
      ]
    },
    {
      "cell_type": "code",
      "metadata": {
        "colab_type": "code",
        "id": "ReDTH3WgG3Ec",
        "outputId": "886eab59-8a9d-42d8-862b-8af800409986",
        "colab": {
          "base_uri": "https://localhost:8080/",
          "height": 34
        }
      },
      "source": [
        "probabilidade = 0.8413\n",
        "probabilidade"
      ],
      "execution_count": 176,
      "outputs": [
        {
          "output_type": "execute_result",
          "data": {
            "text/plain": [
              "0.8413"
            ]
          },
          "metadata": {
            "tags": []
          },
          "execution_count": 176
        }
      ]
    },
    {
      "cell_type": "markdown",
      "metadata": {
        "colab_type": "text",
        "id": "4ud0OnQOG3Eh"
      },
      "source": [
        "### Solução 2 - Utilizando Scipy"
      ]
    },
    {
      "cell_type": "code",
      "metadata": {
        "colab_type": "code",
        "id": "sx7riZVlG3Ei",
        "outputId": "2c4b0ea6-b6d7-4a93-d8da-ced31f4c070a",
        "colab": {
          "base_uri": "https://localhost:8080/",
          "height": 34
        }
      },
      "source": [
        "from scipy.stats import norm\n",
        "norm.cdf(z)"
      ],
      "execution_count": 177,
      "outputs": [
        {
          "output_type": "execute_result",
          "data": {
            "text/plain": [
              "0.8413447460685431"
            ]
          },
          "metadata": {
            "tags": []
          },
          "execution_count": 177
        }
      ]
    },
    {
      "cell_type": "markdown",
      "metadata": {
        "colab_type": "text",
        "id": "ZsnMjGzJG3Ep"
      },
      "source": [
        "### Problema B - Identificação da área sob a curva"
      ]
    },
    {
      "cell_type": "markdown",
      "metadata": {
        "colab_type": "text",
        "id": "LN2HY-UCG3Ep"
      },
      "source": [
        "<img style='float: left' src='https://caelum-online-public.s3.amazonaws.com/1178-estatistica-parte2/01/img005.png' width='350px'>"
      ]
    },
    {
      "cell_type": "markdown",
      "metadata": {
        "colab_type": "text",
        "id": "FS6WNg88G3Eq"
      },
      "source": [
        "### Obter a variável padronizada $Z$"
      ]
    },
    {
      "cell_type": "code",
      "metadata": {
        "colab_type": "code",
        "id": "mxPsPIOYG3Er",
        "outputId": "145c1a70-3ce2-4a52-bf03-6ec06dcc0c9d",
        "colab": {
          "base_uri": "https://localhost:8080/",
          "height": 34
        }
      },
      "source": [
        " z = (1.7 - media)/ desvio_padrao\n",
        "z"
      ],
      "execution_count": 178,
      "outputs": [
        {
          "output_type": "execute_result",
          "data": {
            "text/plain": [
              "0.0"
            ]
          },
          "metadata": {
            "tags": []
          },
          "execution_count": 178
        }
      ]
    },
    {
      "cell_type": "code",
      "metadata": {
        "colab_type": "code",
        "id": "s0Vf0GXHG3Et",
        "outputId": "1a0e97c1-577d-4a2a-ca72-d4900d0a348e",
        "colab": {
          "base_uri": "https://localhost:8080/",
          "height": 34
        }
      },
      "source": [
        "z = (1.8 - media)/ desvio_padrao\n",
        "z"
      ],
      "execution_count": 179,
      "outputs": [
        {
          "output_type": "execute_result",
          "data": {
            "text/plain": [
              "1.0000000000000009"
            ]
          },
          "metadata": {
            "tags": []
          },
          "execution_count": 179
        }
      ]
    },
    {
      "cell_type": "markdown",
      "metadata": {
        "colab_type": "text",
        "id": "MseXjmZ7G3E0"
      },
      "source": [
        "### Solução 1 - Utilizando tabela"
      ]
    },
    {
      "cell_type": "code",
      "metadata": {
        "colab_type": "code",
        "id": "swZ6SVQGG3E0",
        "outputId": "6888675a-e00f-4140-bbf8-ef73ff94cb72",
        "colab": {
          "base_uri": "https://localhost:8080/",
          "height": 34
        }
      },
      "source": [
        "probabilidade = (0.8413 - 0.5)*2\n",
        "probabilidade"
      ],
      "execution_count": 180,
      "outputs": [
        {
          "output_type": "execute_result",
          "data": {
            "text/plain": [
              "0.6826000000000001"
            ]
          },
          "metadata": {
            "tags": []
          },
          "execution_count": 180
        }
      ]
    },
    {
      "cell_type": "markdown",
      "metadata": {
        "colab_type": "text",
        "id": "y5e4zAifG3E2"
      },
      "source": [
        "### Solução 2 - Utilizando Scipy"
      ]
    },
    {
      "cell_type": "code",
      "metadata": {
        "colab_type": "code",
        "id": "hcps6lkNG3E3",
        "outputId": "5a3426c9-a900-4a6a-a7df-815042b3e428",
        "colab": {
          "base_uri": "https://localhost:8080/",
          "height": 34
        }
      },
      "source": [
        "probabilidade = norm.cdf(z) - (1 - norm.cdf(z))\n",
        "probabilidade"
      ],
      "execution_count": 181,
      "outputs": [
        {
          "output_type": "execute_result",
          "data": {
            "text/plain": [
              "0.6826894921370863"
            ]
          },
          "metadata": {
            "tags": []
          },
          "execution_count": 181
        }
      ]
    },
    {
      "cell_type": "markdown",
      "metadata": {
        "colab_type": "text",
        "id": "05sqVgdaG3E-"
      },
      "source": [
        "### Problema C - Identificação da área sob a curva"
      ]
    },
    {
      "cell_type": "markdown",
      "metadata": {
        "colab_type": "text",
        "id": "EPKhGTEkG3E_"
      },
      "source": [
        "<img style='float: left' src='https://caelum-online-public.s3.amazonaws.com/1178-estatistica-parte2/01/img006.png' width='350px'>"
      ]
    },
    {
      "cell_type": "markdown",
      "metadata": {
        "colab_type": "text",
        "id": "BA6jYbsSG3E_"
      },
      "source": [
        "### Obter a variável padronizada $Z$"
      ]
    },
    {
      "cell_type": "code",
      "metadata": {
        "colab_type": "code",
        "id": "3OVj60MzG3E_",
        "outputId": "ee06d2bd-d480-42f6-edea-0fb85e2c462c",
        "colab": {
          "base_uri": "https://localhost:8080/",
          "height": 34
        }
      },
      "source": [
        "z = (1.9 - media)/desvio_padrao\n",
        "z"
      ],
      "execution_count": 182,
      "outputs": [
        {
          "output_type": "execute_result",
          "data": {
            "text/plain": [
              "1.9999999999999996"
            ]
          },
          "metadata": {
            "tags": []
          },
          "execution_count": 182
        }
      ]
    },
    {
      "cell_type": "markdown",
      "metadata": {
        "colab_type": "text",
        "id": "hCiiWAm_G3FC"
      },
      "source": [
        "### Solução 1 - Utilizando tabela"
      ]
    },
    {
      "cell_type": "code",
      "metadata": {
        "colab_type": "code",
        "id": "mSNfoO6VG3FC",
        "outputId": "dbb9229e-51fb-44da-c5b8-29efa46b1670",
        "colab": {
          "base_uri": "https://localhost:8080/",
          "height": 34
        }
      },
      "source": [
        "probabilidade = 1 - 0.9772\n",
        "probabilidade"
      ],
      "execution_count": 183,
      "outputs": [
        {
          "output_type": "execute_result",
          "data": {
            "text/plain": [
              "0.022800000000000042"
            ]
          },
          "metadata": {
            "tags": []
          },
          "execution_count": 183
        }
      ]
    },
    {
      "cell_type": "markdown",
      "metadata": {
        "colab_type": "text",
        "id": "QCyoVXOdG3FF"
      },
      "source": [
        "### Solução 2 - Utilizando Scipy"
      ]
    },
    {
      "cell_type": "code",
      "metadata": {
        "colab_type": "code",
        "id": "caIE-t83G3FF",
        "outputId": "f156b970-c5f4-4b6c-edfa-25a110008ae6",
        "colab": {
          "base_uri": "https://localhost:8080/",
          "height": 34
        }
      },
      "source": [
        "probabilidade = 1- norm.cdf(z)\n",
        "probabilidade"
      ],
      "execution_count": 184,
      "outputs": [
        {
          "output_type": "execute_result",
          "data": {
            "text/plain": [
              "0.02275013194817921"
            ]
          },
          "metadata": {
            "tags": []
          },
          "execution_count": 184
        }
      ]
    },
    {
      "cell_type": "code",
      "metadata": {
        "colab_type": "code",
        "id": "wKjqQGgMG3FI",
        "outputId": "8b174daf-1447-4ed9-ee5e-224edd996f9b",
        "colab": {
          "base_uri": "https://localhost:8080/",
          "height": 34
        }
      },
      "source": [
        "media = 720\n",
        "desvio_padrao = 30\n",
        "\n",
        "# Item A\n",
        "Z_inferior = (650 - media) / desvio_padrao\n",
        "Z_superior = (750 - media) / desvio_padrao\n",
        "\n",
        "probabilidade = norm.cdf(Z_superior) - norm.cdf(Z_inferior)\n",
        "print(\"{0:.2%}\".format(probabilidade))\n"
      ],
      "execution_count": 185,
      "outputs": [
        {
          "output_type": "stream",
          "text": [
            "83.15%\n"
          ],
          "name": "stdout"
        }
      ]
    },
    {
      "cell_type": "code",
      "metadata": {
        "id": "9RXAutQK1zl4",
        "colab_type": "code",
        "outputId": "ce546906-ecc2-4094-f3a6-47a14d47ac2b",
        "colab": {
          "base_uri": "https://localhost:8080/",
          "height": 34
        }
      },
      "source": [
        "Z = (800 - media) / desvio_padrao\n",
        "probabilidade = 1 - norm.cdf(Z)\n",
        "print(\"{0:.2%}\".format(probabilidade))"
      ],
      "execution_count": 186,
      "outputs": [
        {
          "output_type": "stream",
          "text": [
            "0.38%\n"
          ],
          "name": "stdout"
        }
      ]
    },
    {
      "cell_type": "code",
      "metadata": {
        "id": "hLzHT_W91vKc",
        "colab_type": "code",
        "outputId": "3250ae60-b58d-4609-a12a-f05a8cfa5a9e",
        "colab": {
          "base_uri": "https://localhost:8080/",
          "height": 34
        }
      },
      "source": [
        "Z = (700 - media) / desvio_padrao\n",
        "\n",
        "probabilidade = norm.cdf(Z) -1\n",
        "print(\"{0:.2%}\".format(probabilidade))"
      ],
      "execution_count": 187,
      "outputs": [
        {
          "output_type": "stream",
          "text": [
            "-74.75%\n"
          ],
          "name": "stdout"
        }
      ]
    },
    {
      "cell_type": "code",
      "metadata": {
        "id": "iRB2NUoq1vc9",
        "colab_type": "code",
        "outputId": "bdca6e19-b9fe-4adf-fb6f-76b39b1419a8",
        "colab": {
          "base_uri": "https://localhost:8080/",
          "height": 34
        }
      },
      "source": [
        "a = 1 - norm.cdf(0.59)\n",
        "a"
      ],
      "execution_count": 188,
      "outputs": [
        {
          "output_type": "execute_result",
          "data": {
            "text/plain": [
              "0.27759532475346493"
            ]
          },
          "metadata": {
            "tags": []
          },
          "execution_count": 188
        }
      ]
    },
    {
      "cell_type": "markdown",
      "metadata": {
        "colab_type": "text",
        "id": "GmmzChE2t4wW"
      },
      "source": [
        "# <font color=green>3 AMOSTRAGEM</font>\n",
        "***"
      ]
    },
    {
      "cell_type": "markdown",
      "metadata": {
        "colab_type": "text",
        "id": "g8PbtmQZt4Wv"
      },
      "source": [
        "## <font color=green>3.1 População e Amostra</font>\n",
        "***"
      ]
    },
    {
      "cell_type": "markdown",
      "metadata": {
        "colab_type": "text",
        "id": "sedD5gB9G3FV"
      },
      "source": [
        "### População\n",
        "Conjunto de todos os elementos de interesse em um estudo. Diversos elementos podem compor uma população, por exemplo: pessoas, idades, alturas, carros etc.\n",
        "\n",
        "Com relação ao tamanho, as populações podem ser limitadas (populações finitas) ou ilimitadas (populações infinitas)."
      ]
    },
    {
      "cell_type": "markdown",
      "metadata": {
        "colab_type": "text",
        "id": "XBFhAWNcG3FW"
      },
      "source": [
        "### Populações finitas\n",
        "\n",
        "Permitem a contagem de seus elementos. Como exemplos temos o número de funcionário de uma empresa, a quantidade de alunos em uma escola etc."
      ]
    },
    {
      "cell_type": "markdown",
      "metadata": {
        "colab_type": "text",
        "id": "YT8V2GB1G3FW"
      },
      "source": [
        "### Populações infinitas\n",
        "\n",
        "Não é possível contar seus elementos. Como exemplos temos a quantidade de porções que se pode extrair da água do mar para uma análise, temperatura medida em cada ponto de um território etc.\n",
        "\n",
        "<font color=red>Quando os elementos de uma população puderem ser contados, porém apresentando uma quantidade muito grande, assume-se a população como infinita.</font>."
      ]
    },
    {
      "cell_type": "markdown",
      "metadata": {
        "colab_type": "text",
        "id": "a-WtAXv1G3FX"
      },
      "source": [
        "### Amostra\n",
        "Subconjunto representativo da população."
      ]
    },
    {
      "cell_type": "markdown",
      "metadata": {
        "colab_type": "text",
        "id": "QWnDYpPSG3FX"
      },
      "source": [
        "Os atributos numéricos de uma população como sua média, variância e desvio padrão, são conhecidos como **parâmetros**. O principal foco da inferência estatística é justamente gerar estimativas e testar hipóteses sobre os parâmetros populacionais utilizando as informações de amostras."
      ]
    },
    {
      "cell_type": "markdown",
      "metadata": {
        "colab_type": "text",
        "id": "dDz6vFbDG3FZ"
      },
      "source": [
        "## <font color=green>3.2 Quando utilizar uma amostra?</font>\n",
        "***"
      ]
    },
    {
      "cell_type": "markdown",
      "metadata": {
        "colab_type": "text",
        "id": "5X1YwCGlG3Fe"
      },
      "source": [
        "### Populações infinitas\n",
        "\n",
        "O estudo não chegaria nunca ao fim. Não é possível investigar todos os elementos da população."
      ]
    },
    {
      "cell_type": "markdown",
      "metadata": {
        "colab_type": "text",
        "id": "jHLtG8HSG3Ff"
      },
      "source": [
        "### Testes destrutivos\n",
        "\n",
        "Estudos onde os elementos avaliados são totalmente consumidos ou destruídos. Exemplo: testes de vida útil, testes de segurança contra colisões em automóveis."
      ]
    },
    {
      "cell_type": "markdown",
      "metadata": {
        "colab_type": "text",
        "id": "lxYxepmdG3Ff"
      },
      "source": [
        "### Resultados rápidos\n",
        "\n",
        "Pesquisas que precisam de mais agilidade na divulgação. Exemplo: pesquisas de opinião, pesquisas que envolvam problemas de saúde pública."
      ]
    },
    {
      "cell_type": "markdown",
      "metadata": {
        "colab_type": "text",
        "id": "PeUCGL5nG3Fj"
      },
      "source": [
        "### Custos elevados\n",
        "\n",
        "Quando a população é finita mas muito numerosa, o custo de um censo pode tornar o processo inviável."
      ]
    },
    {
      "cell_type": "markdown",
      "metadata": {
        "colab_type": "text",
        "id": "1sbJeMpSG3Fj"
      },
      "source": [
        "## <font color=green>3.3 Amostragem Aleatória Simples</font>\n",
        "***"
      ]
    },
    {
      "cell_type": "markdown",
      "metadata": {
        "colab_type": "text",
        "id": "Kiq9cYMYG3Fp"
      },
      "source": [
        "É uma das principais maneiras de se extrair uma amostra de uma população. A exigência fundamental deste tipo de abordagem é que cada elemeto da população tenha as mesmas chances de ser selecionado para fazer parte da amostra."
      ]
    },
    {
      "cell_type": "code",
      "metadata": {
        "colab_type": "code",
        "id": "NtQ8HOYdG3Fq",
        "colab": {
          "base_uri": "https://localhost:8080/",
          "height": 34
        },
        "outputId": "cfc0b7b5-4633-4bc9-edf0-af96609a608f"
      },
      "source": [
        "dados.shape[0]"
      ],
      "execution_count": 189,
      "outputs": [
        {
          "output_type": "execute_result",
          "data": {
            "text/plain": [
              "76840"
            ]
          },
          "metadata": {
            "tags": []
          },
          "execution_count": 189
        }
      ]
    },
    {
      "cell_type": "code",
      "metadata": {
        "colab_type": "code",
        "id": "DsXJHWhMG3Fs",
        "colab": {
          "base_uri": "https://localhost:8080/",
          "height": 34
        },
        "outputId": "01ab34c1-e68a-4f76-908b-7c7a4aadfe51"
      },
      "source": [
        "dados.Renda.mean()"
      ],
      "execution_count": 190,
      "outputs": [
        {
          "output_type": "execute_result",
          "data": {
            "text/plain": [
              "2000.3831988547631"
            ]
          },
          "metadata": {
            "tags": []
          },
          "execution_count": 190
        }
      ]
    },
    {
      "cell_type": "code",
      "metadata": {
        "colab_type": "code",
        "id": "k7yJucVMG3Fw",
        "colab": {}
      },
      "source": [
        "amostra = dados.sample(n = 100, random_state = 101)"
      ],
      "execution_count": 0,
      "outputs": []
    },
    {
      "cell_type": "code",
      "metadata": {
        "colab_type": "code",
        "id": "wUyXS65sG3F2",
        "colab": {
          "base_uri": "https://localhost:8080/",
          "height": 34
        },
        "outputId": "789c87d4-177f-426d-c13c-95cd3f69e30c"
      },
      "source": [
        "amostra.shape[0]"
      ],
      "execution_count": 192,
      "outputs": [
        {
          "output_type": "execute_result",
          "data": {
            "text/plain": [
              "100"
            ]
          },
          "metadata": {
            "tags": []
          },
          "execution_count": 192
        }
      ]
    },
    {
      "cell_type": "code",
      "metadata": {
        "colab_type": "code",
        "id": "y0J4UtOwG3F5",
        "colab": {
          "base_uri": "https://localhost:8080/",
          "height": 34
        },
        "outputId": "c5fd2d55-f3c3-4575-a609-1aafd1595b34"
      },
      "source": [
        "amostra.Renda.mean() "
      ],
      "execution_count": 193,
      "outputs": [
        {
          "output_type": "execute_result",
          "data": {
            "text/plain": [
              "2150.85"
            ]
          },
          "metadata": {
            "tags": []
          },
          "execution_count": 193
        }
      ]
    },
    {
      "cell_type": "code",
      "metadata": {
        "colab_type": "code",
        "id": "WGZT_wnjSgPy",
        "colab": {
          "base_uri": "https://localhost:8080/",
          "height": 68
        },
        "outputId": "69e8165e-ba73-4470-83d7-5d31d963dbfc"
      },
      "source": [
        "dados.Sexo.value_counts(normalize=True)"
      ],
      "execution_count": 194,
      "outputs": [
        {
          "output_type": "execute_result",
          "data": {
            "text/plain": [
              "0    0.692998\n",
              "1    0.307002\n",
              "Name: Sexo, dtype: float64"
            ]
          },
          "metadata": {
            "tags": []
          },
          "execution_count": 194
        }
      ]
    },
    {
      "cell_type": "markdown",
      "metadata": {
        "colab_type": "text",
        "id": "stcKhnJBG3F7"
      },
      "source": [
        "## <font color=green>3.4 Amostragem Estratificada</font>\n",
        "***"
      ]
    },
    {
      "cell_type": "markdown",
      "metadata": {
        "colab_type": "text",
        "id": "W1uEZMRIG3GA"
      },
      "source": [
        "É uma melhoria do processo de amostragem aleatória simples. Neste método é proposta a divisão da população em subgrupos de elementos com características similares, ou seja, grupos mais homogêneos. Com estes subgrupos separados, aplica-se a técnica de amostragem aleatória simples dentro de cada subgrupo individualmente."
      ]
    },
    {
      "cell_type": "markdown",
      "metadata": {
        "colab_type": "text",
        "id": "xRjUHDAbG3GB"
      },
      "source": [
        "## <font color=green>3.5 Amostragem por Conglomerados</font>\n",
        "***"
      ]
    },
    {
      "cell_type": "markdown",
      "metadata": {
        "colab_type": "text",
        "id": "sW9IuaL9G3GH"
      },
      "source": [
        "Também visa melhorar o critério de amostragem aleatória simples. Na amostragem por conglomerados são também criados subgrupos, porém não serão homogêneas como na amostragem estratificada. Na amostragem por conglomerados os subgrupos serão heterogêneos, onde, em seguida, serão aplicadas a amostragem aleatória simples ou estratificada.\n",
        "\n",
        "Um exemplo bastante comum de aplicação deste tipo de técnica é na divisão da população em grupos territoriais, onde os elementos investigados terão características bastante variadas."
      ]
    },
    {
      "cell_type": "markdown",
      "metadata": {
        "colab_type": "text",
        "id": "2LNJT4FEuzO4"
      },
      "source": [
        "# <font color=green>4 ESTIMAÇÃO</font>\n",
        "***"
      ]
    },
    {
      "cell_type": "markdown",
      "metadata": {
        "colab_type": "text",
        "id": "z69W2sVGmybS"
      },
      "source": [
        "## <font color='red'>Problema </font>"
      ]
    },
    {
      "cell_type": "markdown",
      "metadata": {
        "colab_type": "text",
        "id": "ytP6VpismwDY"
      },
      "source": [
        "Suponha que os pesos dos sacos de arroz de uma indústria alimentícia se distribuem aproximadamente como uma normal de **desvio padrão populacional igual a 150 g**. Selecionada uma **amostra aleatório de 20 sacos** de um lote específico, obteve-se um **peso médio de 5.050 g**. Construa um **intervalo de confiança para a média populacional** assumindo um **nível de significância de 5%**."
      ]
    },
    {
      "cell_type": "markdown",
      "metadata": {
        "colab_type": "text",
        "id": "PCqEvJMOwvUf"
      },
      "source": [
        "---"
      ]
    },
    {
      "cell_type": "markdown",
      "metadata": {
        "colab_type": "text",
        "id": "HU578SXBG3GN"
      },
      "source": [
        "É a forma de se fazer suposições generalizadas sobre os parâmetros de uma população tendo como base as informações de uma amostra.\n",
        "\n",
        "- **Parâmetros** são os atributos numéricos de uma população, tal como a média, desvio padrão etc.\n",
        "\n",
        "- **Estimativa** é o valor obtido para determinado parâmetro a partir dos dados de uma amostra da população."
      ]
    },
    {
      "cell_type": "markdown",
      "metadata": {
        "colab_type": "text",
        "id": "klWVkoUDG3GR"
      },
      "source": [
        "## <font color=green>4.1 Teorema do limite central</font>\n",
        "***"
      ]
    },
    {
      "cell_type": "markdown",
      "metadata": {
        "colab_type": "text",
        "id": "QpgTvbISG3GU"
      },
      "source": [
        "> O **Teorema do Limite Central** afirma que, com o aumento do tamanho da amostra, a distribuição das médias amostrais se aproxima de uma distribuição normal com média igual à média da população e desvio padrão igual ao desvio padrão da variável original dividido pela raiz quadrada do tamanho da amostra. Este fato é assegurado para $n$ maior ou igual a 30."
      ]
    },
    {
      "cell_type": "markdown",
      "metadata": {
        "colab_type": "text",
        "id": "ZIAr6is3wEMp"
      },
      "source": [
        "# $$\\sigma_\\bar{x} = \\frac{\\sigma}{\\sqrt{n}}$$\n",
        "\n",
        "O desvio padrão das médias amostrais é conhecido como **erro padrão da média**"
      ]
    },
    {
      "cell_type": "markdown",
      "metadata": {
        "colab_type": "text",
        "id": "eFtSo6H0iz7z"
      },
      "source": [
        "### Entendendo o Teorema do Limite Central"
      ]
    },
    {
      "cell_type": "code",
      "metadata": {
        "colab_type": "code",
        "id": "S3q73XpnizTi",
        "colab": {}
      },
      "source": [
        "n = 2000\n",
        "total_de_amostras = 1500"
      ],
      "execution_count": 0,
      "outputs": []
    },
    {
      "cell_type": "code",
      "metadata": {
        "colab_type": "code",
        "id": "uXZvARZ0izQp",
        "colab": {
          "base_uri": "https://localhost:8080/",
          "height": 32
        },
        "outputId": "fab8ef87-4c90-4ed6-c29a-e84b6c700f95"
      },
      "source": [
        "amostras = pd.DataFrame()\n",
        "amostras"
      ],
      "execution_count": 196,
      "outputs": [
        {
          "output_type": "execute_result",
          "data": {
            "text/html": [
              "<div>\n",
              "<style scoped>\n",
              "    .dataframe tbody tr th:only-of-type {\n",
              "        vertical-align: middle;\n",
              "    }\n",
              "\n",
              "    .dataframe tbody tr th {\n",
              "        vertical-align: top;\n",
              "    }\n",
              "\n",
              "    .dataframe thead th {\n",
              "        text-align: right;\n",
              "    }\n",
              "</style>\n",
              "<table border=\"1\" class=\"dataframe\">\n",
              "  <thead>\n",
              "    <tr style=\"text-align: right;\">\n",
              "      <th></th>\n",
              "    </tr>\n",
              "  </thead>\n",
              "  <tbody>\n",
              "  </tbody>\n",
              "</table>\n",
              "</div>"
            ],
            "text/plain": [
              "Empty DataFrame\n",
              "Columns: []\n",
              "Index: []"
            ]
          },
          "metadata": {
            "tags": []
          },
          "execution_count": 196
        }
      ]
    },
    {
      "cell_type": "code",
      "metadata": {
        "colab_type": "code",
        "id": "tXa7XKhKTyMu",
        "scrolled": true,
        "colab": {
          "base_uri": "https://localhost:8080/",
          "height": 439
        },
        "outputId": "9c5a84c2-094f-4954-acda-de940198d218"
      },
      "source": [
        "for i in range(total_de_amostras):\n",
        "  _ = dados.Idade.sample(n)\n",
        "  _.index = range(0, len(_))\n",
        "  amostras['Amostra_' + str(i)] = _\n",
        "\n",
        "amostras"
      ],
      "execution_count": 197,
      "outputs": [
        {
          "output_type": "execute_result",
          "data": {
            "text/html": [
              "<div>\n",
              "<style scoped>\n",
              "    .dataframe tbody tr th:only-of-type {\n",
              "        vertical-align: middle;\n",
              "    }\n",
              "\n",
              "    .dataframe tbody tr th {\n",
              "        vertical-align: top;\n",
              "    }\n",
              "\n",
              "    .dataframe thead th {\n",
              "        text-align: right;\n",
              "    }\n",
              "</style>\n",
              "<table border=\"1\" class=\"dataframe\">\n",
              "  <thead>\n",
              "    <tr style=\"text-align: right;\">\n",
              "      <th></th>\n",
              "      <th>Amostra_0</th>\n",
              "      <th>Amostra_1</th>\n",
              "      <th>Amostra_2</th>\n",
              "      <th>Amostra_3</th>\n",
              "      <th>Amostra_4</th>\n",
              "      <th>Amostra_5</th>\n",
              "      <th>Amostra_6</th>\n",
              "      <th>Amostra_7</th>\n",
              "      <th>Amostra_8</th>\n",
              "      <th>Amostra_9</th>\n",
              "      <th>Amostra_10</th>\n",
              "      <th>Amostra_11</th>\n",
              "      <th>Amostra_12</th>\n",
              "      <th>Amostra_13</th>\n",
              "      <th>Amostra_14</th>\n",
              "      <th>Amostra_15</th>\n",
              "      <th>Amostra_16</th>\n",
              "      <th>Amostra_17</th>\n",
              "      <th>Amostra_18</th>\n",
              "      <th>Amostra_19</th>\n",
              "      <th>Amostra_20</th>\n",
              "      <th>Amostra_21</th>\n",
              "      <th>Amostra_22</th>\n",
              "      <th>Amostra_23</th>\n",
              "      <th>Amostra_24</th>\n",
              "      <th>Amostra_25</th>\n",
              "      <th>Amostra_26</th>\n",
              "      <th>Amostra_27</th>\n",
              "      <th>Amostra_28</th>\n",
              "      <th>Amostra_29</th>\n",
              "      <th>Amostra_30</th>\n",
              "      <th>Amostra_31</th>\n",
              "      <th>Amostra_32</th>\n",
              "      <th>Amostra_33</th>\n",
              "      <th>Amostra_34</th>\n",
              "      <th>Amostra_35</th>\n",
              "      <th>Amostra_36</th>\n",
              "      <th>Amostra_37</th>\n",
              "      <th>Amostra_38</th>\n",
              "      <th>Amostra_39</th>\n",
              "      <th>...</th>\n",
              "      <th>Amostra_1460</th>\n",
              "      <th>Amostra_1461</th>\n",
              "      <th>Amostra_1462</th>\n",
              "      <th>Amostra_1463</th>\n",
              "      <th>Amostra_1464</th>\n",
              "      <th>Amostra_1465</th>\n",
              "      <th>Amostra_1466</th>\n",
              "      <th>Amostra_1467</th>\n",
              "      <th>Amostra_1468</th>\n",
              "      <th>Amostra_1469</th>\n",
              "      <th>Amostra_1470</th>\n",
              "      <th>Amostra_1471</th>\n",
              "      <th>Amostra_1472</th>\n",
              "      <th>Amostra_1473</th>\n",
              "      <th>Amostra_1474</th>\n",
              "      <th>Amostra_1475</th>\n",
              "      <th>Amostra_1476</th>\n",
              "      <th>Amostra_1477</th>\n",
              "      <th>Amostra_1478</th>\n",
              "      <th>Amostra_1479</th>\n",
              "      <th>Amostra_1480</th>\n",
              "      <th>Amostra_1481</th>\n",
              "      <th>Amostra_1482</th>\n",
              "      <th>Amostra_1483</th>\n",
              "      <th>Amostra_1484</th>\n",
              "      <th>Amostra_1485</th>\n",
              "      <th>Amostra_1486</th>\n",
              "      <th>Amostra_1487</th>\n",
              "      <th>Amostra_1488</th>\n",
              "      <th>Amostra_1489</th>\n",
              "      <th>Amostra_1490</th>\n",
              "      <th>Amostra_1491</th>\n",
              "      <th>Amostra_1492</th>\n",
              "      <th>Amostra_1493</th>\n",
              "      <th>Amostra_1494</th>\n",
              "      <th>Amostra_1495</th>\n",
              "      <th>Amostra_1496</th>\n",
              "      <th>Amostra_1497</th>\n",
              "      <th>Amostra_1498</th>\n",
              "      <th>Amostra_1499</th>\n",
              "    </tr>\n",
              "  </thead>\n",
              "  <tbody>\n",
              "    <tr>\n",
              "      <th>0</th>\n",
              "      <td>36</td>\n",
              "      <td>60</td>\n",
              "      <td>48</td>\n",
              "      <td>32</td>\n",
              "      <td>57</td>\n",
              "      <td>45</td>\n",
              "      <td>33</td>\n",
              "      <td>46</td>\n",
              "      <td>36</td>\n",
              "      <td>32</td>\n",
              "      <td>40</td>\n",
              "      <td>56</td>\n",
              "      <td>58</td>\n",
              "      <td>29</td>\n",
              "      <td>23</td>\n",
              "      <td>49</td>\n",
              "      <td>55</td>\n",
              "      <td>42</td>\n",
              "      <td>33</td>\n",
              "      <td>39</td>\n",
              "      <td>42</td>\n",
              "      <td>50</td>\n",
              "      <td>43</td>\n",
              "      <td>34</td>\n",
              "      <td>21</td>\n",
              "      <td>30</td>\n",
              "      <td>31</td>\n",
              "      <td>67</td>\n",
              "      <td>43</td>\n",
              "      <td>59</td>\n",
              "      <td>36</td>\n",
              "      <td>62</td>\n",
              "      <td>36</td>\n",
              "      <td>47</td>\n",
              "      <td>37</td>\n",
              "      <td>53</td>\n",
              "      <td>37</td>\n",
              "      <td>44</td>\n",
              "      <td>56</td>\n",
              "      <td>41</td>\n",
              "      <td>...</td>\n",
              "      <td>36</td>\n",
              "      <td>76</td>\n",
              "      <td>52</td>\n",
              "      <td>52</td>\n",
              "      <td>65</td>\n",
              "      <td>30</td>\n",
              "      <td>63</td>\n",
              "      <td>30</td>\n",
              "      <td>43</td>\n",
              "      <td>35</td>\n",
              "      <td>30</td>\n",
              "      <td>43</td>\n",
              "      <td>38</td>\n",
              "      <td>37</td>\n",
              "      <td>67</td>\n",
              "      <td>37</td>\n",
              "      <td>60</td>\n",
              "      <td>56</td>\n",
              "      <td>35</td>\n",
              "      <td>25</td>\n",
              "      <td>59</td>\n",
              "      <td>68</td>\n",
              "      <td>57</td>\n",
              "      <td>50</td>\n",
              "      <td>44</td>\n",
              "      <td>39</td>\n",
              "      <td>54</td>\n",
              "      <td>34</td>\n",
              "      <td>45</td>\n",
              "      <td>38</td>\n",
              "      <td>48</td>\n",
              "      <td>42</td>\n",
              "      <td>28</td>\n",
              "      <td>41</td>\n",
              "      <td>31</td>\n",
              "      <td>27</td>\n",
              "      <td>23</td>\n",
              "      <td>60</td>\n",
              "      <td>59</td>\n",
              "      <td>32</td>\n",
              "    </tr>\n",
              "    <tr>\n",
              "      <th>1</th>\n",
              "      <td>45</td>\n",
              "      <td>57</td>\n",
              "      <td>33</td>\n",
              "      <td>46</td>\n",
              "      <td>56</td>\n",
              "      <td>55</td>\n",
              "      <td>33</td>\n",
              "      <td>41</td>\n",
              "      <td>45</td>\n",
              "      <td>60</td>\n",
              "      <td>34</td>\n",
              "      <td>26</td>\n",
              "      <td>37</td>\n",
              "      <td>47</td>\n",
              "      <td>42</td>\n",
              "      <td>56</td>\n",
              "      <td>58</td>\n",
              "      <td>39</td>\n",
              "      <td>70</td>\n",
              "      <td>52</td>\n",
              "      <td>46</td>\n",
              "      <td>28</td>\n",
              "      <td>55</td>\n",
              "      <td>50</td>\n",
              "      <td>29</td>\n",
              "      <td>40</td>\n",
              "      <td>72</td>\n",
              "      <td>30</td>\n",
              "      <td>33</td>\n",
              "      <td>40</td>\n",
              "      <td>35</td>\n",
              "      <td>43</td>\n",
              "      <td>43</td>\n",
              "      <td>67</td>\n",
              "      <td>28</td>\n",
              "      <td>59</td>\n",
              "      <td>64</td>\n",
              "      <td>22</td>\n",
              "      <td>55</td>\n",
              "      <td>29</td>\n",
              "      <td>...</td>\n",
              "      <td>29</td>\n",
              "      <td>41</td>\n",
              "      <td>44</td>\n",
              "      <td>51</td>\n",
              "      <td>46</td>\n",
              "      <td>34</td>\n",
              "      <td>22</td>\n",
              "      <td>61</td>\n",
              "      <td>30</td>\n",
              "      <td>28</td>\n",
              "      <td>51</td>\n",
              "      <td>54</td>\n",
              "      <td>71</td>\n",
              "      <td>37</td>\n",
              "      <td>54</td>\n",
              "      <td>41</td>\n",
              "      <td>24</td>\n",
              "      <td>25</td>\n",
              "      <td>28</td>\n",
              "      <td>35</td>\n",
              "      <td>54</td>\n",
              "      <td>42</td>\n",
              "      <td>25</td>\n",
              "      <td>35</td>\n",
              "      <td>47</td>\n",
              "      <td>45</td>\n",
              "      <td>35</td>\n",
              "      <td>53</td>\n",
              "      <td>36</td>\n",
              "      <td>50</td>\n",
              "      <td>40</td>\n",
              "      <td>41</td>\n",
              "      <td>28</td>\n",
              "      <td>43</td>\n",
              "      <td>53</td>\n",
              "      <td>48</td>\n",
              "      <td>39</td>\n",
              "      <td>40</td>\n",
              "      <td>49</td>\n",
              "      <td>55</td>\n",
              "    </tr>\n",
              "    <tr>\n",
              "      <th>2</th>\n",
              "      <td>22</td>\n",
              "      <td>30</td>\n",
              "      <td>49</td>\n",
              "      <td>31</td>\n",
              "      <td>49</td>\n",
              "      <td>65</td>\n",
              "      <td>33</td>\n",
              "      <td>37</td>\n",
              "      <td>40</td>\n",
              "      <td>38</td>\n",
              "      <td>27</td>\n",
              "      <td>57</td>\n",
              "      <td>38</td>\n",
              "      <td>39</td>\n",
              "      <td>62</td>\n",
              "      <td>53</td>\n",
              "      <td>51</td>\n",
              "      <td>37</td>\n",
              "      <td>63</td>\n",
              "      <td>52</td>\n",
              "      <td>45</td>\n",
              "      <td>51</td>\n",
              "      <td>36</td>\n",
              "      <td>30</td>\n",
              "      <td>63</td>\n",
              "      <td>53</td>\n",
              "      <td>27</td>\n",
              "      <td>45</td>\n",
              "      <td>38</td>\n",
              "      <td>24</td>\n",
              "      <td>43</td>\n",
              "      <td>39</td>\n",
              "      <td>35</td>\n",
              "      <td>23</td>\n",
              "      <td>48</td>\n",
              "      <td>45</td>\n",
              "      <td>49</td>\n",
              "      <td>60</td>\n",
              "      <td>51</td>\n",
              "      <td>37</td>\n",
              "      <td>...</td>\n",
              "      <td>40</td>\n",
              "      <td>44</td>\n",
              "      <td>29</td>\n",
              "      <td>53</td>\n",
              "      <td>40</td>\n",
              "      <td>38</td>\n",
              "      <td>45</td>\n",
              "      <td>39</td>\n",
              "      <td>28</td>\n",
              "      <td>42</td>\n",
              "      <td>50</td>\n",
              "      <td>50</td>\n",
              "      <td>34</td>\n",
              "      <td>52</td>\n",
              "      <td>39</td>\n",
              "      <td>30</td>\n",
              "      <td>37</td>\n",
              "      <td>57</td>\n",
              "      <td>57</td>\n",
              "      <td>41</td>\n",
              "      <td>39</td>\n",
              "      <td>48</td>\n",
              "      <td>56</td>\n",
              "      <td>38</td>\n",
              "      <td>63</td>\n",
              "      <td>45</td>\n",
              "      <td>47</td>\n",
              "      <td>40</td>\n",
              "      <td>24</td>\n",
              "      <td>51</td>\n",
              "      <td>29</td>\n",
              "      <td>53</td>\n",
              "      <td>61</td>\n",
              "      <td>49</td>\n",
              "      <td>29</td>\n",
              "      <td>53</td>\n",
              "      <td>48</td>\n",
              "      <td>50</td>\n",
              "      <td>26</td>\n",
              "      <td>45</td>\n",
              "    </tr>\n",
              "    <tr>\n",
              "      <th>3</th>\n",
              "      <td>42</td>\n",
              "      <td>66</td>\n",
              "      <td>23</td>\n",
              "      <td>24</td>\n",
              "      <td>40</td>\n",
              "      <td>48</td>\n",
              "      <td>62</td>\n",
              "      <td>47</td>\n",
              "      <td>32</td>\n",
              "      <td>28</td>\n",
              "      <td>21</td>\n",
              "      <td>65</td>\n",
              "      <td>48</td>\n",
              "      <td>47</td>\n",
              "      <td>37</td>\n",
              "      <td>50</td>\n",
              "      <td>42</td>\n",
              "      <td>31</td>\n",
              "      <td>49</td>\n",
              "      <td>41</td>\n",
              "      <td>45</td>\n",
              "      <td>55</td>\n",
              "      <td>52</td>\n",
              "      <td>33</td>\n",
              "      <td>31</td>\n",
              "      <td>34</td>\n",
              "      <td>36</td>\n",
              "      <td>60</td>\n",
              "      <td>27</td>\n",
              "      <td>52</td>\n",
              "      <td>64</td>\n",
              "      <td>55</td>\n",
              "      <td>43</td>\n",
              "      <td>67</td>\n",
              "      <td>50</td>\n",
              "      <td>38</td>\n",
              "      <td>47</td>\n",
              "      <td>32</td>\n",
              "      <td>59</td>\n",
              "      <td>34</td>\n",
              "      <td>...</td>\n",
              "      <td>23</td>\n",
              "      <td>52</td>\n",
              "      <td>57</td>\n",
              "      <td>52</td>\n",
              "      <td>55</td>\n",
              "      <td>44</td>\n",
              "      <td>36</td>\n",
              "      <td>58</td>\n",
              "      <td>50</td>\n",
              "      <td>29</td>\n",
              "      <td>53</td>\n",
              "      <td>41</td>\n",
              "      <td>53</td>\n",
              "      <td>30</td>\n",
              "      <td>63</td>\n",
              "      <td>28</td>\n",
              "      <td>43</td>\n",
              "      <td>43</td>\n",
              "      <td>50</td>\n",
              "      <td>52</td>\n",
              "      <td>41</td>\n",
              "      <td>62</td>\n",
              "      <td>50</td>\n",
              "      <td>35</td>\n",
              "      <td>48</td>\n",
              "      <td>56</td>\n",
              "      <td>52</td>\n",
              "      <td>38</td>\n",
              "      <td>34</td>\n",
              "      <td>50</td>\n",
              "      <td>37</td>\n",
              "      <td>53</td>\n",
              "      <td>47</td>\n",
              "      <td>45</td>\n",
              "      <td>49</td>\n",
              "      <td>44</td>\n",
              "      <td>30</td>\n",
              "      <td>46</td>\n",
              "      <td>49</td>\n",
              "      <td>29</td>\n",
              "    </tr>\n",
              "    <tr>\n",
              "      <th>4</th>\n",
              "      <td>41</td>\n",
              "      <td>38</td>\n",
              "      <td>62</td>\n",
              "      <td>49</td>\n",
              "      <td>52</td>\n",
              "      <td>30</td>\n",
              "      <td>52</td>\n",
              "      <td>55</td>\n",
              "      <td>52</td>\n",
              "      <td>49</td>\n",
              "      <td>60</td>\n",
              "      <td>31</td>\n",
              "      <td>47</td>\n",
              "      <td>38</td>\n",
              "      <td>52</td>\n",
              "      <td>39</td>\n",
              "      <td>23</td>\n",
              "      <td>47</td>\n",
              "      <td>36</td>\n",
              "      <td>43</td>\n",
              "      <td>51</td>\n",
              "      <td>43</td>\n",
              "      <td>31</td>\n",
              "      <td>36</td>\n",
              "      <td>42</td>\n",
              "      <td>27</td>\n",
              "      <td>42</td>\n",
              "      <td>60</td>\n",
              "      <td>73</td>\n",
              "      <td>37</td>\n",
              "      <td>33</td>\n",
              "      <td>42</td>\n",
              "      <td>59</td>\n",
              "      <td>57</td>\n",
              "      <td>26</td>\n",
              "      <td>61</td>\n",
              "      <td>27</td>\n",
              "      <td>76</td>\n",
              "      <td>71</td>\n",
              "      <td>39</td>\n",
              "      <td>...</td>\n",
              "      <td>40</td>\n",
              "      <td>32</td>\n",
              "      <td>38</td>\n",
              "      <td>52</td>\n",
              "      <td>45</td>\n",
              "      <td>38</td>\n",
              "      <td>40</td>\n",
              "      <td>58</td>\n",
              "      <td>52</td>\n",
              "      <td>43</td>\n",
              "      <td>46</td>\n",
              "      <td>60</td>\n",
              "      <td>43</td>\n",
              "      <td>62</td>\n",
              "      <td>58</td>\n",
              "      <td>45</td>\n",
              "      <td>30</td>\n",
              "      <td>53</td>\n",
              "      <td>45</td>\n",
              "      <td>49</td>\n",
              "      <td>25</td>\n",
              "      <td>31</td>\n",
              "      <td>37</td>\n",
              "      <td>34</td>\n",
              "      <td>48</td>\n",
              "      <td>45</td>\n",
              "      <td>34</td>\n",
              "      <td>37</td>\n",
              "      <td>21</td>\n",
              "      <td>48</td>\n",
              "      <td>57</td>\n",
              "      <td>56</td>\n",
              "      <td>60</td>\n",
              "      <td>48</td>\n",
              "      <td>40</td>\n",
              "      <td>51</td>\n",
              "      <td>34</td>\n",
              "      <td>36</td>\n",
              "      <td>43</td>\n",
              "      <td>39</td>\n",
              "    </tr>\n",
              "    <tr>\n",
              "      <th>...</th>\n",
              "      <td>...</td>\n",
              "      <td>...</td>\n",
              "      <td>...</td>\n",
              "      <td>...</td>\n",
              "      <td>...</td>\n",
              "      <td>...</td>\n",
              "      <td>...</td>\n",
              "      <td>...</td>\n",
              "      <td>...</td>\n",
              "      <td>...</td>\n",
              "      <td>...</td>\n",
              "      <td>...</td>\n",
              "      <td>...</td>\n",
              "      <td>...</td>\n",
              "      <td>...</td>\n",
              "      <td>...</td>\n",
              "      <td>...</td>\n",
              "      <td>...</td>\n",
              "      <td>...</td>\n",
              "      <td>...</td>\n",
              "      <td>...</td>\n",
              "      <td>...</td>\n",
              "      <td>...</td>\n",
              "      <td>...</td>\n",
              "      <td>...</td>\n",
              "      <td>...</td>\n",
              "      <td>...</td>\n",
              "      <td>...</td>\n",
              "      <td>...</td>\n",
              "      <td>...</td>\n",
              "      <td>...</td>\n",
              "      <td>...</td>\n",
              "      <td>...</td>\n",
              "      <td>...</td>\n",
              "      <td>...</td>\n",
              "      <td>...</td>\n",
              "      <td>...</td>\n",
              "      <td>...</td>\n",
              "      <td>...</td>\n",
              "      <td>...</td>\n",
              "      <td>...</td>\n",
              "      <td>...</td>\n",
              "      <td>...</td>\n",
              "      <td>...</td>\n",
              "      <td>...</td>\n",
              "      <td>...</td>\n",
              "      <td>...</td>\n",
              "      <td>...</td>\n",
              "      <td>...</td>\n",
              "      <td>...</td>\n",
              "      <td>...</td>\n",
              "      <td>...</td>\n",
              "      <td>...</td>\n",
              "      <td>...</td>\n",
              "      <td>...</td>\n",
              "      <td>...</td>\n",
              "      <td>...</td>\n",
              "      <td>...</td>\n",
              "      <td>...</td>\n",
              "      <td>...</td>\n",
              "      <td>...</td>\n",
              "      <td>...</td>\n",
              "      <td>...</td>\n",
              "      <td>...</td>\n",
              "      <td>...</td>\n",
              "      <td>...</td>\n",
              "      <td>...</td>\n",
              "      <td>...</td>\n",
              "      <td>...</td>\n",
              "      <td>...</td>\n",
              "      <td>...</td>\n",
              "      <td>...</td>\n",
              "      <td>...</td>\n",
              "      <td>...</td>\n",
              "      <td>...</td>\n",
              "      <td>...</td>\n",
              "      <td>...</td>\n",
              "      <td>...</td>\n",
              "      <td>...</td>\n",
              "      <td>...</td>\n",
              "      <td>...</td>\n",
              "    </tr>\n",
              "    <tr>\n",
              "      <th>1995</th>\n",
              "      <td>24</td>\n",
              "      <td>60</td>\n",
              "      <td>39</td>\n",
              "      <td>50</td>\n",
              "      <td>45</td>\n",
              "      <td>33</td>\n",
              "      <td>48</td>\n",
              "      <td>39</td>\n",
              "      <td>43</td>\n",
              "      <td>35</td>\n",
              "      <td>40</td>\n",
              "      <td>55</td>\n",
              "      <td>35</td>\n",
              "      <td>56</td>\n",
              "      <td>38</td>\n",
              "      <td>46</td>\n",
              "      <td>34</td>\n",
              "      <td>52</td>\n",
              "      <td>35</td>\n",
              "      <td>45</td>\n",
              "      <td>34</td>\n",
              "      <td>39</td>\n",
              "      <td>28</td>\n",
              "      <td>74</td>\n",
              "      <td>42</td>\n",
              "      <td>31</td>\n",
              "      <td>64</td>\n",
              "      <td>59</td>\n",
              "      <td>52</td>\n",
              "      <td>58</td>\n",
              "      <td>41</td>\n",
              "      <td>35</td>\n",
              "      <td>31</td>\n",
              "      <td>38</td>\n",
              "      <td>38</td>\n",
              "      <td>61</td>\n",
              "      <td>35</td>\n",
              "      <td>46</td>\n",
              "      <td>50</td>\n",
              "      <td>43</td>\n",
              "      <td>...</td>\n",
              "      <td>35</td>\n",
              "      <td>34</td>\n",
              "      <td>56</td>\n",
              "      <td>25</td>\n",
              "      <td>57</td>\n",
              "      <td>33</td>\n",
              "      <td>53</td>\n",
              "      <td>44</td>\n",
              "      <td>54</td>\n",
              "      <td>36</td>\n",
              "      <td>66</td>\n",
              "      <td>58</td>\n",
              "      <td>39</td>\n",
              "      <td>61</td>\n",
              "      <td>51</td>\n",
              "      <td>43</td>\n",
              "      <td>29</td>\n",
              "      <td>38</td>\n",
              "      <td>49</td>\n",
              "      <td>55</td>\n",
              "      <td>36</td>\n",
              "      <td>33</td>\n",
              "      <td>33</td>\n",
              "      <td>50</td>\n",
              "      <td>25</td>\n",
              "      <td>45</td>\n",
              "      <td>55</td>\n",
              "      <td>40</td>\n",
              "      <td>43</td>\n",
              "      <td>31</td>\n",
              "      <td>31</td>\n",
              "      <td>45</td>\n",
              "      <td>27</td>\n",
              "      <td>31</td>\n",
              "      <td>58</td>\n",
              "      <td>58</td>\n",
              "      <td>65</td>\n",
              "      <td>19</td>\n",
              "      <td>50</td>\n",
              "      <td>28</td>\n",
              "    </tr>\n",
              "    <tr>\n",
              "      <th>1996</th>\n",
              "      <td>31</td>\n",
              "      <td>72</td>\n",
              "      <td>64</td>\n",
              "      <td>33</td>\n",
              "      <td>36</td>\n",
              "      <td>36</td>\n",
              "      <td>45</td>\n",
              "      <td>59</td>\n",
              "      <td>34</td>\n",
              "      <td>31</td>\n",
              "      <td>58</td>\n",
              "      <td>49</td>\n",
              "      <td>51</td>\n",
              "      <td>61</td>\n",
              "      <td>25</td>\n",
              "      <td>32</td>\n",
              "      <td>33</td>\n",
              "      <td>42</td>\n",
              "      <td>46</td>\n",
              "      <td>51</td>\n",
              "      <td>32</td>\n",
              "      <td>43</td>\n",
              "      <td>33</td>\n",
              "      <td>61</td>\n",
              "      <td>45</td>\n",
              "      <td>40</td>\n",
              "      <td>65</td>\n",
              "      <td>35</td>\n",
              "      <td>54</td>\n",
              "      <td>30</td>\n",
              "      <td>41</td>\n",
              "      <td>45</td>\n",
              "      <td>54</td>\n",
              "      <td>65</td>\n",
              "      <td>48</td>\n",
              "      <td>48</td>\n",
              "      <td>28</td>\n",
              "      <td>65</td>\n",
              "      <td>68</td>\n",
              "      <td>36</td>\n",
              "      <td>...</td>\n",
              "      <td>43</td>\n",
              "      <td>56</td>\n",
              "      <td>68</td>\n",
              "      <td>26</td>\n",
              "      <td>44</td>\n",
              "      <td>68</td>\n",
              "      <td>31</td>\n",
              "      <td>28</td>\n",
              "      <td>35</td>\n",
              "      <td>70</td>\n",
              "      <td>23</td>\n",
              "      <td>43</td>\n",
              "      <td>52</td>\n",
              "      <td>24</td>\n",
              "      <td>53</td>\n",
              "      <td>64</td>\n",
              "      <td>56</td>\n",
              "      <td>53</td>\n",
              "      <td>35</td>\n",
              "      <td>40</td>\n",
              "      <td>46</td>\n",
              "      <td>43</td>\n",
              "      <td>26</td>\n",
              "      <td>23</td>\n",
              "      <td>55</td>\n",
              "      <td>41</td>\n",
              "      <td>39</td>\n",
              "      <td>35</td>\n",
              "      <td>65</td>\n",
              "      <td>62</td>\n",
              "      <td>43</td>\n",
              "      <td>26</td>\n",
              "      <td>43</td>\n",
              "      <td>24</td>\n",
              "      <td>22</td>\n",
              "      <td>64</td>\n",
              "      <td>64</td>\n",
              "      <td>54</td>\n",
              "      <td>53</td>\n",
              "      <td>53</td>\n",
              "    </tr>\n",
              "    <tr>\n",
              "      <th>1997</th>\n",
              "      <td>28</td>\n",
              "      <td>45</td>\n",
              "      <td>40</td>\n",
              "      <td>31</td>\n",
              "      <td>44</td>\n",
              "      <td>32</td>\n",
              "      <td>39</td>\n",
              "      <td>42</td>\n",
              "      <td>37</td>\n",
              "      <td>38</td>\n",
              "      <td>36</td>\n",
              "      <td>70</td>\n",
              "      <td>56</td>\n",
              "      <td>26</td>\n",
              "      <td>24</td>\n",
              "      <td>51</td>\n",
              "      <td>31</td>\n",
              "      <td>47</td>\n",
              "      <td>22</td>\n",
              "      <td>67</td>\n",
              "      <td>50</td>\n",
              "      <td>51</td>\n",
              "      <td>40</td>\n",
              "      <td>27</td>\n",
              "      <td>32</td>\n",
              "      <td>34</td>\n",
              "      <td>38</td>\n",
              "      <td>44</td>\n",
              "      <td>60</td>\n",
              "      <td>36</td>\n",
              "      <td>59</td>\n",
              "      <td>30</td>\n",
              "      <td>37</td>\n",
              "      <td>54</td>\n",
              "      <td>40</td>\n",
              "      <td>62</td>\n",
              "      <td>57</td>\n",
              "      <td>54</td>\n",
              "      <td>51</td>\n",
              "      <td>50</td>\n",
              "      <td>...</td>\n",
              "      <td>43</td>\n",
              "      <td>31</td>\n",
              "      <td>58</td>\n",
              "      <td>39</td>\n",
              "      <td>49</td>\n",
              "      <td>36</td>\n",
              "      <td>62</td>\n",
              "      <td>47</td>\n",
              "      <td>35</td>\n",
              "      <td>26</td>\n",
              "      <td>57</td>\n",
              "      <td>36</td>\n",
              "      <td>35</td>\n",
              "      <td>30</td>\n",
              "      <td>46</td>\n",
              "      <td>55</td>\n",
              "      <td>36</td>\n",
              "      <td>45</td>\n",
              "      <td>42</td>\n",
              "      <td>64</td>\n",
              "      <td>44</td>\n",
              "      <td>59</td>\n",
              "      <td>35</td>\n",
              "      <td>31</td>\n",
              "      <td>37</td>\n",
              "      <td>49</td>\n",
              "      <td>43</td>\n",
              "      <td>36</td>\n",
              "      <td>47</td>\n",
              "      <td>63</td>\n",
              "      <td>45</td>\n",
              "      <td>36</td>\n",
              "      <td>29</td>\n",
              "      <td>41</td>\n",
              "      <td>40</td>\n",
              "      <td>45</td>\n",
              "      <td>37</td>\n",
              "      <td>49</td>\n",
              "      <td>56</td>\n",
              "      <td>28</td>\n",
              "    </tr>\n",
              "    <tr>\n",
              "      <th>1998</th>\n",
              "      <td>43</td>\n",
              "      <td>54</td>\n",
              "      <td>38</td>\n",
              "      <td>31</td>\n",
              "      <td>40</td>\n",
              "      <td>35</td>\n",
              "      <td>34</td>\n",
              "      <td>31</td>\n",
              "      <td>70</td>\n",
              "      <td>43</td>\n",
              "      <td>48</td>\n",
              "      <td>54</td>\n",
              "      <td>41</td>\n",
              "      <td>41</td>\n",
              "      <td>49</td>\n",
              "      <td>40</td>\n",
              "      <td>51</td>\n",
              "      <td>36</td>\n",
              "      <td>36</td>\n",
              "      <td>54</td>\n",
              "      <td>54</td>\n",
              "      <td>34</td>\n",
              "      <td>63</td>\n",
              "      <td>40</td>\n",
              "      <td>50</td>\n",
              "      <td>32</td>\n",
              "      <td>34</td>\n",
              "      <td>27</td>\n",
              "      <td>62</td>\n",
              "      <td>32</td>\n",
              "      <td>51</td>\n",
              "      <td>32</td>\n",
              "      <td>70</td>\n",
              "      <td>38</td>\n",
              "      <td>54</td>\n",
              "      <td>57</td>\n",
              "      <td>48</td>\n",
              "      <td>38</td>\n",
              "      <td>40</td>\n",
              "      <td>83</td>\n",
              "      <td>...</td>\n",
              "      <td>64</td>\n",
              "      <td>48</td>\n",
              "      <td>31</td>\n",
              "      <td>39</td>\n",
              "      <td>44</td>\n",
              "      <td>56</td>\n",
              "      <td>32</td>\n",
              "      <td>64</td>\n",
              "      <td>31</td>\n",
              "      <td>52</td>\n",
              "      <td>44</td>\n",
              "      <td>42</td>\n",
              "      <td>65</td>\n",
              "      <td>56</td>\n",
              "      <td>46</td>\n",
              "      <td>36</td>\n",
              "      <td>51</td>\n",
              "      <td>50</td>\n",
              "      <td>45</td>\n",
              "      <td>34</td>\n",
              "      <td>52</td>\n",
              "      <td>47</td>\n",
              "      <td>52</td>\n",
              "      <td>53</td>\n",
              "      <td>53</td>\n",
              "      <td>53</td>\n",
              "      <td>41</td>\n",
              "      <td>46</td>\n",
              "      <td>56</td>\n",
              "      <td>39</td>\n",
              "      <td>38</td>\n",
              "      <td>43</td>\n",
              "      <td>57</td>\n",
              "      <td>49</td>\n",
              "      <td>44</td>\n",
              "      <td>52</td>\n",
              "      <td>42</td>\n",
              "      <td>71</td>\n",
              "      <td>48</td>\n",
              "      <td>53</td>\n",
              "    </tr>\n",
              "    <tr>\n",
              "      <th>1999</th>\n",
              "      <td>63</td>\n",
              "      <td>47</td>\n",
              "      <td>39</td>\n",
              "      <td>53</td>\n",
              "      <td>46</td>\n",
              "      <td>39</td>\n",
              "      <td>43</td>\n",
              "      <td>57</td>\n",
              "      <td>34</td>\n",
              "      <td>35</td>\n",
              "      <td>41</td>\n",
              "      <td>51</td>\n",
              "      <td>64</td>\n",
              "      <td>62</td>\n",
              "      <td>19</td>\n",
              "      <td>45</td>\n",
              "      <td>49</td>\n",
              "      <td>40</td>\n",
              "      <td>57</td>\n",
              "      <td>35</td>\n",
              "      <td>52</td>\n",
              "      <td>42</td>\n",
              "      <td>55</td>\n",
              "      <td>33</td>\n",
              "      <td>49</td>\n",
              "      <td>56</td>\n",
              "      <td>50</td>\n",
              "      <td>39</td>\n",
              "      <td>20</td>\n",
              "      <td>29</td>\n",
              "      <td>60</td>\n",
              "      <td>57</td>\n",
              "      <td>31</td>\n",
              "      <td>39</td>\n",
              "      <td>54</td>\n",
              "      <td>31</td>\n",
              "      <td>39</td>\n",
              "      <td>38</td>\n",
              "      <td>30</td>\n",
              "      <td>36</td>\n",
              "      <td>...</td>\n",
              "      <td>51</td>\n",
              "      <td>39</td>\n",
              "      <td>36</td>\n",
              "      <td>45</td>\n",
              "      <td>23</td>\n",
              "      <td>27</td>\n",
              "      <td>52</td>\n",
              "      <td>50</td>\n",
              "      <td>65</td>\n",
              "      <td>33</td>\n",
              "      <td>58</td>\n",
              "      <td>53</td>\n",
              "      <td>30</td>\n",
              "      <td>37</td>\n",
              "      <td>76</td>\n",
              "      <td>44</td>\n",
              "      <td>77</td>\n",
              "      <td>52</td>\n",
              "      <td>50</td>\n",
              "      <td>31</td>\n",
              "      <td>22</td>\n",
              "      <td>65</td>\n",
              "      <td>37</td>\n",
              "      <td>51</td>\n",
              "      <td>39</td>\n",
              "      <td>55</td>\n",
              "      <td>40</td>\n",
              "      <td>40</td>\n",
              "      <td>22</td>\n",
              "      <td>71</td>\n",
              "      <td>49</td>\n",
              "      <td>49</td>\n",
              "      <td>59</td>\n",
              "      <td>37</td>\n",
              "      <td>29</td>\n",
              "      <td>53</td>\n",
              "      <td>40</td>\n",
              "      <td>52</td>\n",
              "      <td>45</td>\n",
              "      <td>41</td>\n",
              "    </tr>\n",
              "  </tbody>\n",
              "</table>\n",
              "<p>2000 rows × 1500 columns</p>\n",
              "</div>"
            ],
            "text/plain": [
              "      Amostra_0  Amostra_1  Amostra_2  ...  Amostra_1497  Amostra_1498  Amostra_1499\n",
              "0            36         60         48  ...            60            59            32\n",
              "1            45         57         33  ...            40            49            55\n",
              "2            22         30         49  ...            50            26            45\n",
              "3            42         66         23  ...            46            49            29\n",
              "4            41         38         62  ...            36            43            39\n",
              "...         ...        ...        ...  ...           ...           ...           ...\n",
              "1995         24         60         39  ...            19            50            28\n",
              "1996         31         72         64  ...            54            53            53\n",
              "1997         28         45         40  ...            49            56            28\n",
              "1998         43         54         38  ...            71            48            53\n",
              "1999         63         47         39  ...            52            45            41\n",
              "\n",
              "[2000 rows x 1500 columns]"
            ]
          },
          "metadata": {
            "tags": []
          },
          "execution_count": 197
        }
      ]
    },
    {
      "cell_type": "code",
      "metadata": {
        "colab_type": "code",
        "id": "v5Q-rnS_izNd",
        "scrolled": true,
        "colab": {
          "base_uri": "https://localhost:8080/",
          "height": 221
        },
        "outputId": "3347ca44-3756-46cd-d2fb-bf1a12317c96"
      },
      "source": [
        "amostras.mean()"
      ],
      "execution_count": 198,
      "outputs": [
        {
          "output_type": "execute_result",
          "data": {
            "text/plain": [
              "Amostra_0       44.0615\n",
              "Amostra_1       44.0690\n",
              "Amostra_2       44.2510\n",
              "Amostra_3       44.3375\n",
              "Amostra_4       43.9980\n",
              "                 ...   \n",
              "Amostra_1495    44.0590\n",
              "Amostra_1496    44.0200\n",
              "Amostra_1497    44.3345\n",
              "Amostra_1498    44.3995\n",
              "Amostra_1499    43.9730\n",
              "Length: 1500, dtype: float64"
            ]
          },
          "metadata": {
            "tags": []
          },
          "execution_count": 198
        }
      ]
    },
    {
      "cell_type": "markdown",
      "metadata": {
        "colab_type": "text",
        "id": "JfgEBDx0jDzf"
      },
      "source": [
        "> O Teorema do Limite Central afirma que, **com o aumento do tamanho da amostra, a distribuição das médias amostrais se aproxima de uma distribuição normal** com média igual à média da população e desvio padrão igual ao desvio padrão da variável original dividido pela raiz quadrada do tamanho da amostra. Este fato é assegurado para n maior ou igual a 30."
      ]
    },
    {
      "cell_type": "code",
      "metadata": {
        "colab_type": "code",
        "id": "giJKqa_9izKF",
        "colab": {
          "base_uri": "https://localhost:8080/",
          "height": 286
        },
        "outputId": "1279d55e-b339-4ccd-921e-af1e4f437501"
      },
      "source": [
        "amostras.mean().hist()"
      ],
      "execution_count": 199,
      "outputs": [
        {
          "output_type": "execute_result",
          "data": {
            "text/plain": [
              "<matplotlib.axes._subplots.AxesSubplot at 0x7f98e2d1a0f0>"
            ]
          },
          "metadata": {
            "tags": []
          },
          "execution_count": 199
        },
        {
          "output_type": "display_data",
          "data": {
            "image/png": "[encoded data removed]",
            "text/plain": [
              "<Figure size 432x288 with 1 Axes>"
            ]
          },
          "metadata": {
            "tags": [],
            "needs_background": "light"
          }
        }
      ]
    },
    {
      "cell_type": "markdown",
      "metadata": {
        "colab_type": "text",
        "id": "_A4RKStwjkLI"
      },
      "source": [
        "> O Teorema do Limite Central afirma que, com o aumento do tamanho da amostra, a distribuição das médias amostrais se aproxima de uma distribuição normal **com média igual à média da população** e desvio padrão igual ao desvio padrão da variável original dividido pela raiz quadrada do tamanho da amostra. Este fato é assegurado para n maior ou igual a 30."
      ]
    },
    {
      "cell_type": "code",
      "metadata": {
        "colab_type": "code",
        "id": "vXE-UOj_izGZ",
        "colab": {
          "base_uri": "https://localhost:8080/",
          "height": 34
        },
        "outputId": "3353aed0-f757-4c0e-ee39-bbb36972aabb"
      },
      "source": [
        "dados.Idade.mean()"
      ],
      "execution_count": 200,
      "outputs": [
        {
          "output_type": "execute_result",
          "data": {
            "text/plain": [
              "44.07142113482561"
            ]
          },
          "metadata": {
            "tags": []
          },
          "execution_count": 200
        }
      ]
    },
    {
      "cell_type": "code",
      "metadata": {
        "colab_type": "code",
        "id": "bahA7_WYizC6",
        "colab": {
          "base_uri": "https://localhost:8080/",
          "height": 34
        },
        "outputId": "28c7f480-9da0-4b16-ee3e-8e85b4434f35"
      },
      "source": [
        "amostras.mean().mean()"
      ],
      "execution_count": 201,
      "outputs": [
        {
          "output_type": "execute_result",
          "data": {
            "text/plain": [
              "44.071647666666586"
            ]
          },
          "metadata": {
            "tags": []
          },
          "execution_count": 201
        }
      ]
    },
    {
      "cell_type": "markdown",
      "metadata": {
        "colab_type": "text",
        "id": "7lIWJCAKlPmA"
      },
      "source": [
        "> O Teorema do Limite Central afirma que, com o aumento do tamanho da amostra, a distribuição das médias amostrais se aproxima de uma distribuição normal com média igual à média da população e **desvio padrão igual ao desvio padrão da variável original dividido pela raiz quadrada do tamanho da amostra**. Este fato é assegurado para n maior ou igual a 30.\n",
        "\n",
        "# $$\\sigma_\\bar{x} = \\frac{\\sigma}{\\sqrt{n}}$$"
      ]
    },
    {
      "cell_type": "code",
      "metadata": {
        "colab_type": "code",
        "id": "qKrG0zqhVNzn",
        "colab": {
          "base_uri": "https://localhost:8080/",
          "height": 34
        },
        "outputId": "118e1a39-28be-4238-98bc-62bb94fd12fb"
      },
      "source": [
        "amostras.mean().std()"
      ],
      "execution_count": 202,
      "outputs": [
        {
          "output_type": "execute_result",
          "data": {
            "text/plain": [
              "0.270401548367353"
            ]
          },
          "metadata": {
            "tags": []
          },
          "execution_count": 202
        }
      ]
    },
    {
      "cell_type": "code",
      "metadata": {
        "colab_type": "code",
        "id": "83ILp8Quiy_W",
        "colab": {
          "base_uri": "https://localhost:8080/",
          "height": 34
        },
        "outputId": "6c77bf21-5faa-40d8-d64c-fb4f85725854"
      },
      "source": [
        "dados.Idade.std()/ np.sqrt(n)"
      ],
      "execution_count": 203,
      "outputs": [
        {
          "output_type": "execute_result",
          "data": {
            "text/plain": [
              "0.2790743302740527"
            ]
          },
          "metadata": {
            "tags": []
          },
          "execution_count": 203
        }
      ]
    },
    {
      "cell_type": "markdown",
      "metadata": {
        "colab_type": "text",
        "id": "ku8CE67iG3Ge"
      },
      "source": [
        "## <font color=green>4.2 Níveis de confiança e significância</font>\n",
        "***"
      ]
    },
    {
      "cell_type": "markdown",
      "metadata": {
        "colab_type": "text",
        "id": "mk6ZsvgyG3Gf"
      },
      "source": [
        "O **nível de confiança** ($1 - \\alpha$) representa a probabilidade de acerto da estimativa. De forma complementar o **nível de significância** ($\\alpha$) expressa a probabilidade de erro da estimativa.\n",
        "\n",
        "O **nível de confiança** representa o grau de confiabilidade do resultado da estimativa estar dentro de determinado intervalo. Quando fixamos em uma pesquisa um **nível de confiança** de 95%, por exemplo, estamos assumindo que existe uma probabilidade de 95% dos resultados da pesquisa representarem bem a realidade, ou seja, estarem corretos.\n",
        "\n",
        "O **nível de confiança** de uma estimativa pode ser obtido a partir da área sob a curva normal como ilustrado na figura abaixo."
      ]
    },
    {
      "cell_type": "markdown",
      "metadata": {
        "colab_type": "text",
        "id": "WeGyDfvaG3Gg"
      },
      "source": [
        "![alt text](https://caelum-online-public.s3.amazonaws.com/1178-estatistica-parte2/01/img007.png)"
      ]
    },
    {
      "cell_type": "markdown",
      "metadata": {
        "colab_type": "text",
        "id": "AN8WDZ-HG3Gi"
      },
      "source": [
        "## <font color=green>4.3 Erro inferencial</font>\n",
        "***"
      ]
    },
    {
      "cell_type": "markdown",
      "metadata": {
        "colab_type": "text",
        "id": "tk-TwhhfG3Gi"
      },
      "source": [
        "O **erro inferencial** é definido pelo **desvio padrão das médias amostrais** $\\sigma_\\bar{x}$ e pelo **nível de confiança** determinado para o processo."
      ]
    },
    {
      "cell_type": "markdown",
      "metadata": {
        "colab_type": "text",
        "id": "FKOQUPYHG3Gk"
      },
      "source": [
        "# $$e = z \\frac{\\sigma}{\\sqrt{n}}$$"
      ]
    },
    {
      "cell_type": "markdown",
      "metadata": {
        "colab_type": "text",
        "id": "ELbWQW4sG3HS"
      },
      "source": [
        "## <font color=green>4.4 Intervalos de confiança</font>\n",
        "***"
      ]
    },
    {
      "cell_type": "markdown",
      "metadata": {
        "colab_type": "text",
        "id": "-r6EMnH-G3HT"
      },
      "source": [
        "### Intevalo de confiança para a média da população"
      ]
    },
    {
      "cell_type": "markdown",
      "metadata": {
        "colab_type": "text",
        "id": "QWgBFeRnG3HT"
      },
      "source": [
        "#### Com desvio padrão populacional conhecido\n",
        "\n",
        "## $$\\mu = \\bar{x} \\pm z\\frac{\\sigma}{\\sqrt{n}}$$\n",
        "\n",
        "#### Com desvio padrão populacional desconhecido\n",
        "\n",
        "## $$\\mu = \\bar{x} \\pm z\\frac{s}{\\sqrt{n}}$$"
      ]
    },
    {
      "cell_type": "markdown",
      "metadata": {
        "colab_type": "text",
        "id": "R2qqLneeG3HT"
      },
      "source": [
        "## <font color='blue'>Exemplo: </font>"
      ]
    },
    {
      "cell_type": "markdown",
      "metadata": {
        "colab_type": "text",
        "id": "AgnrFjdMG3HT"
      },
      "source": [
        "Suponha que os pesos dos sacos de arroz de uma indústria alimentícia se distribuem aproximadamente como uma normal de **desvio padrão populacional igual a 150 g**. Selecionada uma **amostra aleatório de 20 sacos** de um lote específico, obteve-se um **peso médio de 5.050 g**. Construa um intervalo de confiança para a **média populacional** assumindo um **nível de significância de 5%**."
      ]
    },
    {
      "cell_type": "markdown",
      "metadata": {
        "colab_type": "text",
        "id": "LpGQGksTG3HU"
      },
      "source": [
        "### Média amostral"
      ]
    },
    {
      "cell_type": "code",
      "metadata": {
        "colab_type": "code",
        "id": "aF2QQ0z3G3HU",
        "colab": {
          "base_uri": "https://localhost:8080/",
          "height": 34
        },
        "outputId": "d01b6f91-b031-4eef-d380-d66e94129e3e"
      },
      "source": [
        "media_amostra = 5050\n",
        "media_amostra"
      ],
      "execution_count": 204,
      "outputs": [
        {
          "output_type": "execute_result",
          "data": {
            "text/plain": [
              "5050"
            ]
          },
          "metadata": {
            "tags": []
          },
          "execution_count": 204
        }
      ]
    },
    {
      "cell_type": "markdown",
      "metadata": {
        "colab_type": "text",
        "id": "Jly1bVP9G3HY"
      },
      "source": [
        "### Nível de significância ($\\alpha$)"
      ]
    },
    {
      "cell_type": "code",
      "metadata": {
        "colab_type": "code",
        "id": "BzIgN3C7G3HY",
        "colab": {
          "base_uri": "https://localhost:8080/",
          "height": 34
        },
        "outputId": "7c362212-1813-4a9a-9a50-e42a1058cb87"
      },
      "source": [
        "significancia = 0.05\n",
        "significancia"
      ],
      "execution_count": 205,
      "outputs": [
        {
          "output_type": "execute_result",
          "data": {
            "text/plain": [
              "0.05"
            ]
          },
          "metadata": {
            "tags": []
          },
          "execution_count": 205
        }
      ]
    },
    {
      "cell_type": "markdown",
      "metadata": {
        "colab_type": "text",
        "id": "SrZAbQRKG3Ha"
      },
      "source": [
        "### Nível de confiança ($1 - \\alpha$)"
      ]
    },
    {
      "cell_type": "code",
      "metadata": {
        "colab_type": "code",
        "id": "1JeWXwA6G3Ha",
        "colab": {
          "base_uri": "https://localhost:8080/",
          "height": 34
        },
        "outputId": "c39c8449-db4a-4d45-a81e-e90e91a4eb50"
      },
      "source": [
        "confianca = 1 - significancia\n",
        "confianca"
      ],
      "execution_count": 206,
      "outputs": [
        {
          "output_type": "execute_result",
          "data": {
            "text/plain": [
              "0.95"
            ]
          },
          "metadata": {
            "tags": []
          },
          "execution_count": 206
        }
      ]
    },
    {
      "cell_type": "markdown",
      "metadata": {
        "colab_type": "text",
        "id": "mZoUFr1nG3Hf"
      },
      "source": [
        "### Obtendo $z$"
      ]
    },
    {
      "cell_type": "code",
      "metadata": {
        "colab_type": "code",
        "id": "f9IMOwY2Xeva",
        "colab": {
          "base_uri": "https://localhost:8080/",
          "height": 359
        },
        "outputId": "ca8b2be4-0d4b-4624-c638-9e5e0d854a3e"
      },
      "source": [
        "tabela_normal_padronizada[16:26]"
      ],
      "execution_count": 207,
      "outputs": [
        {
          "output_type": "execute_result",
          "data": {
            "text/html": [
              "<div>\n",
              "<style scoped>\n",
              "    .dataframe tbody tr th:only-of-type {\n",
              "        vertical-align: middle;\n",
              "    }\n",
              "\n",
              "    .dataframe tbody tr th {\n",
              "        vertical-align: top;\n",
              "    }\n",
              "\n",
              "    .dataframe thead th {\n",
              "        text-align: right;\n",
              "    }\n",
              "</style>\n",
              "<table border=\"1\" class=\"dataframe\">\n",
              "  <thead>\n",
              "    <tr style=\"text-align: right;\">\n",
              "      <th>Z</th>\n",
              "      <th>0.00</th>\n",
              "      <th>0.01</th>\n",
              "      <th>0.02</th>\n",
              "      <th>0.03</th>\n",
              "      <th>0.04</th>\n",
              "      <th>0.05</th>\n",
              "      <th>0.06</th>\n",
              "      <th>0.07</th>\n",
              "      <th>0.08</th>\n",
              "      <th>0.09</th>\n",
              "    </tr>\n",
              "  </thead>\n",
              "  <tbody>\n",
              "    <tr>\n",
              "      <th>1.60</th>\n",
              "      <td>0.9452</td>\n",
              "      <td>0.9463</td>\n",
              "      <td>0.9474</td>\n",
              "      <td>0.9484</td>\n",
              "      <td>0.9495</td>\n",
              "      <td>0.9505</td>\n",
              "      <td>0.9515</td>\n",
              "      <td>0.9525</td>\n",
              "      <td>0.9535</td>\n",
              "      <td>0.9545</td>\n",
              "    </tr>\n",
              "    <tr>\n",
              "      <th>1.70</th>\n",
              "      <td>0.9554</td>\n",
              "      <td>0.9564</td>\n",
              "      <td>0.9573</td>\n",
              "      <td>0.9582</td>\n",
              "      <td>0.9591</td>\n",
              "      <td>0.9599</td>\n",
              "      <td>0.9608</td>\n",
              "      <td>0.9616</td>\n",
              "      <td>0.9625</td>\n",
              "      <td>0.9633</td>\n",
              "    </tr>\n",
              "    <tr>\n",
              "      <th>1.80</th>\n",
              "      <td>0.9641</td>\n",
              "      <td>0.9649</td>\n",
              "      <td>0.9656</td>\n",
              "      <td>0.9664</td>\n",
              "      <td>0.9671</td>\n",
              "      <td>0.9678</td>\n",
              "      <td>0.9686</td>\n",
              "      <td>0.9693</td>\n",
              "      <td>0.9699</td>\n",
              "      <td>0.9706</td>\n",
              "    </tr>\n",
              "    <tr>\n",
              "      <th>1.90</th>\n",
              "      <td>0.9713</td>\n",
              "      <td>0.9719</td>\n",
              "      <td>0.9726</td>\n",
              "      <td>0.9732</td>\n",
              "      <td>0.9738</td>\n",
              "      <td>0.9744</td>\n",
              "      <td>0.9750</td>\n",
              "      <td>0.9756</td>\n",
              "      <td>0.9761</td>\n",
              "      <td>0.9767</td>\n",
              "    </tr>\n",
              "    <tr>\n",
              "      <th>2.00</th>\n",
              "      <td>0.9772</td>\n",
              "      <td>0.9778</td>\n",
              "      <td>0.9783</td>\n",
              "      <td>0.9788</td>\n",
              "      <td>0.9793</td>\n",
              "      <td>0.9798</td>\n",
              "      <td>0.9803</td>\n",
              "      <td>0.9808</td>\n",
              "      <td>0.9812</td>\n",
              "      <td>0.9817</td>\n",
              "    </tr>\n",
              "    <tr>\n",
              "      <th>2.10</th>\n",
              "      <td>0.9821</td>\n",
              "      <td>0.9826</td>\n",
              "      <td>0.9830</td>\n",
              "      <td>0.9834</td>\n",
              "      <td>0.9838</td>\n",
              "      <td>0.9842</td>\n",
              "      <td>0.9846</td>\n",
              "      <td>0.9850</td>\n",
              "      <td>0.9854</td>\n",
              "      <td>0.9857</td>\n",
              "    </tr>\n",
              "    <tr>\n",
              "      <th>2.20</th>\n",
              "      <td>0.9861</td>\n",
              "      <td>0.9864</td>\n",
              "      <td>0.9868</td>\n",
              "      <td>0.9871</td>\n",
              "      <td>0.9875</td>\n",
              "      <td>0.9878</td>\n",
              "      <td>0.9881</td>\n",
              "      <td>0.9884</td>\n",
              "      <td>0.9887</td>\n",
              "      <td>0.9890</td>\n",
              "    </tr>\n",
              "    <tr>\n",
              "      <th>2.30</th>\n",
              "      <td>0.9893</td>\n",
              "      <td>0.9896</td>\n",
              "      <td>0.9898</td>\n",
              "      <td>0.9901</td>\n",
              "      <td>0.9904</td>\n",
              "      <td>0.9906</td>\n",
              "      <td>0.9909</td>\n",
              "      <td>0.9911</td>\n",
              "      <td>0.9913</td>\n",
              "      <td>0.9916</td>\n",
              "    </tr>\n",
              "    <tr>\n",
              "      <th>2.40</th>\n",
              "      <td>0.9918</td>\n",
              "      <td>0.9920</td>\n",
              "      <td>0.9922</td>\n",
              "      <td>0.9925</td>\n",
              "      <td>0.9927</td>\n",
              "      <td>0.9929</td>\n",
              "      <td>0.9931</td>\n",
              "      <td>0.9932</td>\n",
              "      <td>0.9934</td>\n",
              "      <td>0.9936</td>\n",
              "    </tr>\n",
              "    <tr>\n",
              "      <th>2.50</th>\n",
              "      <td>0.9938</td>\n",
              "      <td>0.9940</td>\n",
              "      <td>0.9941</td>\n",
              "      <td>0.9943</td>\n",
              "      <td>0.9945</td>\n",
              "      <td>0.9946</td>\n",
              "      <td>0.9948</td>\n",
              "      <td>0.9949</td>\n",
              "      <td>0.9951</td>\n",
              "      <td>0.9952</td>\n",
              "    </tr>\n",
              "  </tbody>\n",
              "</table>\n",
              "</div>"
            ],
            "text/plain": [
              "Z       0.00    0.01    0.02    0.03  ...    0.06    0.07    0.08    0.09\n",
              "1.60  0.9452  0.9463  0.9474  0.9484  ...  0.9515  0.9525  0.9535  0.9545\n",
              "1.70  0.9554  0.9564  0.9573  0.9582  ...  0.9608  0.9616  0.9625  0.9633\n",
              "1.80  0.9641  0.9649  0.9656  0.9664  ...  0.9686  0.9693  0.9699  0.9706\n",
              "1.90  0.9713  0.9719  0.9726  0.9732  ...  0.9750  0.9756  0.9761  0.9767\n",
              "2.00  0.9772  0.9778  0.9783  0.9788  ...  0.9803  0.9808  0.9812  0.9817\n",
              "2.10  0.9821  0.9826  0.9830  0.9834  ...  0.9846  0.9850  0.9854  0.9857\n",
              "2.20  0.9861  0.9864  0.9868  0.9871  ...  0.9881  0.9884  0.9887  0.9890\n",
              "2.30  0.9893  0.9896  0.9898  0.9901  ...  0.9909  0.9911  0.9913  0.9916\n",
              "2.40  0.9918  0.9920  0.9922  0.9925  ...  0.9931  0.9932  0.9934  0.9936\n",
              "2.50  0.9938  0.9940  0.9941  0.9943  ...  0.9948  0.9949  0.9951  0.9952\n",
              "\n",
              "[10 rows x 10 columns]"
            ]
          },
          "metadata": {
            "tags": []
          },
          "execution_count": 207
        }
      ]
    },
    {
      "cell_type": "markdown",
      "metadata": {
        "colab_type": "text",
        "id": "rMRmnaNPG3Go"
      },
      "source": [
        "### Obtendo $z$"
      ]
    },
    {
      "cell_type": "markdown",
      "metadata": {
        "colab_type": "text",
        "id": "T-3mV1qlUj1t"
      },
      "source": [
        "![alt text](https://caelum-online-public.s3.amazonaws.com/1178-estatistica-parte2/01/img008.png)"
      ]
    },
    {
      "cell_type": "code",
      "metadata": {
        "colab_type": "code",
        "id": "nT5ZTwjOG3Go",
        "colab": {
          "base_uri": "https://localhost:8080/",
          "height": 34
        },
        "outputId": "b5bec94c-3ec6-47d6-d7ba-1043460d52ff"
      },
      "source": [
        "z = norm.ppf(0.975)\n",
        "z"
      ],
      "execution_count": 208,
      "outputs": [
        {
          "output_type": "execute_result",
          "data": {
            "text/plain": [
              "1.959963984540054"
            ]
          },
          "metadata": {
            "tags": []
          },
          "execution_count": 208
        }
      ]
    },
    {
      "cell_type": "markdown",
      "metadata": {
        "colab_type": "text",
        "id": "ggXXP8QqTyNA"
      },
      "source": [
        "### Valores de $z$ para os níveis de confiança mais utilizados\n",
        "\n",
        "|Nível de<br>confiança|Valor da área sob<br>a curva normal| $z$ |\n",
        "|:----------------:|:---------------------------------:|:---:|\n",
        "|90%               |0,95                               |1,645|\n",
        "|95%               |0,975                              |1,96 |\n",
        "|99%               |0,995                              |2,575|"
      ]
    },
    {
      "cell_type": "markdown",
      "metadata": {
        "colab_type": "text",
        "id": "MfE1ru0AG3Hg"
      },
      "source": [
        "### Obtendo $\\sigma_\\bar{x}$"
      ]
    },
    {
      "cell_type": "code",
      "metadata": {
        "colab_type": "code",
        "id": "LyQ6UUYtG3Hh",
        "colab": {
          "base_uri": "https://localhost:8080/",
          "height": 34
        },
        "outputId": "fe213f07-962a-45d0-dbd8-d12634321c3a"
      },
      "source": [
        "desvio_padrao = 20\n",
        "desvio_padrao"
      ],
      "execution_count": 209,
      "outputs": [
        {
          "output_type": "execute_result",
          "data": {
            "text/plain": [
              "20"
            ]
          },
          "metadata": {
            "tags": []
          },
          "execution_count": 209
        }
      ]
    },
    {
      "cell_type": "code",
      "metadata": {
        "colab_type": "code",
        "id": "ebvikT95G3Hi",
        "colab": {
          "base_uri": "https://localhost:8080/",
          "height": 34
        },
        "outputId": "8342bc23-a4a7-40be-f9da-055210d0289e"
      },
      "source": [
        "n = 150\n",
        "n"
      ],
      "execution_count": 210,
      "outputs": [
        {
          "output_type": "execute_result",
          "data": {
            "text/plain": [
              "150"
            ]
          },
          "metadata": {
            "tags": []
          },
          "execution_count": 210
        }
      ]
    },
    {
      "cell_type": "code",
      "metadata": {
        "colab_type": "code",
        "id": "TxM3yTpjG3Hk",
        "colab": {
          "base_uri": "https://localhost:8080/",
          "height": 34
        },
        "outputId": "f6c54d1e-bd94-4907-a76e-62c2b4247ba5"
      },
      "source": [
        "raiz_de_n = np.sqrt(n)\n",
        "raiz_de_n"
      ],
      "execution_count": 211,
      "outputs": [
        {
          "output_type": "execute_result",
          "data": {
            "text/plain": [
              "12.24744871391589"
            ]
          },
          "metadata": {
            "tags": []
          },
          "execution_count": 211
        }
      ]
    },
    {
      "cell_type": "code",
      "metadata": {
        "colab_type": "code",
        "id": "HNAcOpl0G3Hl",
        "colab": {
          "base_uri": "https://localhost:8080/",
          "height": 34
        },
        "outputId": "dfe2021e-7d9e-4bd1-a85c-ef6c99c688cb"
      },
      "source": [
        "sigma = desvio_padrao/ raiz_de_n\n",
        "sigma"
      ],
      "execution_count": 212,
      "outputs": [
        {
          "output_type": "execute_result",
          "data": {
            "text/plain": [
              "1.632993161855452"
            ]
          },
          "metadata": {
            "tags": []
          },
          "execution_count": 212
        }
      ]
    },
    {
      "cell_type": "markdown",
      "metadata": {
        "colab_type": "text",
        "id": "NHbXlLk-G3Hn"
      },
      "source": [
        "### Obtendo $e$"
      ]
    },
    {
      "cell_type": "code",
      "metadata": {
        "colab_type": "code",
        "id": "gAfakih5G3Ho",
        "colab": {
          "base_uri": "https://localhost:8080/",
          "height": 34
        },
        "outputId": "83e34d28-328b-4610-8585-27ea3646c4b2"
      },
      "source": [
        "e = z * sigma\n",
        "e"
      ],
      "execution_count": 213,
      "outputs": [
        {
          "output_type": "execute_result",
          "data": {
            "text/plain": [
              "3.2006077842368734"
            ]
          },
          "metadata": {
            "tags": []
          },
          "execution_count": 213
        }
      ]
    },
    {
      "cell_type": "markdown",
      "metadata": {
        "colab_type": "text",
        "id": "sx1QTfNrG3Hq"
      },
      "source": [
        "### Solução 1 - Calculando o intervalo de confiança para a média"
      ]
    },
    {
      "cell_type": "code",
      "metadata": {
        "colab_type": "code",
        "id": "NlJCcPZnG3Hq",
        "colab": {
          "base_uri": "https://localhost:8080/",
          "height": 34
        },
        "outputId": "0670b4e1-c81d-4688-8a5f-f4f703cdd9e0"
      },
      "source": [
        "intervalo = (media_amostra - e, media_amostra + e)\n",
        "intervalo"
      ],
      "execution_count": 214,
      "outputs": [
        {
          "output_type": "execute_result",
          "data": {
            "text/plain": [
              "(5046.799392215763, 5053.200607784237)"
            ]
          },
          "metadata": {
            "tags": []
          },
          "execution_count": 214
        }
      ]
    },
    {
      "cell_type": "code",
      "metadata": {
        "id": "0fTbVLvi0B5H",
        "colab_type": "code",
        "colab": {
          "base_uri": "https://localhost:8080/",
          "height": 34
        },
        "outputId": "eda4a2e5-c10e-4a81-95d3-40caef9c4134"
      },
      "source": [
        "z = norm.ppf(0.95)\n",
        "desvio_padrao = 11\n",
        "n = 50\n",
        "\n",
        "e = z * (desvio_padrao / np.sqrt(n))\n",
        "print(\"R$ {0:0.2f}\".format(e))"
      ],
      "execution_count": 215,
      "outputs": [
        {
          "output_type": "stream",
          "text": [
            "R$ 2.56\n"
          ],
          "name": "stdout"
        }
      ]
    },
    {
      "cell_type": "markdown",
      "metadata": {
        "colab_type": "text",
        "id": "DkFJL7fcG3Ht"
      },
      "source": [
        "### Solução 2 - Calculando o intervalo de confiança para a média"
      ]
    },
    {
      "cell_type": "code",
      "metadata": {
        "colab_type": "code",
        "id": "U92vSYMkG3Hu",
        "colab": {
          "base_uri": "https://localhost:8080/",
          "height": 34
        },
        "outputId": "a3482748-fbd5-42ea-988c-b2494da19c7e"
      },
      "source": [
        "norm.interval(alpha=0.90, loc = media_amostra, scale = sigma)"
      ],
      "execution_count": 216,
      "outputs": [
        {
          "output_type": "execute_result",
          "data": {
            "text/plain": [
              "(5047.313965274935, 5052.686034725065)"
            ]
          },
          "metadata": {
            "tags": []
          },
          "execution_count": 216
        }
      ]
    },
    {
      "cell_type": "markdown",
      "metadata": {
        "colab_type": "text",
        "id": "aF9jAC6yG3Gl"
      },
      "source": [
        "# <font color=green>5 CÁLCULO DO TAMANHO DA AMOSTRA</font>\n",
        "***"
      ]
    },
    {
      "cell_type": "markdown",
      "metadata": {
        "colab_type": "text",
        "id": "BwiygaNqnjrr"
      },
      "source": [
        "## <font color='red'>Problema </font>"
      ]
    },
    {
      "cell_type": "markdown",
      "metadata": {
        "colab_type": "text",
        "id": "a7RjjVVUnlI3"
      },
      "source": [
        "Estamos estudando o rendimento mensal dos chefes de domicílios com renda até R$\\$$ 5.000,00 no Brasil. Nosso supervisor determinou que o **erro máximo em relação a média seja de R$\\$$ 10,00**. Sabemos que o **desvio padrão populacional** deste grupo de trabalhadores é de **R$\\$$ 1.082,79**. Para um **nível de confiança de 95%**, qual deve ser o tamanho da amostra de nosso estudo?"
      ]
    },
    {
      "cell_type": "markdown",
      "metadata": {
        "colab_type": "text",
        "id": "za2sGJt6G3Gm"
      },
      "source": [
        "## <font color=green>5.1 Variáveis quantitativas e população infinita</font>\n",
        "***"
      ]
    },
    {
      "cell_type": "markdown",
      "metadata": {
        "colab_type": "text",
        "id": "3wqMjJWR5sVq"
      },
      "source": [
        "# $$e = z \\frac{\\sigma}{\\sqrt{n}}$$"
      ]
    },
    {
      "cell_type": "markdown",
      "metadata": {
        "colab_type": "text",
        "id": "X1AxpKtIG3Gn"
      },
      "source": [
        "#### Com desvio padrão conhecido\n",
        "\n",
        "## $$n = \\left(z\\frac{\\sigma}{e}\\right)^2$$\n",
        "\n",
        "#### Com desvio padrão desconhecido\n",
        "\n",
        "## $$n = \\left(z\\frac{s}{e}\\right)^2$$\n",
        "\n",
        "Onde:\n",
        "\n",
        "$z$ = variável normal padronizada\n",
        "\n",
        "$\\sigma$ = desvio padrão populacional\n",
        "\n",
        "$s$ = desvio padrão amostral\n",
        "\n",
        "$e$ = erro inferencial"
      ]
    },
    {
      "cell_type": "markdown",
      "metadata": {
        "colab_type": "text",
        "id": "T0fysCyDG3Gn"
      },
      "source": [
        "### <font color='red'>Observações</font>\n",
        "\n",
        "1. O desvio padrão ($\\sigma$ ou $s$) e o erro ($e$) devem estar na mesma unidade de medida.\n",
        "\n",
        "2. Quando o erro ($e$) for representado em termos percentuais, deve ser interpretado como um percentual relacionado à média."
      ]
    },
    {
      "cell_type": "markdown",
      "metadata": {
        "colab_type": "text",
        "id": "WHYBTaupG3Gn"
      },
      "source": [
        "## <font color='blue'>Exemplo: Rendimento médio</font>"
      ]
    },
    {
      "cell_type": "markdown",
      "metadata": {
        "colab_type": "text",
        "id": "dcdzo7EgG3Go"
      },
      "source": [
        "Estamos estudando o rendimento mensal dos chefes de domicílios no Brasil. Nosso supervisor determinou que o **erro máximo em relação a média seja de R$\\$$ 100,00**. Sabemos que o **desvio padrão populacional** deste grupo de trabalhadores é de **R$\\$$ 3.323,39**. Para um **nível de confiança de 95%**, qual deve ser o tamanho da amostra de nosso estudo?"
      ]
    },
    {
      "cell_type": "code",
      "metadata": {
        "colab_type": "code",
        "id": "XtJ5I_kaKDN3",
        "colab": {
          "base_uri": "https://localhost:8080/",
          "height": 34
        },
        "outputId": "1bf8e353-96aa-469e-f64f-b7b277a4ddc0"
      },
      "source": [
        "z = norm.ppf(0.975)\n",
        "z"
      ],
      "execution_count": 217,
      "outputs": [
        {
          "output_type": "execute_result",
          "data": {
            "text/plain": [
              "1.959963984540054"
            ]
          },
          "metadata": {
            "tags": []
          },
          "execution_count": 217
        }
      ]
    },
    {
      "cell_type": "markdown",
      "metadata": {
        "colab_type": "text",
        "id": "6uCkW4KlG3Gr"
      },
      "source": [
        "### Obtendo $\\sigma$"
      ]
    },
    {
      "cell_type": "code",
      "metadata": {
        "colab_type": "code",
        "id": "1RmtZfj-G3Gr",
        "colab": {
          "base_uri": "https://localhost:8080/",
          "height": 34
        },
        "outputId": "b5318a96-02ee-4eed-aa21-58700717865d"
      },
      "source": [
        "sigma = 3323.39\n",
        "sigma"
      ],
      "execution_count": 218,
      "outputs": [
        {
          "output_type": "execute_result",
          "data": {
            "text/plain": [
              "3323.39"
            ]
          },
          "metadata": {
            "tags": []
          },
          "execution_count": 218
        }
      ]
    },
    {
      "cell_type": "markdown",
      "metadata": {
        "colab_type": "text",
        "id": "Cl39PIZ2G3Gt"
      },
      "source": [
        "### Obtendo $e$"
      ]
    },
    {
      "cell_type": "code",
      "metadata": {
        "colab_type": "code",
        "id": "NTRMt2gWG3Gt",
        "colab": {
          "base_uri": "https://localhost:8080/",
          "height": 34
        },
        "outputId": "fff6ba88-541d-467d-87bf-65c29f81393c"
      },
      "source": [
        "e = 100\n",
        "e"
      ],
      "execution_count": 219,
      "outputs": [
        {
          "output_type": "execute_result",
          "data": {
            "text/plain": [
              "100"
            ]
          },
          "metadata": {
            "tags": []
          },
          "execution_count": 219
        }
      ]
    },
    {
      "cell_type": "markdown",
      "metadata": {
        "colab_type": "text",
        "id": "OlAX3Gj6G3Gv"
      },
      "source": [
        "### Obtendo $n$"
      ]
    },
    {
      "cell_type": "code",
      "metadata": {
        "colab_type": "code",
        "id": "0MjluwHPG3Gv",
        "scrolled": true,
        "colab": {
          "base_uri": "https://localhost:8080/",
          "height": 34
        },
        "outputId": "683069ee-a4e8-443e-900c-60b8646b76cb"
      },
      "source": [
        "n = (z * (sigma/e))** 2\n",
        "int(n.round())"
      ],
      "execution_count": 220,
      "outputs": [
        {
          "output_type": "execute_result",
          "data": {
            "text/plain": [
              "4243"
            ]
          },
          "metadata": {
            "tags": []
          },
          "execution_count": 220
        }
      ]
    },
    {
      "cell_type": "markdown",
      "metadata": {
        "colab_type": "text",
        "id": "MjP0xsqyTyNO"
      },
      "source": [
        "---\n",
        "---"
      ]
    },
    {
      "cell_type": "markdown",
      "metadata": {
        "colab_type": "text",
        "id": "dx2vyLC-TyNP"
      },
      "source": [
        "## <font color='red'>Problema</font>"
      ]
    },
    {
      "cell_type": "markdown",
      "metadata": {
        "colab_type": "text",
        "id": "uzK2fAOFTyNP"
      },
      "source": [
        "Em um lote de **10.000 latas** de refrigerante foi realizada uma amostra aleatória simples de **100 latas** e foi obtido o **desvio padrão amostral do conteúdo das latas igual a 12 ml**. O fabricante estipula um **erro máximo sobre a média populacional de apenas 5 ml**. Para garantir um **nível de confiança de 95%** qual o tamanho de amostra deve ser selecionado para este estudo?"
      ]
    },
    {
      "cell_type": "markdown",
      "metadata": {
        "colab_type": "text",
        "id": "FlAz5kycTyNQ"
      },
      "source": [
        "## <font color=green>5.2 Variáveis quantitativas e população finita</font>\n",
        "***"
      ]
    },
    {
      "cell_type": "markdown",
      "metadata": {
        "colab_type": "text",
        "id": "UOe02McSTyNR"
      },
      "source": [
        "#### Com desvio padrão conhecido\n",
        "\n",
        "## $$n = \\frac{z^2 \\sigma^2 N}{z^2 \\sigma^2 + e^2(N-1)}$$\n",
        "\n",
        "#### Com desvio padrão desconhecido\n",
        "\n",
        "## $$n = \\frac{z^2 s^2 N}{z^2 s^2 + e^2(N-1)}$$\n",
        "\n",
        "Onde:\n",
        "\n",
        "$N$ = tamanho da população\n",
        "\n",
        "$z$ = variável normal padronizada\n",
        "\n",
        "$\\sigma$ = desvio padrão populacional\n",
        "\n",
        "$s$ = desvio padrão amostral\n",
        "\n",
        "$e$ = erro inferencial"
      ]
    },
    {
      "cell_type": "markdown",
      "metadata": {
        "colab_type": "text",
        "id": "cUELtYTKTyNS"
      },
      "source": [
        "## <font color='blue'>Exemplo: Indústria de refrigerantes</font>"
      ]
    },
    {
      "cell_type": "markdown",
      "metadata": {
        "colab_type": "text",
        "id": "upv1mM7fTyNS"
      },
      "source": [
        "Em um lote de **10.000 latas** de refrigerante foi realizada uma amostra aleatória simples de **100 latas** e foi obtido o **desvio padrão amostral do conteúdo das latas igual a 12 ml**. O fabricante estipula um **erro máximo sobre a média populacional de apenas 5 ml**. Para garantir um **nível de confiança de 95%** qual o tamanho de amostra deve ser selecionado para este estudo?"
      ]
    },
    {
      "cell_type": "markdown",
      "metadata": {
        "colab_type": "text",
        "id": "_y3-3VIBTyNS"
      },
      "source": [
        "### Obtendo $N$"
      ]
    },
    {
      "cell_type": "code",
      "metadata": {
        "colab_type": "code",
        "id": "gXWn9zTETyNS",
        "colab": {
          "base_uri": "https://localhost:8080/",
          "height": 34
        },
        "outputId": "fc103f2b-8216-435c-9231-d3b43e1cda2c"
      },
      "source": [
        "N = 10000\n",
        "N"
      ],
      "execution_count": 221,
      "outputs": [
        {
          "output_type": "execute_result",
          "data": {
            "text/plain": [
              "10000"
            ]
          },
          "metadata": {
            "tags": []
          },
          "execution_count": 221
        }
      ]
    },
    {
      "cell_type": "markdown",
      "metadata": {
        "colab_type": "text",
        "id": "xCgZ1JSjTyNT"
      },
      "source": [
        "### Obtendo $z$"
      ]
    },
    {
      "cell_type": "code",
      "metadata": {
        "colab_type": "code",
        "id": "ZUs9aYJRTyNT",
        "colab": {
          "base_uri": "https://localhost:8080/",
          "height": 34
        },
        "outputId": "1595da35-b8f0-4cf7-8619-1971ca6c43bd"
      },
      "source": [
        "z = norm.ppf(0.975)\n",
        "z"
      ],
      "execution_count": 222,
      "outputs": [
        {
          "output_type": "execute_result",
          "data": {
            "text/plain": [
              "1.959963984540054"
            ]
          },
          "metadata": {
            "tags": []
          },
          "execution_count": 222
        }
      ]
    },
    {
      "cell_type": "markdown",
      "metadata": {
        "colab_type": "text",
        "id": "KCnigJd8TyNU"
      },
      "source": [
        "### Obtendo $s$"
      ]
    },
    {
      "cell_type": "code",
      "metadata": {
        "colab_type": "code",
        "id": "fKqFI_TZTyNU",
        "colab": {
          "base_uri": "https://localhost:8080/",
          "height": 34
        },
        "outputId": "ecbfc610-3dde-4284-ab0b-ffdf8777e1eb"
      },
      "source": [
        "s = 12\n",
        "s"
      ],
      "execution_count": 223,
      "outputs": [
        {
          "output_type": "execute_result",
          "data": {
            "text/plain": [
              "12"
            ]
          },
          "metadata": {
            "tags": []
          },
          "execution_count": 223
        }
      ]
    },
    {
      "cell_type": "markdown",
      "metadata": {
        "colab_type": "text",
        "id": "K9gDEIUdTyNX"
      },
      "source": [
        "### Obtendo $e$"
      ]
    },
    {
      "cell_type": "code",
      "metadata": {
        "colab_type": "code",
        "id": "hyhJ3MQKTyNX",
        "colab": {
          "base_uri": "https://localhost:8080/",
          "height": 34
        },
        "outputId": "5ffc604d-1806-42b5-cf9b-a39c7504a669"
      },
      "source": [
        "e = 5\n",
        "e"
      ],
      "execution_count": 224,
      "outputs": [
        {
          "output_type": "execute_result",
          "data": {
            "text/plain": [
              "5"
            ]
          },
          "metadata": {
            "tags": []
          },
          "execution_count": 224
        }
      ]
    },
    {
      "cell_type": "markdown",
      "metadata": {
        "colab_type": "text",
        "id": "Dsm3bg9gTyNX"
      },
      "source": [
        "### Obtendo $n$\n",
        "\n",
        "## $$n = \\frac{z^2 s^2 N}{z^2 s^2 + e^2(N-1)}$$"
      ]
    },
    {
      "cell_type": "code",
      "metadata": {
        "colab_type": "code",
        "id": "0XxWfaPdTyNY",
        "scrolled": true,
        "colab": {
          "base_uri": "https://localhost:8080/",
          "height": 34
        },
        "outputId": "bb12f59f-973d-45fd-d797-85f89d307a03"
      },
      "source": [
        "n = ((z**2)*(s**2)*(N)) / (((z**2)* (s**2)) + ((e**2)*(N - 1)))\n",
        "int(n.round())"
      ],
      "execution_count": 225,
      "outputs": [
        {
          "output_type": "execute_result",
          "data": {
            "text/plain": [
              "22"
            ]
          },
          "metadata": {
            "tags": []
          },
          "execution_count": 225
        }
      ]
    },
    {
      "cell_type": "markdown",
      "metadata": {
        "colab_type": "text",
        "id": "XNH7CMglG3Hv"
      },
      "source": [
        "# <font color=green>6 FIXANDO O CONTEÚDO</font>\n",
        "***"
      ]
    },
    {
      "cell_type": "markdown",
      "metadata": {
        "colab_type": "text",
        "id": "iRYqVAxuG3Hv"
      },
      "source": [
        "## <font color='blue'>Exemplo: Rendimento médio</font>"
      ]
    },
    {
      "cell_type": "markdown",
      "metadata": {
        "colab_type": "text",
        "id": "ggloHI5sG3Hw"
      },
      "source": [
        "Estamos estudando o **rendimento mensal dos chefes de domicílios com renda até R$\\$$ 5.000,00 no Brasil**. Nosso supervisor determinou que o **erro máximo em relação a média seja de R$\\$$ 10,00**. Sabemos que o **desvio padrão populacional** deste grupo de trabalhadores é de **R$\\$$ 1.082,79** e que a **média populacional** é de **R$\\$$ 1.426,54**. Para um **nível de confiança de 95%**, qual deve ser o tamanho da amostra de nosso estudo? Qual o intervalo de confiança para a média considerando o tamanho de amostra obtido?"
      ]
    },
    {
      "cell_type": "markdown",
      "metadata": {
        "colab_type": "text",
        "id": "JZDvLD-NG3Hw"
      },
      "source": [
        "### Construindo o dataset conforme especificado pelo problema"
      ]
    },
    {
      "cell_type": "code",
      "metadata": {
        "colab_type": "code",
        "id": "qlnYQeaKG3Hw",
        "colab": {}
      },
      "source": [
        ""
      ],
      "execution_count": 0,
      "outputs": []
    },
    {
      "cell_type": "code",
      "metadata": {
        "colab_type": "code",
        "id": "VKuxbygIG3Hy",
        "colab": {}
      },
      "source": [
        ""
      ],
      "execution_count": 0,
      "outputs": []
    },
    {
      "cell_type": "code",
      "metadata": {
        "colab_type": "code",
        "id": "Q2Ku3mVPG3Hz",
        "colab": {}
      },
      "source": [
        ""
      ],
      "execution_count": 0,
      "outputs": []
    },
    {
      "cell_type": "markdown",
      "metadata": {
        "colab_type": "text",
        "id": "F33TdkXdG3H2"
      },
      "source": [
        "### Calculando o tamanho da amostra"
      ]
    },
    {
      "cell_type": "code",
      "metadata": {
        "colab_type": "code",
        "id": "sWIvnmygG3H2",
        "colab": {}
      },
      "source": [
        ""
      ],
      "execution_count": 0,
      "outputs": []
    },
    {
      "cell_type": "markdown",
      "metadata": {
        "colab_type": "text",
        "id": "xRN_gmmLG3H6"
      },
      "source": [
        "### Calculando o intervalo de confiança para a média"
      ]
    },
    {
      "cell_type": "code",
      "metadata": {
        "colab_type": "code",
        "id": "HoG6JKxxG3H6",
        "colab": {}
      },
      "source": [
        ""
      ],
      "execution_count": 0,
      "outputs": []
    },
    {
      "cell_type": "markdown",
      "metadata": {
        "colab_type": "text",
        "id": "xWAG8q8oG3H8"
      },
      "source": [
        "### Realizando uma prova gráfica"
      ]
    },
    {
      "cell_type": "code",
      "metadata": {
        "colab_type": "code",
        "id": "pxjJyWnNG3H8",
        "colab": {}
      },
      "source": [
        ""
      ],
      "execution_count": 0,
      "outputs": []
    },
    {
      "cell_type": "code",
      "metadata": {
        "colab_type": "code",
        "id": "L5BFsSI8G3IB",
        "colab": {}
      },
      "source": [
        ""
      ],
      "execution_count": 0,
      "outputs": []
    }
  ]
}