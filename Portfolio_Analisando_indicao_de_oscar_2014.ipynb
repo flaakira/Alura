{
  "nbformat": 4,
  "nbformat_minor": 0,
  "metadata": {
    "colab": {
      "name": "Portfolio - Analisando indicao de oscar 2014.ipynb",
      "provenance": [],
      "authorship_tag": "ABX9TyOgk0fc42X3jV2f2UxKuSLu",
      "include_colab_link": true
    },
    "kernelspec": {
      "name": "python3",
      "display_name": "Python 3"
    }
  },
  "cells": [
    {
      "cell_type": "markdown",
      "metadata": {
        "id": "view-in-github",
        "colab_type": "text"
      },
      "source": [
        "<a href=\"https://colab.research.google.com/github/flaakira/Alura/blob/master/Portfolio_Analisando_indicao_de_oscar_2014.ipynb\" target=\"_parent\"><img src=\"https://colab.research.google.com/assets/colab-badge.svg\" alt=\"Open In Colab\"/></a>"
      ]
    },
    {
      "cell_type": "code",
      "metadata": {
        "id": "nlwFTGZNQq-G",
        "colab_type": "code",
        "colab": {}
      },
      "source": [
        ""
      ],
      "execution_count": 0,
      "outputs": []
    },
    {
      "cell_type": "markdown",
      "metadata": {
        "id": "XtMCF4iORx0W",
        "colab_type": "text"
      },
      "source": [
        "## comparativo entre filme ganhador de oscar e indacoes.\n",
        "- Verificar pela nota na amostra do movieleans qual seria o filme ganhador do oscar no ano de 2014\n",
        "\n",
        "- comparar budget, popularidade.\n",
        "\n",
        "- apos comparar com os 3 maiores filmes de bilheteria do ano (2013)"
      ]
    },
    {
      "cell_type": "markdown",
      "metadata": {
        "id": "e64pokgSQtTp",
        "colab_type": "text"
      },
      "source": [
        "##**12 YEARS A SLAVE** \n",
        "\n",
        "AMERICAN HUSTLE\n",
        "\n",
        "CAPTAIN PHILLIPS\n",
        "\n",
        "DALLAS BUYERS CLUB \n",
        "\n",
        "GRAVITY \n",
        "\n",
        "HER \n",
        "\n",
        "NEBRASKA \n",
        "\n",
        "PHILOMENA \n",
        "\n",
        "THE WOLF OF WALL STREET "
      ]
    },
    {
      "cell_type": "code",
      "metadata": {
        "id": "MQyXbvaLQ3np",
        "colab_type": "code",
        "colab": {}
      },
      "source": [
        "import pandas as pd"
      ],
      "execution_count": 0,
      "outputs": []
    },
    {
      "cell_type": "code",
      "metadata": {
        "id": "SILQLUPlSWGW",
        "colab_type": "code",
        "colab": {}
      },
      "source": [
        "filmes = pd.read_csv('movies.csv')\n",
        "avaliacao = pd.read_csv('ratings.csv')"
      ],
      "execution_count": 0,
      "outputs": []
    },
    {
      "cell_type": "code",
      "metadata": {
        "id": "oQuAFWpaSo6Z",
        "colab_type": "code",
        "outputId": "2626314b-c73e-4f07-a550-ae3b362f16ba",
        "colab": {
          "base_uri": "https://localhost:8080/",
          "height": 204
        }
      },
      "source": [
        "filmes.head()"
      ],
      "execution_count": 3,
      "outputs": [
        {
          "output_type": "execute_result",
          "data": {
            "text/html": [
              "<div>\n",
              "<style scoped>\n",
              "    .dataframe tbody tr th:only-of-type {\n",
              "        vertical-align: middle;\n",
              "    }\n",
              "\n",
              "    .dataframe tbody tr th {\n",
              "        vertical-align: top;\n",
              "    }\n",
              "\n",
              "    .dataframe thead th {\n",
              "        text-align: right;\n",
              "    }\n",
              "</style>\n",
              "<table border=\"1\" class=\"dataframe\">\n",
              "  <thead>\n",
              "    <tr style=\"text-align: right;\">\n",
              "      <th></th>\n",
              "      <th>movieId</th>\n",
              "      <th>title</th>\n",
              "      <th>genres</th>\n",
              "    </tr>\n",
              "  </thead>\n",
              "  <tbody>\n",
              "    <tr>\n",
              "      <th>0</th>\n",
              "      <td>1</td>\n",
              "      <td>Toy Story (1995)</td>\n",
              "      <td>Adventure|Animation|Children|Comedy|Fantasy</td>\n",
              "    </tr>\n",
              "    <tr>\n",
              "      <th>1</th>\n",
              "      <td>2</td>\n",
              "      <td>Jumanji (1995)</td>\n",
              "      <td>Adventure|Children|Fantasy</td>\n",
              "    </tr>\n",
              "    <tr>\n",
              "      <th>2</th>\n",
              "      <td>3</td>\n",
              "      <td>Grumpier Old Men (1995)</td>\n",
              "      <td>Comedy|Romance</td>\n",
              "    </tr>\n",
              "    <tr>\n",
              "      <th>3</th>\n",
              "      <td>4</td>\n",
              "      <td>Waiting to Exhale (1995)</td>\n",
              "      <td>Comedy|Drama|Romance</td>\n",
              "    </tr>\n",
              "    <tr>\n",
              "      <th>4</th>\n",
              "      <td>5</td>\n",
              "      <td>Father of the Bride Part II (1995)</td>\n",
              "      <td>Comedy</td>\n",
              "    </tr>\n",
              "  </tbody>\n",
              "</table>\n",
              "</div>"
            ],
            "text/plain": [
              "   movieId  ...                                       genres\n",
              "0        1  ...  Adventure|Animation|Children|Comedy|Fantasy\n",
              "1        2  ...                   Adventure|Children|Fantasy\n",
              "2        3  ...                               Comedy|Romance\n",
              "3        4  ...                         Comedy|Drama|Romance\n",
              "4        5  ...                                       Comedy\n",
              "\n",
              "[5 rows x 3 columns]"
            ]
          },
          "metadata": {
            "tags": []
          },
          "execution_count": 3
        }
      ]
    },
    {
      "cell_type": "code",
      "metadata": {
        "id": "IZU6v9d1SqVn",
        "colab_type": "code",
        "outputId": "f49dea1e-8c26-4a36-bcdc-7e5b30a78127",
        "colab": {
          "base_uri": "https://localhost:8080/",
          "height": 204
        }
      },
      "source": [
        "avaliacao.head()"
      ],
      "execution_count": 4,
      "outputs": [
        {
          "output_type": "execute_result",
          "data": {
            "text/html": [
              "<div>\n",
              "<style scoped>\n",
              "    .dataframe tbody tr th:only-of-type {\n",
              "        vertical-align: middle;\n",
              "    }\n",
              "\n",
              "    .dataframe tbody tr th {\n",
              "        vertical-align: top;\n",
              "    }\n",
              "\n",
              "    .dataframe thead th {\n",
              "        text-align: right;\n",
              "    }\n",
              "</style>\n",
              "<table border=\"1\" class=\"dataframe\">\n",
              "  <thead>\n",
              "    <tr style=\"text-align: right;\">\n",
              "      <th></th>\n",
              "      <th>userId</th>\n",
              "      <th>movieId</th>\n",
              "      <th>rating</th>\n",
              "      <th>timestamp</th>\n",
              "    </tr>\n",
              "  </thead>\n",
              "  <tbody>\n",
              "    <tr>\n",
              "      <th>0</th>\n",
              "      <td>1</td>\n",
              "      <td>1</td>\n",
              "      <td>4.0</td>\n",
              "      <td>964982703</td>\n",
              "    </tr>\n",
              "    <tr>\n",
              "      <th>1</th>\n",
              "      <td>1</td>\n",
              "      <td>3</td>\n",
              "      <td>4.0</td>\n",
              "      <td>964981247</td>\n",
              "    </tr>\n",
              "    <tr>\n",
              "      <th>2</th>\n",
              "      <td>1</td>\n",
              "      <td>6</td>\n",
              "      <td>4.0</td>\n",
              "      <td>964982224</td>\n",
              "    </tr>\n",
              "    <tr>\n",
              "      <th>3</th>\n",
              "      <td>1</td>\n",
              "      <td>47</td>\n",
              "      <td>5.0</td>\n",
              "      <td>964983815</td>\n",
              "    </tr>\n",
              "    <tr>\n",
              "      <th>4</th>\n",
              "      <td>1</td>\n",
              "      <td>50</td>\n",
              "      <td>5.0</td>\n",
              "      <td>964982931</td>\n",
              "    </tr>\n",
              "  </tbody>\n",
              "</table>\n",
              "</div>"
            ],
            "text/plain": [
              "   userId  movieId  rating  timestamp\n",
              "0       1        1     4.0  964982703\n",
              "1       1        3     4.0  964981247\n",
              "2       1        6     4.0  964982224\n",
              "3       1       47     5.0  964983815\n",
              "4       1       50     5.0  964982931"
            ]
          },
          "metadata": {
            "tags": []
          },
          "execution_count": 4
        }
      ]
    },
    {
      "cell_type": "code",
      "metadata": {
        "id": "NKykcSNCSsNG",
        "colab_type": "code",
        "outputId": "78641ed2-ce13-48b3-a14b-0f9f786e805a",
        "colab": {
          "base_uri": "https://localhost:8080/",
          "height": 328
        }
      },
      "source": [
        "oscar = filmes.query(\"movieId in [105844,106916,105504, 106100, 104841, 106920, 105197, 106438, 106782]\")\n",
        "oscar"
      ],
      "execution_count": 5,
      "outputs": [
        {
          "output_type": "execute_result",
          "data": {
            "text/html": [
              "<div>\n",
              "<style scoped>\n",
              "    .dataframe tbody tr th:only-of-type {\n",
              "        vertical-align: middle;\n",
              "    }\n",
              "\n",
              "    .dataframe tbody tr th {\n",
              "        vertical-align: top;\n",
              "    }\n",
              "\n",
              "    .dataframe thead th {\n",
              "        text-align: right;\n",
              "    }\n",
              "</style>\n",
              "<table border=\"1\" class=\"dataframe\">\n",
              "  <thead>\n",
              "    <tr style=\"text-align: right;\">\n",
              "      <th></th>\n",
              "      <th>movieId</th>\n",
              "      <th>title</th>\n",
              "      <th>genres</th>\n",
              "    </tr>\n",
              "  </thead>\n",
              "  <tbody>\n",
              "    <tr>\n",
              "      <th>8252</th>\n",
              "      <td>104841</td>\n",
              "      <td>Gravity (2013)</td>\n",
              "      <td>Action|Sci-Fi|IMAX</td>\n",
              "    </tr>\n",
              "    <tr>\n",
              "      <th>8264</th>\n",
              "      <td>105197</td>\n",
              "      <td>Nebraska (2013)</td>\n",
              "      <td>Adventure|Drama</td>\n",
              "    </tr>\n",
              "    <tr>\n",
              "      <th>8274</th>\n",
              "      <td>105504</td>\n",
              "      <td>Captain Phillips (2013)</td>\n",
              "      <td>Adventure|Drama|Thriller|IMAX</td>\n",
              "    </tr>\n",
              "    <tr>\n",
              "      <th>8285</th>\n",
              "      <td>105844</td>\n",
              "      <td>12 Years a Slave (2013)</td>\n",
              "      <td>Drama</td>\n",
              "    </tr>\n",
              "    <tr>\n",
              "      <th>8290</th>\n",
              "      <td>106100</td>\n",
              "      <td>Dallas Buyers Club (2013)</td>\n",
              "      <td>Drama</td>\n",
              "    </tr>\n",
              "    <tr>\n",
              "      <th>8293</th>\n",
              "      <td>106438</td>\n",
              "      <td>Philomena (2013)</td>\n",
              "      <td>Comedy|Drama</td>\n",
              "    </tr>\n",
              "    <tr>\n",
              "      <th>8305</th>\n",
              "      <td>106782</td>\n",
              "      <td>Wolf of Wall Street, The (2013)</td>\n",
              "      <td>Comedy|Crime|Drama</td>\n",
              "    </tr>\n",
              "    <tr>\n",
              "      <th>8311</th>\n",
              "      <td>106916</td>\n",
              "      <td>American Hustle (2013)</td>\n",
              "      <td>Crime|Drama</td>\n",
              "    </tr>\n",
              "    <tr>\n",
              "      <th>8313</th>\n",
              "      <td>106920</td>\n",
              "      <td>Her (2013)</td>\n",
              "      <td>Drama|Romance|Sci-Fi</td>\n",
              "    </tr>\n",
              "  </tbody>\n",
              "</table>\n",
              "</div>"
            ],
            "text/plain": [
              "      movieId                            title                         genres\n",
              "8252   104841                   Gravity (2013)             Action|Sci-Fi|IMAX\n",
              "8264   105197                  Nebraska (2013)                Adventure|Drama\n",
              "8274   105504          Captain Phillips (2013)  Adventure|Drama|Thriller|IMAX\n",
              "8285   105844          12 Years a Slave (2013)                          Drama\n",
              "8290   106100        Dallas Buyers Club (2013)                          Drama\n",
              "8293   106438                 Philomena (2013)                   Comedy|Drama\n",
              "8305   106782  Wolf of Wall Street, The (2013)             Comedy|Crime|Drama\n",
              "8311   106916           American Hustle (2013)                    Crime|Drama\n",
              "8313   106920                       Her (2013)           Drama|Romance|Sci-Fi"
            ]
          },
          "metadata": {
            "tags": []
          },
          "execution_count": 5
        }
      ]
    },
    {
      "cell_type": "code",
      "metadata": {
        "id": "0PhhkVMDVYOY",
        "colab_type": "code",
        "colab": {}
      },
      "source": [
        "import matplotlib.pyplot as plt"
      ],
      "execution_count": 0,
      "outputs": []
    },
    {
      "cell_type": "code",
      "metadata": {
        "id": "9hcINKfbViz3",
        "colab_type": "code",
        "outputId": "9e920dd3-e8b4-422b-c7eb-eb24ba375948",
        "colab": {
          "base_uri": "https://localhost:8080/",
          "height": 533
        }
      },
      "source": [
        "notas105844 = avaliacao.query(\"movieId == 105844\")\n",
        "notas106916 = avaliacao.query(\"movieId == 106916\")\n",
        "notas105504 = avaliacao.query(\"movieId == 105504\")\n",
        "notas106100 = avaliacao.query(\"movieId == 106100\")\n",
        "notas104841 = avaliacao.query(\"movieId == 104841\")\n",
        "notas106920 = avaliacao.query(\"movieId == 106920\")\n",
        "notas105197 = avaliacao.query(\"movieId == 105197\")\n",
        "notas106438 = avaliacao.query(\"movieId == 106438\")\n",
        "notas106782 = avaliacao.query(\"movieId == 106782\")\n",
        "\n",
        "plt.boxplot([notas105844.rating, notas106916.rating, notas105504.rating, \n",
        "             notas106100.rating, notas104841.rating, notas106920.rating,\n",
        "             notas105197.rating, notas106438.rating, notas106782.rating]\n",
        "            , labels=['12 YEARS A SLAVE', 'AMERICAN HUSTLE', 'CAPTAIN PHILLIPS', \n",
        "                      'DALLAS BUYERS CLUB', 'GRAVITY', 'HER', 'NEBRASKA', 'PHILOMENA',\n",
        "                      'WOLF OF WALL STREET'])\n",
        "plt.title('Distribuicao das notas de acordo com os filmes')\n",
        "plt.rcParams['figure.figsize']=25,10"
      ],
      "execution_count": 128,
      "outputs": [
        {
          "output_type": "display_data",
          "data": {
            "image/png": "[encoded data removed]",
            "text/plain": [
              "<Figure size 1800x720 with 1 Axes>"
            ]
          },
          "metadata": {
            "tags": [],
            "needs_background": "light"
          }
        }
      ]
    },
    {
      "cell_type": "code",
      "metadata": {
        "id": "SdrGrtXzdOk5",
        "colab_type": "code",
        "colab": {
          "base_uri": "https://localhost:8080/",
          "height": 71
        },
        "outputId": "452bd507-0e5b-4c39-b71e-24dda79517b7"
      },
      "source": [
        "import seaborn as sns"
      ],
      "execution_count": 8,
      "outputs": [
        {
          "output_type": "stream",
          "text": [
            "/usr/local/lib/python3.6/dist-packages/statsmodels/tools/_testing.py:19: FutureWarning: pandas.util.testing is deprecated. Use the functions in the public API at pandas.testing instead.\n",
            "  import pandas.util.testing as tm\n"
          ],
          "name": "stderr"
        }
      ]
    },
    {
      "cell_type": "code",
      "metadata": {
        "id": "Eew5LfYxe_6H",
        "colab_type": "code",
        "outputId": "d057a932-7fa3-4423-ee0a-e29d57660e2b",
        "colab": {
          "base_uri": "https://localhost:8080/",
          "height": 238
        }
      },
      "source": [
        "nota_media_por_filme = avaliacao.groupby(\"movieId\").mean()[\"rating\"]\n",
        "nota_media_por_filme.head(100)"
      ],
      "execution_count": 9,
      "outputs": [
        {
          "output_type": "execute_result",
          "data": {
            "text/plain": [
              "movieId\n",
              "1      3.920930\n",
              "2      3.431818\n",
              "3      3.259615\n",
              "4      2.357143\n",
              "5      3.071429\n",
              "         ...   \n",
              "107    3.326923\n",
              "108    4.000000\n",
              "110    4.031646\n",
              "111    4.105769\n",
              "112    3.543478\n",
              "Name: rating, Length: 100, dtype: float64"
            ]
          },
          "metadata": {
            "tags": []
          },
          "execution_count": 9
        }
      ]
    },
    {
      "cell_type": "code",
      "metadata": {
        "id": "_K-kWtIzjgNf",
        "colab_type": "code",
        "outputId": "404cb3ca-d9d2-4c2d-c3c5-4f5638c4c89f",
        "colab": {
          "base_uri": "https://localhost:8080/",
          "height": 450
        }
      },
      "source": [
        "nota_media_por_filme = pd.DataFrame(data=nota_media_por_filme)\n",
        "nota_media_por_filme"
      ],
      "execution_count": 10,
      "outputs": [
        {
          "output_type": "execute_result",
          "data": {
            "text/html": [
              "<div>\n",
              "<style scoped>\n",
              "    .dataframe tbody tr th:only-of-type {\n",
              "        vertical-align: middle;\n",
              "    }\n",
              "\n",
              "    .dataframe tbody tr th {\n",
              "        vertical-align: top;\n",
              "    }\n",
              "\n",
              "    .dataframe thead th {\n",
              "        text-align: right;\n",
              "    }\n",
              "</style>\n",
              "<table border=\"1\" class=\"dataframe\">\n",
              "  <thead>\n",
              "    <tr style=\"text-align: right;\">\n",
              "      <th></th>\n",
              "      <th>rating</th>\n",
              "    </tr>\n",
              "    <tr>\n",
              "      <th>movieId</th>\n",
              "      <th></th>\n",
              "    </tr>\n",
              "  </thead>\n",
              "  <tbody>\n",
              "    <tr>\n",
              "      <th>1</th>\n",
              "      <td>3.920930</td>\n",
              "    </tr>\n",
              "    <tr>\n",
              "      <th>2</th>\n",
              "      <td>3.431818</td>\n",
              "    </tr>\n",
              "    <tr>\n",
              "      <th>3</th>\n",
              "      <td>3.259615</td>\n",
              "    </tr>\n",
              "    <tr>\n",
              "      <th>4</th>\n",
              "      <td>2.357143</td>\n",
              "    </tr>\n",
              "    <tr>\n",
              "      <th>5</th>\n",
              "      <td>3.071429</td>\n",
              "    </tr>\n",
              "    <tr>\n",
              "      <th>...</th>\n",
              "      <td>...</td>\n",
              "    </tr>\n",
              "    <tr>\n",
              "      <th>193581</th>\n",
              "      <td>4.000000</td>\n",
              "    </tr>\n",
              "    <tr>\n",
              "      <th>193583</th>\n",
              "      <td>3.500000</td>\n",
              "    </tr>\n",
              "    <tr>\n",
              "      <th>193585</th>\n",
              "      <td>3.500000</td>\n",
              "    </tr>\n",
              "    <tr>\n",
              "      <th>193587</th>\n",
              "      <td>3.500000</td>\n",
              "    </tr>\n",
              "    <tr>\n",
              "      <th>193609</th>\n",
              "      <td>4.000000</td>\n",
              "    </tr>\n",
              "  </tbody>\n",
              "</table>\n",
              "<p>9724 rows × 1 columns</p>\n",
              "</div>"
            ],
            "text/plain": [
              "           rating\n",
              "movieId          \n",
              "1        3.920930\n",
              "2        3.431818\n",
              "3        3.259615\n",
              "4        2.357143\n",
              "5        3.071429\n",
              "...           ...\n",
              "193581   4.000000\n",
              "193583   3.500000\n",
              "193585   3.500000\n",
              "193587   3.500000\n",
              "193609   4.000000\n",
              "\n",
              "[9724 rows x 1 columns]"
            ]
          },
          "metadata": {
            "tags": []
          },
          "execution_count": 10
        }
      ]
    },
    {
      "cell_type": "code",
      "metadata": {
        "id": "meJFIqegl8VC",
        "colab_type": "code",
        "outputId": "cce1d1c9-c76b-4e2b-83b3-2236e5ed466b",
        "colab": {
          "base_uri": "https://localhost:8080/",
          "height": 359
        }
      },
      "source": [
        "nota = nota_media_por_filme.query(\"movieId in [105844,106916,105504, 106100, 104841, 106920, 105197, 106438, 106782]\")\n",
        "nota"
      ],
      "execution_count": 11,
      "outputs": [
        {
          "output_type": "execute_result",
          "data": {
            "text/html": [
              "<div>\n",
              "<style scoped>\n",
              "    .dataframe tbody tr th:only-of-type {\n",
              "        vertical-align: middle;\n",
              "    }\n",
              "\n",
              "    .dataframe tbody tr th {\n",
              "        vertical-align: top;\n",
              "    }\n",
              "\n",
              "    .dataframe thead th {\n",
              "        text-align: right;\n",
              "    }\n",
              "</style>\n",
              "<table border=\"1\" class=\"dataframe\">\n",
              "  <thead>\n",
              "    <tr style=\"text-align: right;\">\n",
              "      <th></th>\n",
              "      <th>rating</th>\n",
              "    </tr>\n",
              "    <tr>\n",
              "      <th>movieId</th>\n",
              "      <th></th>\n",
              "    </tr>\n",
              "  </thead>\n",
              "  <tbody>\n",
              "    <tr>\n",
              "      <th>104841</th>\n",
              "      <td>3.578125</td>\n",
              "    </tr>\n",
              "    <tr>\n",
              "      <th>105197</th>\n",
              "      <td>4.125000</td>\n",
              "    </tr>\n",
              "    <tr>\n",
              "      <th>105504</th>\n",
              "      <td>4.047619</td>\n",
              "    </tr>\n",
              "    <tr>\n",
              "      <th>105844</th>\n",
              "      <td>3.625000</td>\n",
              "    </tr>\n",
              "    <tr>\n",
              "      <th>106100</th>\n",
              "      <td>3.970588</td>\n",
              "    </tr>\n",
              "    <tr>\n",
              "      <th>106438</th>\n",
              "      <td>3.250000</td>\n",
              "    </tr>\n",
              "    <tr>\n",
              "      <th>106782</th>\n",
              "      <td>3.916667</td>\n",
              "    </tr>\n",
              "    <tr>\n",
              "      <th>106916</th>\n",
              "      <td>3.250000</td>\n",
              "    </tr>\n",
              "    <tr>\n",
              "      <th>106920</th>\n",
              "      <td>3.920000</td>\n",
              "    </tr>\n",
              "  </tbody>\n",
              "</table>\n",
              "</div>"
            ],
            "text/plain": [
              "           rating\n",
              "movieId          \n",
              "104841   3.578125\n",
              "105197   4.125000\n",
              "105504   4.047619\n",
              "105844   3.625000\n",
              "106100   3.970588\n",
              "106438   3.250000\n",
              "106782   3.916667\n",
              "106916   3.250000\n",
              "106920   3.920000"
            ]
          },
          "metadata": {
            "tags": []
          },
          "execution_count": 11
        }
      ]
    },
    {
      "cell_type": "code",
      "metadata": {
        "id": "vPE25faQoEuK",
        "colab_type": "code",
        "outputId": "ae25b0c2-df74-4be4-dc81-d7a4da030255",
        "colab": {
          "base_uri": "https://localhost:8080/",
          "height": 328
        }
      },
      "source": [
        " oscar.sort_values(by='genres') "
      ],
      "execution_count": 12,
      "outputs": [
        {
          "output_type": "execute_result",
          "data": {
            "text/html": [
              "<div>\n",
              "<style scoped>\n",
              "    .dataframe tbody tr th:only-of-type {\n",
              "        vertical-align: middle;\n",
              "    }\n",
              "\n",
              "    .dataframe tbody tr th {\n",
              "        vertical-align: top;\n",
              "    }\n",
              "\n",
              "    .dataframe thead th {\n",
              "        text-align: right;\n",
              "    }\n",
              "</style>\n",
              "<table border=\"1\" class=\"dataframe\">\n",
              "  <thead>\n",
              "    <tr style=\"text-align: right;\">\n",
              "      <th></th>\n",
              "      <th>movieId</th>\n",
              "      <th>title</th>\n",
              "      <th>genres</th>\n",
              "    </tr>\n",
              "  </thead>\n",
              "  <tbody>\n",
              "    <tr>\n",
              "      <th>8252</th>\n",
              "      <td>104841</td>\n",
              "      <td>Gravity (2013)</td>\n",
              "      <td>Action|Sci-Fi|IMAX</td>\n",
              "    </tr>\n",
              "    <tr>\n",
              "      <th>8264</th>\n",
              "      <td>105197</td>\n",
              "      <td>Nebraska (2013)</td>\n",
              "      <td>Adventure|Drama</td>\n",
              "    </tr>\n",
              "    <tr>\n",
              "      <th>8274</th>\n",
              "      <td>105504</td>\n",
              "      <td>Captain Phillips (2013)</td>\n",
              "      <td>Adventure|Drama|Thriller|IMAX</td>\n",
              "    </tr>\n",
              "    <tr>\n",
              "      <th>8305</th>\n",
              "      <td>106782</td>\n",
              "      <td>Wolf of Wall Street, The (2013)</td>\n",
              "      <td>Comedy|Crime|Drama</td>\n",
              "    </tr>\n",
              "    <tr>\n",
              "      <th>8293</th>\n",
              "      <td>106438</td>\n",
              "      <td>Philomena (2013)</td>\n",
              "      <td>Comedy|Drama</td>\n",
              "    </tr>\n",
              "    <tr>\n",
              "      <th>8311</th>\n",
              "      <td>106916</td>\n",
              "      <td>American Hustle (2013)</td>\n",
              "      <td>Crime|Drama</td>\n",
              "    </tr>\n",
              "    <tr>\n",
              "      <th>8285</th>\n",
              "      <td>105844</td>\n",
              "      <td>12 Years a Slave (2013)</td>\n",
              "      <td>Drama</td>\n",
              "    </tr>\n",
              "    <tr>\n",
              "      <th>8290</th>\n",
              "      <td>106100</td>\n",
              "      <td>Dallas Buyers Club (2013)</td>\n",
              "      <td>Drama</td>\n",
              "    </tr>\n",
              "    <tr>\n",
              "      <th>8313</th>\n",
              "      <td>106920</td>\n",
              "      <td>Her (2013)</td>\n",
              "      <td>Drama|Romance|Sci-Fi</td>\n",
              "    </tr>\n",
              "  </tbody>\n",
              "</table>\n",
              "</div>"
            ],
            "text/plain": [
              "      movieId                            title                         genres\n",
              "8252   104841                   Gravity (2013)             Action|Sci-Fi|IMAX\n",
              "8264   105197                  Nebraska (2013)                Adventure|Drama\n",
              "8274   105504          Captain Phillips (2013)  Adventure|Drama|Thriller|IMAX\n",
              "8305   106782  Wolf of Wall Street, The (2013)             Comedy|Crime|Drama\n",
              "8293   106438                 Philomena (2013)                   Comedy|Drama\n",
              "8311   106916           American Hustle (2013)                    Crime|Drama\n",
              "8285   105844          12 Years a Slave (2013)                          Drama\n",
              "8290   106100        Dallas Buyers Club (2013)                          Drama\n",
              "8313   106920                       Her (2013)           Drama|Romance|Sci-Fi"
            ]
          },
          "metadata": {
            "tags": []
          },
          "execution_count": 12
        }
      ]
    },
    {
      "cell_type": "code",
      "metadata": {
        "id": "SBawsWCKVWTz",
        "colab_type": "code",
        "colab": {}
      },
      "source": [
        "new_col = [3.578125,4.125000, 4.047619, 3.625000, 3.970588, 3.250000, 3.916667, 3.250000, 3.920000]"
      ],
      "execution_count": 0,
      "outputs": []
    },
    {
      "cell_type": "code",
      "metadata": {
        "id": "3nOF3x_kXRkR",
        "colab_type": "code",
        "colab": {}
      },
      "source": [
        "oscar.insert(loc=0,column='rating', value=new_col)"
      ],
      "execution_count": 0,
      "outputs": []
    },
    {
      "cell_type": "code",
      "metadata": {
        "id": "Vgl9wL5HXaeA",
        "colab_type": "code",
        "outputId": "cd847183-26cf-4236-e431-69aa0dcb98c5",
        "colab": {
          "base_uri": "https://localhost:8080/",
          "height": 328
        }
      },
      "source": [
        "oscar"
      ],
      "execution_count": 15,
      "outputs": [
        {
          "output_type": "execute_result",
          "data": {
            "text/html": [
              "<div>\n",
              "<style scoped>\n",
              "    .dataframe tbody tr th:only-of-type {\n",
              "        vertical-align: middle;\n",
              "    }\n",
              "\n",
              "    .dataframe tbody tr th {\n",
              "        vertical-align: top;\n",
              "    }\n",
              "\n",
              "    .dataframe thead th {\n",
              "        text-align: right;\n",
              "    }\n",
              "</style>\n",
              "<table border=\"1\" class=\"dataframe\">\n",
              "  <thead>\n",
              "    <tr style=\"text-align: right;\">\n",
              "      <th></th>\n",
              "      <th>rating</th>\n",
              "      <th>movieId</th>\n",
              "      <th>title</th>\n",
              "      <th>genres</th>\n",
              "    </tr>\n",
              "  </thead>\n",
              "  <tbody>\n",
              "    <tr>\n",
              "      <th>8252</th>\n",
              "      <td>3.578125</td>\n",
              "      <td>104841</td>\n",
              "      <td>Gravity (2013)</td>\n",
              "      <td>Action|Sci-Fi|IMAX</td>\n",
              "    </tr>\n",
              "    <tr>\n",
              "      <th>8264</th>\n",
              "      <td>4.125000</td>\n",
              "      <td>105197</td>\n",
              "      <td>Nebraska (2013)</td>\n",
              "      <td>Adventure|Drama</td>\n",
              "    </tr>\n",
              "    <tr>\n",
              "      <th>8274</th>\n",
              "      <td>4.047619</td>\n",
              "      <td>105504</td>\n",
              "      <td>Captain Phillips (2013)</td>\n",
              "      <td>Adventure|Drama|Thriller|IMAX</td>\n",
              "    </tr>\n",
              "    <tr>\n",
              "      <th>8285</th>\n",
              "      <td>3.625000</td>\n",
              "      <td>105844</td>\n",
              "      <td>12 Years a Slave (2013)</td>\n",
              "      <td>Drama</td>\n",
              "    </tr>\n",
              "    <tr>\n",
              "      <th>8290</th>\n",
              "      <td>3.970588</td>\n",
              "      <td>106100</td>\n",
              "      <td>Dallas Buyers Club (2013)</td>\n",
              "      <td>Drama</td>\n",
              "    </tr>\n",
              "    <tr>\n",
              "      <th>8293</th>\n",
              "      <td>3.250000</td>\n",
              "      <td>106438</td>\n",
              "      <td>Philomena (2013)</td>\n",
              "      <td>Comedy|Drama</td>\n",
              "    </tr>\n",
              "    <tr>\n",
              "      <th>8305</th>\n",
              "      <td>3.916667</td>\n",
              "      <td>106782</td>\n",
              "      <td>Wolf of Wall Street, The (2013)</td>\n",
              "      <td>Comedy|Crime|Drama</td>\n",
              "    </tr>\n",
              "    <tr>\n",
              "      <th>8311</th>\n",
              "      <td>3.250000</td>\n",
              "      <td>106916</td>\n",
              "      <td>American Hustle (2013)</td>\n",
              "      <td>Crime|Drama</td>\n",
              "    </tr>\n",
              "    <tr>\n",
              "      <th>8313</th>\n",
              "      <td>3.920000</td>\n",
              "      <td>106920</td>\n",
              "      <td>Her (2013)</td>\n",
              "      <td>Drama|Romance|Sci-Fi</td>\n",
              "    </tr>\n",
              "  </tbody>\n",
              "</table>\n",
              "</div>"
            ],
            "text/plain": [
              "        rating  ...                         genres\n",
              "8252  3.578125  ...             Action|Sci-Fi|IMAX\n",
              "8264  4.125000  ...                Adventure|Drama\n",
              "8274  4.047619  ...  Adventure|Drama|Thriller|IMAX\n",
              "8285  3.625000  ...                          Drama\n",
              "8290  3.970588  ...                          Drama\n",
              "8293  3.250000  ...                   Comedy|Drama\n",
              "8305  3.916667  ...             Comedy|Crime|Drama\n",
              "8311  3.250000  ...                    Crime|Drama\n",
              "8313  3.920000  ...           Drama|Romance|Sci-Fi\n",
              "\n",
              "[9 rows x 4 columns]"
            ]
          },
          "metadata": {
            "tags": []
          },
          "execution_count": 15
        }
      ]
    },
    {
      "cell_type": "code",
      "metadata": {
        "id": "59Kd2gU9XhBS",
        "colab_type": "code",
        "outputId": "1fb4ee8d-6153-4692-8960-72be8713e8d9",
        "colab": {
          "base_uri": "https://localhost:8080/",
          "height": 328
        }
      },
      "source": [
        " oscar.sort_values(by='rating') "
      ],
      "execution_count": 16,
      "outputs": [
        {
          "output_type": "execute_result",
          "data": {
            "text/html": [
              "<div>\n",
              "<style scoped>\n",
              "    .dataframe tbody tr th:only-of-type {\n",
              "        vertical-align: middle;\n",
              "    }\n",
              "\n",
              "    .dataframe tbody tr th {\n",
              "        vertical-align: top;\n",
              "    }\n",
              "\n",
              "    .dataframe thead th {\n",
              "        text-align: right;\n",
              "    }\n",
              "</style>\n",
              "<table border=\"1\" class=\"dataframe\">\n",
              "  <thead>\n",
              "    <tr style=\"text-align: right;\">\n",
              "      <th></th>\n",
              "      <th>rating</th>\n",
              "      <th>movieId</th>\n",
              "      <th>title</th>\n",
              "      <th>genres</th>\n",
              "    </tr>\n",
              "  </thead>\n",
              "  <tbody>\n",
              "    <tr>\n",
              "      <th>8293</th>\n",
              "      <td>3.250000</td>\n",
              "      <td>106438</td>\n",
              "      <td>Philomena (2013)</td>\n",
              "      <td>Comedy|Drama</td>\n",
              "    </tr>\n",
              "    <tr>\n",
              "      <th>8311</th>\n",
              "      <td>3.250000</td>\n",
              "      <td>106916</td>\n",
              "      <td>American Hustle (2013)</td>\n",
              "      <td>Crime|Drama</td>\n",
              "    </tr>\n",
              "    <tr>\n",
              "      <th>8252</th>\n",
              "      <td>3.578125</td>\n",
              "      <td>104841</td>\n",
              "      <td>Gravity (2013)</td>\n",
              "      <td>Action|Sci-Fi|IMAX</td>\n",
              "    </tr>\n",
              "    <tr>\n",
              "      <th>8285</th>\n",
              "      <td>3.625000</td>\n",
              "      <td>105844</td>\n",
              "      <td>12 Years a Slave (2013)</td>\n",
              "      <td>Drama</td>\n",
              "    </tr>\n",
              "    <tr>\n",
              "      <th>8305</th>\n",
              "      <td>3.916667</td>\n",
              "      <td>106782</td>\n",
              "      <td>Wolf of Wall Street, The (2013)</td>\n",
              "      <td>Comedy|Crime|Drama</td>\n",
              "    </tr>\n",
              "    <tr>\n",
              "      <th>8313</th>\n",
              "      <td>3.920000</td>\n",
              "      <td>106920</td>\n",
              "      <td>Her (2013)</td>\n",
              "      <td>Drama|Romance|Sci-Fi</td>\n",
              "    </tr>\n",
              "    <tr>\n",
              "      <th>8290</th>\n",
              "      <td>3.970588</td>\n",
              "      <td>106100</td>\n",
              "      <td>Dallas Buyers Club (2013)</td>\n",
              "      <td>Drama</td>\n",
              "    </tr>\n",
              "    <tr>\n",
              "      <th>8274</th>\n",
              "      <td>4.047619</td>\n",
              "      <td>105504</td>\n",
              "      <td>Captain Phillips (2013)</td>\n",
              "      <td>Adventure|Drama|Thriller|IMAX</td>\n",
              "    </tr>\n",
              "    <tr>\n",
              "      <th>8264</th>\n",
              "      <td>4.125000</td>\n",
              "      <td>105197</td>\n",
              "      <td>Nebraska (2013)</td>\n",
              "      <td>Adventure|Drama</td>\n",
              "    </tr>\n",
              "  </tbody>\n",
              "</table>\n",
              "</div>"
            ],
            "text/plain": [
              "        rating  ...                         genres\n",
              "8293  3.250000  ...                   Comedy|Drama\n",
              "8311  3.250000  ...                    Crime|Drama\n",
              "8252  3.578125  ...             Action|Sci-Fi|IMAX\n",
              "8285  3.625000  ...                          Drama\n",
              "8305  3.916667  ...             Comedy|Crime|Drama\n",
              "8313  3.920000  ...           Drama|Romance|Sci-Fi\n",
              "8290  3.970588  ...                          Drama\n",
              "8274  4.047619  ...  Adventure|Drama|Thriller|IMAX\n",
              "8264  4.125000  ...                Adventure|Drama\n",
              "\n",
              "[9 rows x 4 columns]"
            ]
          },
          "metadata": {
            "tags": []
          },
          "execution_count": 16
        }
      ]
    },
    {
      "cell_type": "markdown",
      "metadata": {
        "id": "PPoTkkXKYgUy",
        "colab_type": "text"
      },
      "source": [
        "#**Verificar pela nota na amostra do movieleans qual seria o filme ganhador do oscar no ano de 2014\n",
        "\n"
      ]
    },
    {
      "cell_type": "markdown",
      "metadata": {
        "id": "LnOK3viGYX2h",
        "colab_type": "text"
      },
      "source": [
        "**Conforme o grafico de candes e a media das avaliacoes, o filme \"12 years a slave\" ganhador do oscar 2014, nao foi considerado o filme melhor avaliado pelo publico em geral**"
      ]
    },
    {
      "cell_type": "code",
      "metadata": {
        "id": "DGRA3rtNZe4O",
        "colab_type": "code",
        "colab": {}
      },
      "source": [
        "tmdb = pd.read_csv('tmdb_5000_movies.csv')"
      ],
      "execution_count": 0,
      "outputs": []
    },
    {
      "cell_type": "code",
      "metadata": {
        "id": "fQcc4QpLZr_i",
        "colab_type": "code",
        "outputId": "9855df69-6348-4bb1-b459-a4ebfaced275",
        "colab": {
          "base_uri": "https://localhost:8080/",
          "height": 185
        }
      },
      "source": [
        "tmdb.head(1)"
      ],
      "execution_count": 18,
      "outputs": [
        {
          "output_type": "execute_result",
          "data": {
            "text/html": [
              "<div>\n",
              "<style scoped>\n",
              "    .dataframe tbody tr th:only-of-type {\n",
              "        vertical-align: middle;\n",
              "    }\n",
              "\n",
              "    .dataframe tbody tr th {\n",
              "        vertical-align: top;\n",
              "    }\n",
              "\n",
              "    .dataframe thead th {\n",
              "        text-align: right;\n",
              "    }\n",
              "</style>\n",
              "<table border=\"1\" class=\"dataframe\">\n",
              "  <thead>\n",
              "    <tr style=\"text-align: right;\">\n",
              "      <th></th>\n",
              "      <th>budget</th>\n",
              "      <th>genres</th>\n",
              "      <th>homepage</th>\n",
              "      <th>id</th>\n",
              "      <th>keywords</th>\n",
              "      <th>original_language</th>\n",
              "      <th>original_title</th>\n",
              "      <th>overview</th>\n",
              "      <th>popularity</th>\n",
              "      <th>production_companies</th>\n",
              "      <th>production_countries</th>\n",
              "      <th>release_date</th>\n",
              "      <th>revenue</th>\n",
              "      <th>runtime</th>\n",
              "      <th>spoken_languages</th>\n",
              "      <th>status</th>\n",
              "      <th>tagline</th>\n",
              "      <th>title</th>\n",
              "      <th>vote_average</th>\n",
              "      <th>vote_count</th>\n",
              "    </tr>\n",
              "  </thead>\n",
              "  <tbody>\n",
              "    <tr>\n",
              "      <th>0</th>\n",
              "      <td>237000000</td>\n",
              "      <td>[{\"id\": 28, \"name\": \"Action\"}, {\"id\": 12, \"nam...</td>\n",
              "      <td>http://www.avatarmovie.com/</td>\n",
              "      <td>19995</td>\n",
              "      <td>[{\"id\": 1463, \"name\": \"culture clash\"}, {\"id\":...</td>\n",
              "      <td>en</td>\n",
              "      <td>Avatar</td>\n",
              "      <td>In the 22nd century, a paraplegic Marine is di...</td>\n",
              "      <td>150.437577</td>\n",
              "      <td>[{\"name\": \"Ingenious Film Partners\", \"id\": 289...</td>\n",
              "      <td>[{\"iso_3166_1\": \"US\", \"name\": \"United States o...</td>\n",
              "      <td>2009-12-10</td>\n",
              "      <td>2787965087</td>\n",
              "      <td>162.0</td>\n",
              "      <td>[{\"iso_639_1\": \"en\", \"name\": \"English\"}, {\"iso...</td>\n",
              "      <td>Released</td>\n",
              "      <td>Enter the World of Pandora.</td>\n",
              "      <td>Avatar</td>\n",
              "      <td>7.2</td>\n",
              "      <td>11800</td>\n",
              "    </tr>\n",
              "  </tbody>\n",
              "</table>\n",
              "</div>"
            ],
            "text/plain": [
              "      budget  ... vote_count\n",
              "0  237000000  ...      11800\n",
              "\n",
              "[1 rows x 20 columns]"
            ]
          },
          "metadata": {
            "tags": []
          },
          "execution_count": 18
        }
      ]
    },
    {
      "cell_type": "code",
      "metadata": {
        "id": "jh_f90PVZx7K",
        "colab_type": "code",
        "colab": {}
      },
      "source": [
        "tmdb_oscar = tmdb.drop(['genres', 'homepage', 'keywords', 'original_language', \n",
        "                              'overview', 'production_companies', 'runtime', 'spoken_languages', \n",
        "                              'status', 'tagline'], axis=1)"
      ],
      "execution_count": 0,
      "outputs": []
    },
    {
      "cell_type": "code",
      "metadata": {
        "id": "4qt_6uj9bkmR",
        "colab_type": "code",
        "outputId": "487d5f5b-1f02-4016-b885-394bf9867dfc",
        "colab": {
          "base_uri": "https://localhost:8080/",
          "height": 306
        }
      },
      "source": [
        "tmdb_oscar.head()"
      ],
      "execution_count": 20,
      "outputs": [
        {
          "output_type": "execute_result",
          "data": {
            "text/html": [
              "<div>\n",
              "<style scoped>\n",
              "    .dataframe tbody tr th:only-of-type {\n",
              "        vertical-align: middle;\n",
              "    }\n",
              "\n",
              "    .dataframe tbody tr th {\n",
              "        vertical-align: top;\n",
              "    }\n",
              "\n",
              "    .dataframe thead th {\n",
              "        text-align: right;\n",
              "    }\n",
              "</style>\n",
              "<table border=\"1\" class=\"dataframe\">\n",
              "  <thead>\n",
              "    <tr style=\"text-align: right;\">\n",
              "      <th></th>\n",
              "      <th>budget</th>\n",
              "      <th>id</th>\n",
              "      <th>original_title</th>\n",
              "      <th>popularity</th>\n",
              "      <th>production_countries</th>\n",
              "      <th>release_date</th>\n",
              "      <th>revenue</th>\n",
              "      <th>title</th>\n",
              "      <th>vote_average</th>\n",
              "      <th>vote_count</th>\n",
              "    </tr>\n",
              "  </thead>\n",
              "  <tbody>\n",
              "    <tr>\n",
              "      <th>0</th>\n",
              "      <td>237000000</td>\n",
              "      <td>19995</td>\n",
              "      <td>Avatar</td>\n",
              "      <td>150.437577</td>\n",
              "      <td>[{\"iso_3166_1\": \"US\", \"name\": \"United States o...</td>\n",
              "      <td>2009-12-10</td>\n",
              "      <td>2787965087</td>\n",
              "      <td>Avatar</td>\n",
              "      <td>7.2</td>\n",
              "      <td>11800</td>\n",
              "    </tr>\n",
              "    <tr>\n",
              "      <th>1</th>\n",
              "      <td>300000000</td>\n",
              "      <td>285</td>\n",
              "      <td>Pirates of the Caribbean: At World's End</td>\n",
              "      <td>139.082615</td>\n",
              "      <td>[{\"iso_3166_1\": \"US\", \"name\": \"United States o...</td>\n",
              "      <td>2007-05-19</td>\n",
              "      <td>961000000</td>\n",
              "      <td>Pirates of the Caribbean: At World's End</td>\n",
              "      <td>6.9</td>\n",
              "      <td>4500</td>\n",
              "    </tr>\n",
              "    <tr>\n",
              "      <th>2</th>\n",
              "      <td>245000000</td>\n",
              "      <td>206647</td>\n",
              "      <td>Spectre</td>\n",
              "      <td>107.376788</td>\n",
              "      <td>[{\"iso_3166_1\": \"GB\", \"name\": \"United Kingdom\"...</td>\n",
              "      <td>2015-10-26</td>\n",
              "      <td>880674609</td>\n",
              "      <td>Spectre</td>\n",
              "      <td>6.3</td>\n",
              "      <td>4466</td>\n",
              "    </tr>\n",
              "    <tr>\n",
              "      <th>3</th>\n",
              "      <td>250000000</td>\n",
              "      <td>49026</td>\n",
              "      <td>The Dark Knight Rises</td>\n",
              "      <td>112.312950</td>\n",
              "      <td>[{\"iso_3166_1\": \"US\", \"name\": \"United States o...</td>\n",
              "      <td>2012-07-16</td>\n",
              "      <td>1084939099</td>\n",
              "      <td>The Dark Knight Rises</td>\n",
              "      <td>7.6</td>\n",
              "      <td>9106</td>\n",
              "    </tr>\n",
              "    <tr>\n",
              "      <th>4</th>\n",
              "      <td>260000000</td>\n",
              "      <td>49529</td>\n",
              "      <td>John Carter</td>\n",
              "      <td>43.926995</td>\n",
              "      <td>[{\"iso_3166_1\": \"US\", \"name\": \"United States o...</td>\n",
              "      <td>2012-03-07</td>\n",
              "      <td>284139100</td>\n",
              "      <td>John Carter</td>\n",
              "      <td>6.1</td>\n",
              "      <td>2124</td>\n",
              "    </tr>\n",
              "  </tbody>\n",
              "</table>\n",
              "</div>"
            ],
            "text/plain": [
              "      budget      id  ... vote_average  vote_count\n",
              "0  237000000   19995  ...          7.2       11800\n",
              "1  300000000     285  ...          6.9        4500\n",
              "2  245000000  206647  ...          6.3        4466\n",
              "3  250000000   49026  ...          7.6        9106\n",
              "4  260000000   49529  ...          6.1        2124\n",
              "\n",
              "[5 rows x 10 columns]"
            ]
          },
          "metadata": {
            "tags": []
          },
          "execution_count": 20
        }
      ]
    },
    {
      "cell_type": "code",
      "metadata": {
        "id": "EMVKCtgFbpT3",
        "colab_type": "code",
        "colab": {}
      },
      "source": [
        "timdb_oscar = tmdb_oscar.query(\"title in ['Gravity','Nebraska','Captain Phillips', 'Wolf of Wall Street', 'Philomena', 'American Hustle', '12 Years a Slave', 'Dallas Buyers Club', 'Her']\")"
      ],
      "execution_count": 0,
      "outputs": []
    },
    {
      "cell_type": "code",
      "metadata": {
        "id": "SMEyv-hict84",
        "colab_type": "code",
        "colab": {}
      },
      "source": [
        "tmdb_oscar = timdb_oscar.drop(['production_countries'], axis=1)"
      ],
      "execution_count": 0,
      "outputs": []
    },
    {
      "cell_type": "code",
      "metadata": {
        "id": "ONXtRMm7dXWN",
        "colab_type": "code",
        "colab": {}
      },
      "source": [
        "tmdb_oscar = tmdb_oscar.sort_values(['popularity'],ascending=[0])"
      ],
      "execution_count": 0,
      "outputs": []
    },
    {
      "cell_type": "markdown",
      "metadata": {
        "id": "5Tbzimdrduhj",
        "colab_type": "text"
      },
      "source": [
        "Porem considerando a analise do banco de dados da TMDB_5000, o filme ***12 Years a Slave*** recebe junto com outros filmes da lista a maior media de avaliacao."
      ]
    },
    {
      "cell_type": "code",
      "metadata": {
        "id": "vvVcMVLZeYd2",
        "colab_type": "code",
        "colab": {}
      },
      "source": [
        ""
      ],
      "execution_count": 0,
      "outputs": []
    },
    {
      "cell_type": "markdown",
      "metadata": {
        "id": "MLJmrOIEfA6Y",
        "colab_type": "text"
      },
      "source": [
        "# Analisando popularidade X budget"
      ]
    },
    {
      "cell_type": "code",
      "metadata": {
        "id": "XZ-MgMyCfHHv",
        "colab_type": "code",
        "outputId": "bb955f8d-49f6-46dd-81b3-a68666b588dd",
        "colab": {
          "base_uri": "https://localhost:8080/",
          "height": 553
        }
      },
      "source": [
        "sns.set_color_codes(\"pastel\")\n",
        "plt.title('Popularidade')\n",
        "sns.barplot(x=\"title\", y=\"popularity\", data=tmdb_oscar,\n",
        "            label=\"popularidade\", palette=\"GnBu_d\")"
      ],
      "execution_count": 162,
      "outputs": [
        {
          "output_type": "execute_result",
          "data": {
            "text/plain": [
              "<matplotlib.axes._subplots.AxesSubplot at 0x7fb2d6843978>"
            ]
          },
          "metadata": {
            "tags": []
          },
          "execution_count": 162
        },
        {
          "output_type": "display_data",
          "data": {
            "image/png": "[encoded data removed]",
            "text/plain": [
              "<Figure size 1800x720 with 1 Axes>"
            ]
          },
          "metadata": {
            "tags": [],
            "needs_background": "light"
          }
        }
      ]
    },
    {
      "cell_type": "code",
      "metadata": {
        "id": "siobNSqciKJg",
        "colab_type": "code",
        "outputId": "c57bf917-d4d2-4f49-9080-7f78788588c1",
        "colab": {
          "base_uri": "https://localhost:8080/",
          "height": 142
        }
      },
      "source": [
        "tmdb[['budget', 'popularity', 'revenue']].cov()"
      ],
      "execution_count": 206,
      "outputs": [
        {
          "output_type": "execute_result",
          "data": {
            "text/html": [
              "<div>\n",
              "<style scoped>\n",
              "    .dataframe tbody tr th:only-of-type {\n",
              "        vertical-align: middle;\n",
              "    }\n",
              "\n",
              "    .dataframe tbody tr th {\n",
              "        vertical-align: top;\n",
              "    }\n",
              "\n",
              "    .dataframe thead th {\n",
              "        text-align: right;\n",
              "    }\n",
              "</style>\n",
              "<table border=\"1\" class=\"dataframe\">\n",
              "  <thead>\n",
              "    <tr style=\"text-align: right;\">\n",
              "      <th></th>\n",
              "      <th>budget</th>\n",
              "      <th>popularity</th>\n",
              "      <th>revenue</th>\n",
              "    </tr>\n",
              "  </thead>\n",
              "  <tbody>\n",
              "    <tr>\n",
              "      <th>budget</th>\n",
              "      <td>1.658313e+15</td>\n",
              "      <td>6.548397e+08</td>\n",
              "      <td>4.846766e+15</td>\n",
              "    </tr>\n",
              "    <tr>\n",
              "      <th>popularity</th>\n",
              "      <td>6.548397e+08</td>\n",
              "      <td>1.012299e+03</td>\n",
              "      <td>3.340678e+09</td>\n",
              "    </tr>\n",
              "    <tr>\n",
              "      <th>revenue</th>\n",
              "      <td>4.846766e+15</td>\n",
              "      <td>3.340678e+09</td>\n",
              "      <td>2.652244e+16</td>\n",
              "    </tr>\n",
              "  </tbody>\n",
              "</table>\n",
              "</div>"
            ],
            "text/plain": [
              "                  budget    popularity       revenue\n",
              "budget      1.658313e+15  6.548397e+08  4.846766e+15\n",
              "popularity  6.548397e+08  1.012299e+03  3.340678e+09\n",
              "revenue     4.846766e+15  3.340678e+09  2.652244e+16"
            ]
          },
          "metadata": {
            "tags": []
          },
          "execution_count": 206
        }
      ]
    },
    {
      "cell_type": "code",
      "metadata": {
        "id": "ZyjuUQQda-eL",
        "colab_type": "code",
        "outputId": "009ee637-09df-4479-9166-94fc2cc97dd7",
        "colab": {
          "base_uri": "https://localhost:8080/",
          "height": 142
        }
      },
      "source": [
        "tmdb_oscar[['budget', 'popularity', 'revenue']].cov()"
      ],
      "execution_count": 207,
      "outputs": [
        {
          "output_type": "execute_result",
          "data": {
            "text/html": [
              "<div>\n",
              "<style scoped>\n",
              "    .dataframe tbody tr th:only-of-type {\n",
              "        vertical-align: middle;\n",
              "    }\n",
              "\n",
              "    .dataframe tbody tr th {\n",
              "        vertical-align: top;\n",
              "    }\n",
              "\n",
              "    .dataframe thead th {\n",
              "        text-align: right;\n",
              "    }\n",
              "</style>\n",
              "<table border=\"1\" class=\"dataframe\">\n",
              "  <thead>\n",
              "    <tr style=\"text-align: right;\">\n",
              "      <th></th>\n",
              "      <th>budget</th>\n",
              "      <th>popularity</th>\n",
              "      <th>revenue</th>\n",
              "    </tr>\n",
              "  </thead>\n",
              "  <tbody>\n",
              "    <tr>\n",
              "      <th>budget</th>\n",
              "      <td>1.092000e+15</td>\n",
              "      <td>6.126366e+08</td>\n",
              "      <td>6.719291e+15</td>\n",
              "    </tr>\n",
              "    <tr>\n",
              "      <th>popularity</th>\n",
              "      <td>6.126366e+08</td>\n",
              "      <td>8.445527e+02</td>\n",
              "      <td>5.058315e+09</td>\n",
              "    </tr>\n",
              "    <tr>\n",
              "      <th>revenue</th>\n",
              "      <td>6.719291e+15</td>\n",
              "      <td>5.058315e+09</td>\n",
              "      <td>5.226445e+16</td>\n",
              "    </tr>\n",
              "  </tbody>\n",
              "</table>\n",
              "</div>"
            ],
            "text/plain": [
              "                  budget    popularity       revenue\n",
              "budget      1.092000e+15  6.126366e+08  6.719291e+15\n",
              "popularity  6.126366e+08  8.445527e+02  5.058315e+09\n",
              "revenue     6.719291e+15  5.058315e+09  5.226445e+16"
            ]
          },
          "metadata": {
            "tags": []
          },
          "execution_count": 207
        }
      ]
    },
    {
      "cell_type": "code",
      "metadata": {
        "id": "bwCTRJYHbBvD",
        "colab_type": "code",
        "outputId": "b407eb4c-a695-48de-8685-4bfd29daa7ae",
        "colab": {
          "base_uri": "https://localhost:8080/",
          "height": 421
        }
      },
      "source": [
        "x= tmdb.budget\n",
        "y=tmdb.popularity\n",
        "plt.title('dispercao - popularidade x budget - base total')\n",
        "ax= sns.scatterplot(x,y)\n",
        "ax.figure.set_size_inches(10,6)\n",
        "ax.hlines(y=y.mean(), xmin = x.min(), xmax=x.max(), colors='black', linestyles='dashed')\n",
        "ax.vlines(x=x.mean(), ymin = y.min(), ymax=y.max(), colors='black', linestyles='dashed')"
      ],
      "execution_count": 163,
      "outputs": [
        {
          "output_type": "execute_result",
          "data": {
            "text/plain": [
              "<matplotlib.collections.LineCollection at 0x7fb2d67904e0>"
            ]
          },
          "metadata": {
            "tags": []
          },
          "execution_count": 163
        },
        {
          "output_type": "display_data",
          "data": {
            "image/png": "[encoded data removed]",
            "text/plain": [
              "<Figure size 720x432 with 1 Axes>"
            ]
          },
          "metadata": {
            "tags": [],
            "needs_background": "light"
          }
        }
      ]
    },
    {
      "cell_type": "code",
      "metadata": {
        "id": "rfClrBMddd_T",
        "colab_type": "code",
        "outputId": "13b36b9d-35e8-4d94-9a7f-6e026671ec9d",
        "colab": {
          "base_uri": "https://localhost:8080/",
          "height": 421
        }
      },
      "source": [
        "x= tmdb_oscar.budget\n",
        "y=tmdb_oscar.popularity\n",
        "\n",
        "ax= sns.scatterplot(x,y)\n",
        "plt.title('dispercao - popularidade x budget - filmes indicados ao oscar 2014')\n",
        "ax.figure.set_size_inches(10,6)\n",
        "ax.hlines(y=y.mean(), xmin = x.min(), xmax=x.max(), colors='black', linestyles='dashed')\n",
        "ax.vlines(x=x.mean(), ymin = y.min(), ymax=y.max(), colors='black', linestyles='dashed')"
      ],
      "execution_count": 164,
      "outputs": [
        {
          "output_type": "execute_result",
          "data": {
            "text/plain": [
              "<matplotlib.collections.LineCollection at 0x7fb2d67ea2b0>"
            ]
          },
          "metadata": {
            "tags": []
          },
          "execution_count": 164
        },
        {
          "output_type": "display_data",
          "data": {
            "image/png": "[encoded data removed]",
            "text/plain": [
              "<Figure size 720x432 with 1 Axes>"
            ]
          },
          "metadata": {
            "tags": [],
            "needs_background": "light"
          }
        }
      ]
    },
    {
      "cell_type": "code",
      "metadata": {
        "id": "Xu0nPOv8d9f_",
        "colab_type": "code",
        "outputId": "8467a980-3003-459d-f3eb-4f6f5618333b",
        "colab": {
          "base_uri": "https://localhost:8080/",
          "height": 204
        }
      },
      "source": [
        "tmdb[['budget', 'popularity', 'revenue', 'vote_average', 'vote_count']].corr()"
      ],
      "execution_count": 29,
      "outputs": [
        {
          "output_type": "execute_result",
          "data": {
            "text/html": [
              "<div>\n",
              "<style scoped>\n",
              "    .dataframe tbody tr th:only-of-type {\n",
              "        vertical-align: middle;\n",
              "    }\n",
              "\n",
              "    .dataframe tbody tr th {\n",
              "        vertical-align: top;\n",
              "    }\n",
              "\n",
              "    .dataframe thead th {\n",
              "        text-align: right;\n",
              "    }\n",
              "</style>\n",
              "<table border=\"1\" class=\"dataframe\">\n",
              "  <thead>\n",
              "    <tr style=\"text-align: right;\">\n",
              "      <th></th>\n",
              "      <th>budget</th>\n",
              "      <th>popularity</th>\n",
              "      <th>revenue</th>\n",
              "      <th>vote_average</th>\n",
              "      <th>vote_count</th>\n",
              "    </tr>\n",
              "  </thead>\n",
              "  <tbody>\n",
              "    <tr>\n",
              "      <th>budget</th>\n",
              "      <td>1.000000</td>\n",
              "      <td>0.505414</td>\n",
              "      <td>0.730823</td>\n",
              "      <td>0.093146</td>\n",
              "      <td>0.593180</td>\n",
              "    </tr>\n",
              "    <tr>\n",
              "      <th>popularity</th>\n",
              "      <td>0.505414</td>\n",
              "      <td>1.000000</td>\n",
              "      <td>0.644724</td>\n",
              "      <td>0.273952</td>\n",
              "      <td>0.778130</td>\n",
              "    </tr>\n",
              "    <tr>\n",
              "      <th>revenue</th>\n",
              "      <td>0.730823</td>\n",
              "      <td>0.644724</td>\n",
              "      <td>1.000000</td>\n",
              "      <td>0.197150</td>\n",
              "      <td>0.781487</td>\n",
              "    </tr>\n",
              "    <tr>\n",
              "      <th>vote_average</th>\n",
              "      <td>0.093146</td>\n",
              "      <td>0.273952</td>\n",
              "      <td>0.197150</td>\n",
              "      <td>1.000000</td>\n",
              "      <td>0.312997</td>\n",
              "    </tr>\n",
              "    <tr>\n",
              "      <th>vote_count</th>\n",
              "      <td>0.593180</td>\n",
              "      <td>0.778130</td>\n",
              "      <td>0.781487</td>\n",
              "      <td>0.312997</td>\n",
              "      <td>1.000000</td>\n",
              "    </tr>\n",
              "  </tbody>\n",
              "</table>\n",
              "</div>"
            ],
            "text/plain": [
              "                budget  popularity   revenue  vote_average  vote_count\n",
              "budget        1.000000    0.505414  0.730823      0.093146    0.593180\n",
              "popularity    0.505414    1.000000  0.644724      0.273952    0.778130\n",
              "revenue       0.730823    0.644724  1.000000      0.197150    0.781487\n",
              "vote_average  0.093146    0.273952  0.197150      1.000000    0.312997\n",
              "vote_count    0.593180    0.778130  0.781487      0.312997    1.000000"
            ]
          },
          "metadata": {
            "tags": []
          },
          "execution_count": 29
        }
      ]
    },
    {
      "cell_type": "code",
      "metadata": {
        "id": "1cGIteavgOch",
        "colab_type": "code",
        "outputId": "1e21515b-613f-4da1-e8f9-52a6e2259ec0",
        "colab": {
          "base_uri": "https://localhost:8080/",
          "height": 204
        }
      },
      "source": [
        "tmdb_oscar[['budget', 'popularity', 'revenue', 'vote_average', 'vote_count']].corr()"
      ],
      "execution_count": 30,
      "outputs": [
        {
          "output_type": "execute_result",
          "data": {
            "text/html": [
              "<div>\n",
              "<style scoped>\n",
              "    .dataframe tbody tr th:only-of-type {\n",
              "        vertical-align: middle;\n",
              "    }\n",
              "\n",
              "    .dataframe tbody tr th {\n",
              "        vertical-align: top;\n",
              "    }\n",
              "\n",
              "    .dataframe thead th {\n",
              "        text-align: right;\n",
              "    }\n",
              "</style>\n",
              "<table border=\"1\" class=\"dataframe\">\n",
              "  <thead>\n",
              "    <tr style=\"text-align: right;\">\n",
              "      <th></th>\n",
              "      <th>budget</th>\n",
              "      <th>popularity</th>\n",
              "      <th>revenue</th>\n",
              "      <th>vote_average</th>\n",
              "      <th>vote_count</th>\n",
              "    </tr>\n",
              "  </thead>\n",
              "  <tbody>\n",
              "    <tr>\n",
              "      <th>budget</th>\n",
              "      <td>1.000000</td>\n",
              "      <td>0.637938</td>\n",
              "      <td>0.889424</td>\n",
              "      <td>-0.376629</td>\n",
              "      <td>0.675448</td>\n",
              "    </tr>\n",
              "    <tr>\n",
              "      <th>popularity</th>\n",
              "      <td>0.637938</td>\n",
              "      <td>1.000000</td>\n",
              "      <td>0.761359</td>\n",
              "      <td>0.182619</td>\n",
              "      <td>0.879727</td>\n",
              "    </tr>\n",
              "    <tr>\n",
              "      <th>revenue</th>\n",
              "      <td>0.889424</td>\n",
              "      <td>0.761359</td>\n",
              "      <td>1.000000</td>\n",
              "      <td>-0.393768</td>\n",
              "      <td>0.710453</td>\n",
              "    </tr>\n",
              "    <tr>\n",
              "      <th>vote_average</th>\n",
              "      <td>-0.376629</td>\n",
              "      <td>0.182619</td>\n",
              "      <td>-0.393768</td>\n",
              "      <td>1.000000</td>\n",
              "      <td>0.150514</td>\n",
              "    </tr>\n",
              "    <tr>\n",
              "      <th>vote_count</th>\n",
              "      <td>0.675448</td>\n",
              "      <td>0.879727</td>\n",
              "      <td>0.710453</td>\n",
              "      <td>0.150514</td>\n",
              "      <td>1.000000</td>\n",
              "    </tr>\n",
              "  </tbody>\n",
              "</table>\n",
              "</div>"
            ],
            "text/plain": [
              "                budget  popularity   revenue  vote_average  vote_count\n",
              "budget        1.000000    0.637938  0.889424     -0.376629    0.675448\n",
              "popularity    0.637938    1.000000  0.761359      0.182619    0.879727\n",
              "revenue       0.889424    0.761359  1.000000     -0.393768    0.710453\n",
              "vote_average -0.376629    0.182619 -0.393768      1.000000    0.150514\n",
              "vote_count    0.675448    0.879727  0.710453      0.150514    1.000000"
            ]
          },
          "metadata": {
            "tags": []
          },
          "execution_count": 30
        }
      ]
    },
    {
      "cell_type": "markdown",
      "metadata": {
        "id": "rKrnE7y_l1o1",
        "colab_type": "text"
      },
      "source": [
        "# Resultado da analise entre budget x popularidade\n",
        "\n",
        "a Covariancia da base total em relacao aos filmes indicados ao oscar, nao apresentam uma tendencia entre os filmes mencionados.\n",
        "\n",
        "Considerando a correlacao, ambas apresentam uma correlacao alta positiva, porem a amostra dos filmes indicados ao oscar apresenta um aumento da correlacao."
      ]
    },
    {
      "cell_type": "markdown",
      "metadata": {
        "id": "cLWCNKkCCjCw",
        "colab_type": "text"
      },
      "source": [
        "Analisar maiores bilheterias do ano de 2013\n",
        "\n",
        "co"
      ]
    },
    {
      "cell_type": "code",
      "metadata": {
        "id": "iuWQmYRXoXCa",
        "colab_type": "code",
        "colab": {}
      },
      "source": [
        "tmdb = tmdb.drop(['genres', 'homepage', 'keywords', 'original_language', \n",
        "                              'overview', 'production_companies', 'runtime', 'spoken_languages', \n",
        "                              'status', 'tagline'], axis=1)"
      ],
      "execution_count": 0,
      "outputs": []
    },
    {
      "cell_type": "code",
      "metadata": {
        "id": "ljg2gypaq-nu",
        "colab_type": "code",
        "colab": {}
      },
      "source": [
        "tmdb = tmdb.drop(['production_countries'], axis=1)"
      ],
      "execution_count": 0,
      "outputs": []
    },
    {
      "cell_type": "code",
      "metadata": {
        "id": "QbW6RonhrAtw",
        "colab_type": "code",
        "colab": {
          "base_uri": "https://localhost:8080/",
          "height": 419
        },
        "outputId": "634ff391-f283-4e0e-90da-dda1344f90fc"
      },
      "source": [
        "tmdb.sort_values(['revenue'],ascending=[0])"
      ],
      "execution_count": 40,
      "outputs": [
        {
          "output_type": "execute_result",
          "data": {
            "text/html": [
              "<div>\n",
              "<style scoped>\n",
              "    .dataframe tbody tr th:only-of-type {\n",
              "        vertical-align: middle;\n",
              "    }\n",
              "\n",
              "    .dataframe tbody tr th {\n",
              "        vertical-align: top;\n",
              "    }\n",
              "\n",
              "    .dataframe thead th {\n",
              "        text-align: right;\n",
              "    }\n",
              "</style>\n",
              "<table border=\"1\" class=\"dataframe\">\n",
              "  <thead>\n",
              "    <tr style=\"text-align: right;\">\n",
              "      <th></th>\n",
              "      <th>budget</th>\n",
              "      <th>id</th>\n",
              "      <th>original_title</th>\n",
              "      <th>popularity</th>\n",
              "      <th>release_date</th>\n",
              "      <th>revenue</th>\n",
              "      <th>title</th>\n",
              "      <th>vote_average</th>\n",
              "      <th>vote_count</th>\n",
              "    </tr>\n",
              "  </thead>\n",
              "  <tbody>\n",
              "    <tr>\n",
              "      <th>0</th>\n",
              "      <td>237000000</td>\n",
              "      <td>19995</td>\n",
              "      <td>Avatar</td>\n",
              "      <td>150.437577</td>\n",
              "      <td>2009-12-10</td>\n",
              "      <td>2787965087</td>\n",
              "      <td>Avatar</td>\n",
              "      <td>7.2</td>\n",
              "      <td>11800</td>\n",
              "    </tr>\n",
              "    <tr>\n",
              "      <th>25</th>\n",
              "      <td>200000000</td>\n",
              "      <td>597</td>\n",
              "      <td>Titanic</td>\n",
              "      <td>100.025899</td>\n",
              "      <td>1997-11-18</td>\n",
              "      <td>1845034188</td>\n",
              "      <td>Titanic</td>\n",
              "      <td>7.5</td>\n",
              "      <td>7562</td>\n",
              "    </tr>\n",
              "    <tr>\n",
              "      <th>16</th>\n",
              "      <td>220000000</td>\n",
              "      <td>24428</td>\n",
              "      <td>The Avengers</td>\n",
              "      <td>144.448633</td>\n",
              "      <td>2012-04-25</td>\n",
              "      <td>1519557910</td>\n",
              "      <td>The Avengers</td>\n",
              "      <td>7.4</td>\n",
              "      <td>11776</td>\n",
              "    </tr>\n",
              "    <tr>\n",
              "      <th>28</th>\n",
              "      <td>150000000</td>\n",
              "      <td>135397</td>\n",
              "      <td>Jurassic World</td>\n",
              "      <td>418.708552</td>\n",
              "      <td>2015-06-09</td>\n",
              "      <td>1513528810</td>\n",
              "      <td>Jurassic World</td>\n",
              "      <td>6.5</td>\n",
              "      <td>8662</td>\n",
              "    </tr>\n",
              "    <tr>\n",
              "      <th>44</th>\n",
              "      <td>190000000</td>\n",
              "      <td>168259</td>\n",
              "      <td>Furious 7</td>\n",
              "      <td>102.322217</td>\n",
              "      <td>2015-04-01</td>\n",
              "      <td>1506249360</td>\n",
              "      <td>Furious 7</td>\n",
              "      <td>7.3</td>\n",
              "      <td>4176</td>\n",
              "    </tr>\n",
              "    <tr>\n",
              "      <th>...</th>\n",
              "      <td>...</td>\n",
              "      <td>...</td>\n",
              "      <td>...</td>\n",
              "      <td>...</td>\n",
              "      <td>...</td>\n",
              "      <td>...</td>\n",
              "      <td>...</td>\n",
              "      <td>...</td>\n",
              "      <td>...</td>\n",
              "    </tr>\n",
              "    <tr>\n",
              "      <th>3200</th>\n",
              "      <td>0</td>\n",
              "      <td>41248</td>\n",
              "      <td>La Fille du RER</td>\n",
              "      <td>2.351706</td>\n",
              "      <td>2009-03-18</td>\n",
              "      <td>0</td>\n",
              "      <td>The Girl on the Train</td>\n",
              "      <td>5.6</td>\n",
              "      <td>10</td>\n",
              "    </tr>\n",
              "    <tr>\n",
              "      <th>3199</th>\n",
              "      <td>0</td>\n",
              "      <td>291081</td>\n",
              "      <td>Red Riding: In the Year of Our Lord 1974</td>\n",
              "      <td>7.247023</td>\n",
              "      <td>2009-02-28</td>\n",
              "      <td>0</td>\n",
              "      <td>Red Riding: In the Year of Our Lord 1974</td>\n",
              "      <td>7.0</td>\n",
              "      <td>54</td>\n",
              "    </tr>\n",
              "    <tr>\n",
              "      <th>3197</th>\n",
              "      <td>6500000</td>\n",
              "      <td>8883</td>\n",
              "      <td>Flammen &amp; Citronen</td>\n",
              "      <td>7.028946</td>\n",
              "      <td>2008-03-25</td>\n",
              "      <td>0</td>\n",
              "      <td>Flame &amp; Citron</td>\n",
              "      <td>6.8</td>\n",
              "      <td>68</td>\n",
              "    </tr>\n",
              "    <tr>\n",
              "      <th>3194</th>\n",
              "      <td>9000000</td>\n",
              "      <td>12454</td>\n",
              "      <td>All or Nothing</td>\n",
              "      <td>2.872281</td>\n",
              "      <td>2002-05-17</td>\n",
              "      <td>0</td>\n",
              "      <td>All or Nothing</td>\n",
              "      <td>7.0</td>\n",
              "      <td>33</td>\n",
              "    </tr>\n",
              "    <tr>\n",
              "      <th>4802</th>\n",
              "      <td>0</td>\n",
              "      <td>25975</td>\n",
              "      <td>My Date with Drew</td>\n",
              "      <td>1.929883</td>\n",
              "      <td>2005-08-05</td>\n",
              "      <td>0</td>\n",
              "      <td>My Date with Drew</td>\n",
              "      <td>6.3</td>\n",
              "      <td>16</td>\n",
              "    </tr>\n",
              "  </tbody>\n",
              "</table>\n",
              "<p>4803 rows × 9 columns</p>\n",
              "</div>"
            ],
            "text/plain": [
              "         budget      id  ... vote_average  vote_count\n",
              "0     237000000   19995  ...          7.2       11800\n",
              "25    200000000     597  ...          7.5        7562\n",
              "16    220000000   24428  ...          7.4       11776\n",
              "28    150000000  135397  ...          6.5        8662\n",
              "44    190000000  168259  ...          7.3        4176\n",
              "...         ...     ...  ...          ...         ...\n",
              "3200          0   41248  ...          5.6          10\n",
              "3199          0  291081  ...          7.0          54\n",
              "3197    6500000    8883  ...          6.8          68\n",
              "3194    9000000   12454  ...          7.0          33\n",
              "4802          0   25975  ...          6.3          16\n",
              "\n",
              "[4803 rows x 9 columns]"
            ]
          },
          "metadata": {
            "tags": []
          },
          "execution_count": 40
        }
      ]
    },
    {
      "cell_type": "code",
      "metadata": {
        "id": "FNUwxgDHDwi1",
        "colab_type": "code",
        "colab": {
          "base_uri": "https://localhost:8080/",
          "height": 173
        },
        "outputId": "3e59d993-c963-4326-c2b9-cb4801ea7e1d"
      },
      "source": [
        "filmes_analise = tmdb.query(\"id in [109445,68721,93456, 76203]\")\n",
        "filmes_analise = filmes_analise.sort_values(['popularity'],ascending=[0])\n",
        "filmes_analise"
      ],
      "execution_count": 166,
      "outputs": [
        {
          "output_type": "execute_result",
          "data": {
            "text/html": [
              "<div>\n",
              "<style scoped>\n",
              "    .dataframe tbody tr th:only-of-type {\n",
              "        vertical-align: middle;\n",
              "    }\n",
              "\n",
              "    .dataframe tbody tr th {\n",
              "        vertical-align: top;\n",
              "    }\n",
              "\n",
              "    .dataframe thead th {\n",
              "        text-align: right;\n",
              "    }\n",
              "</style>\n",
              "<table border=\"1\" class=\"dataframe\">\n",
              "  <thead>\n",
              "    <tr style=\"text-align: right;\">\n",
              "      <th></th>\n",
              "      <th>budget</th>\n",
              "      <th>id</th>\n",
              "      <th>original_title</th>\n",
              "      <th>popularity</th>\n",
              "      <th>release_date</th>\n",
              "      <th>revenue</th>\n",
              "      <th>title</th>\n",
              "      <th>vote_average</th>\n",
              "      <th>vote_count</th>\n",
              "    </tr>\n",
              "  </thead>\n",
              "  <tbody>\n",
              "    <tr>\n",
              "      <th>124</th>\n",
              "      <td>150000000</td>\n",
              "      <td>109445</td>\n",
              "      <td>Frozen</td>\n",
              "      <td>165.125366</td>\n",
              "      <td>2013-11-27</td>\n",
              "      <td>1274219009</td>\n",
              "      <td>Frozen</td>\n",
              "      <td>7.3</td>\n",
              "      <td>5295</td>\n",
              "    </tr>\n",
              "    <tr>\n",
              "      <th>506</th>\n",
              "      <td>76000000</td>\n",
              "      <td>93456</td>\n",
              "      <td>Despicable Me 2</td>\n",
              "      <td>136.886704</td>\n",
              "      <td>2013-06-25</td>\n",
              "      <td>970761885</td>\n",
              "      <td>Despicable Me 2</td>\n",
              "      <td>7.0</td>\n",
              "      <td>4637</td>\n",
              "    </tr>\n",
              "    <tr>\n",
              "      <th>2105</th>\n",
              "      <td>20000000</td>\n",
              "      <td>76203</td>\n",
              "      <td>12 Years a Slave</td>\n",
              "      <td>95.922900</td>\n",
              "      <td>2013-10-18</td>\n",
              "      <td>187000000</td>\n",
              "      <td>12 Years a Slave</td>\n",
              "      <td>7.9</td>\n",
              "      <td>3674</td>\n",
              "    </tr>\n",
              "    <tr>\n",
              "      <th>31</th>\n",
              "      <td>200000000</td>\n",
              "      <td>68721</td>\n",
              "      <td>Iron Man 3</td>\n",
              "      <td>77.682080</td>\n",
              "      <td>2013-04-18</td>\n",
              "      <td>1215439994</td>\n",
              "      <td>Iron Man 3</td>\n",
              "      <td>6.8</td>\n",
              "      <td>8806</td>\n",
              "    </tr>\n",
              "  </tbody>\n",
              "</table>\n",
              "</div>"
            ],
            "text/plain": [
              "         budget      id  ... vote_average  vote_count\n",
              "124   150000000  109445  ...          7.3        5295\n",
              "506    76000000   93456  ...          7.0        4637\n",
              "2105   20000000   76203  ...          7.9        3674\n",
              "31    200000000   68721  ...          6.8        8806\n",
              "\n",
              "[4 rows x 9 columns]"
            ]
          },
          "metadata": {
            "tags": []
          },
          "execution_count": 166
        }
      ]
    },
    {
      "cell_type": "code",
      "metadata": {
        "id": "Q-SvcXFTMVgc",
        "colab_type": "code",
        "colab": {
          "base_uri": "https://localhost:8080/",
          "height": 553
        },
        "outputId": "96fce1d8-7f4e-4683-a6db-d5c7a44cfb42"
      },
      "source": [
        "sns.barplot(x=\"title\", y=\"popularity\", data=filmes_analise,\n",
        "            label=\"popularidade\", palette=\"GnBu_d\")\n",
        "plt.title('filmes mais populares x ganhador do oscar 2014 - Popularidade')"
      ],
      "execution_count": 167,
      "outputs": [
        {
          "output_type": "execute_result",
          "data": {
            "text/plain": [
              "Text(0.5, 1.0, 'filmes mais populares x ganhador do oscar 2014')"
            ]
          },
          "metadata": {
            "tags": []
          },
          "execution_count": 167
        },
        {
          "output_type": "display_data",
          "data": {
            "image/png": "[encoded data removed]",
            "text/plain": [
              "<Figure size 1800x720 with 1 Axes>"
            ]
          },
          "metadata": {
            "tags": [],
            "needs_background": "light"
          }
        }
      ]
    },
    {
      "cell_type": "code",
      "metadata": {
        "id": "-0VTNb0rNF3j",
        "colab_type": "code",
        "colab": {
          "base_uri": "https://localhost:8080/",
          "height": 173
        },
        "outputId": "aa73f214-1859-4efd-ceda-a45ea190ab22"
      },
      "source": [
        "filmes_analise = tmdb.query(\"id in [109445,68721,93456, 76203]\")\n",
        "filmes_analise = filmes_analise.sort_values(['revenue'],ascending=[0])\n",
        "filmes_analise"
      ],
      "execution_count": 169,
      "outputs": [
        {
          "output_type": "execute_result",
          "data": {
            "text/html": [
              "<div>\n",
              "<style scoped>\n",
              "    .dataframe tbody tr th:only-of-type {\n",
              "        vertical-align: middle;\n",
              "    }\n",
              "\n",
              "    .dataframe tbody tr th {\n",
              "        vertical-align: top;\n",
              "    }\n",
              "\n",
              "    .dataframe thead th {\n",
              "        text-align: right;\n",
              "    }\n",
              "</style>\n",
              "<table border=\"1\" class=\"dataframe\">\n",
              "  <thead>\n",
              "    <tr style=\"text-align: right;\">\n",
              "      <th></th>\n",
              "      <th>budget</th>\n",
              "      <th>id</th>\n",
              "      <th>original_title</th>\n",
              "      <th>popularity</th>\n",
              "      <th>release_date</th>\n",
              "      <th>revenue</th>\n",
              "      <th>title</th>\n",
              "      <th>vote_average</th>\n",
              "      <th>vote_count</th>\n",
              "    </tr>\n",
              "  </thead>\n",
              "  <tbody>\n",
              "    <tr>\n",
              "      <th>124</th>\n",
              "      <td>150000000</td>\n",
              "      <td>109445</td>\n",
              "      <td>Frozen</td>\n",
              "      <td>165.125366</td>\n",
              "      <td>2013-11-27</td>\n",
              "      <td>1274219009</td>\n",
              "      <td>Frozen</td>\n",
              "      <td>7.3</td>\n",
              "      <td>5295</td>\n",
              "    </tr>\n",
              "    <tr>\n",
              "      <th>31</th>\n",
              "      <td>200000000</td>\n",
              "      <td>68721</td>\n",
              "      <td>Iron Man 3</td>\n",
              "      <td>77.682080</td>\n",
              "      <td>2013-04-18</td>\n",
              "      <td>1215439994</td>\n",
              "      <td>Iron Man 3</td>\n",
              "      <td>6.8</td>\n",
              "      <td>8806</td>\n",
              "    </tr>\n",
              "    <tr>\n",
              "      <th>506</th>\n",
              "      <td>76000000</td>\n",
              "      <td>93456</td>\n",
              "      <td>Despicable Me 2</td>\n",
              "      <td>136.886704</td>\n",
              "      <td>2013-06-25</td>\n",
              "      <td>970761885</td>\n",
              "      <td>Despicable Me 2</td>\n",
              "      <td>7.0</td>\n",
              "      <td>4637</td>\n",
              "    </tr>\n",
              "    <tr>\n",
              "      <th>2105</th>\n",
              "      <td>20000000</td>\n",
              "      <td>76203</td>\n",
              "      <td>12 Years a Slave</td>\n",
              "      <td>95.922900</td>\n",
              "      <td>2013-10-18</td>\n",
              "      <td>187000000</td>\n",
              "      <td>12 Years a Slave</td>\n",
              "      <td>7.9</td>\n",
              "      <td>3674</td>\n",
              "    </tr>\n",
              "  </tbody>\n",
              "</table>\n",
              "</div>"
            ],
            "text/plain": [
              "         budget      id  ... vote_average  vote_count\n",
              "124   150000000  109445  ...          7.3        5295\n",
              "31    200000000   68721  ...          6.8        8806\n",
              "506    76000000   93456  ...          7.0        4637\n",
              "2105   20000000   76203  ...          7.9        3674\n",
              "\n",
              "[4 rows x 9 columns]"
            ]
          },
          "metadata": {
            "tags": []
          },
          "execution_count": 169
        }
      ]
    },
    {
      "cell_type": "code",
      "metadata": {
        "id": "-mzV-gUWMldk",
        "colab_type": "code",
        "colab": {
          "base_uri": "https://localhost:8080/",
          "height": 554
        },
        "outputId": "d9a04035-9cbb-4bb5-a911-2b2c7c180b26"
      },
      "source": [
        "sns.barplot(x=\"title\", y=\"revenue\", data=filmes_analise,\n",
        "            label=\"arrecadacao\", palette=\"GnBu_r\")\n",
        "plt.title('filmes mais populares x ganhador do oscar 2014 - Receita')"
      ],
      "execution_count": 170,
      "outputs": [
        {
          "output_type": "execute_result",
          "data": {
            "text/plain": [
              "Text(0.5, 1.0, 'filmes mais populares x ganhador do oscar 2014 - Receita')"
            ]
          },
          "metadata": {
            "tags": []
          },
          "execution_count": 170
        },
        {
          "output_type": "display_data",
          "data": {
            "image/png": "[encoded data removed]",
            "text/plain": [
              "<Figure size 1800x720 with 1 Axes>"
            ]
          },
          "metadata": {
            "tags": [],
            "needs_background": "light"
          }
        }
      ]
    },
    {
      "cell_type": "code",
      "metadata": {
        "id": "KjYjeEkQM-YL",
        "colab_type": "code",
        "colab": {
          "base_uri": "https://localhost:8080/",
          "height": 142
        },
        "outputId": "b778c09e-ff0e-43a7-96ea-66cba070e0c5"
      },
      "source": [
        "filmes_analise[['title','budget', 'popularity', 'revenue']].cov()"
      ],
      "execution_count": 205,
      "outputs": [
        {
          "output_type": "execute_result",
          "data": {
            "text/html": [
              "<div>\n",
              "<style scoped>\n",
              "    .dataframe tbody tr th:only-of-type {\n",
              "        vertical-align: middle;\n",
              "    }\n",
              "\n",
              "    .dataframe tbody tr th {\n",
              "        vertical-align: top;\n",
              "    }\n",
              "\n",
              "    .dataframe thead th {\n",
              "        text-align: right;\n",
              "    }\n",
              "</style>\n",
              "<table border=\"1\" class=\"dataframe\">\n",
              "  <thead>\n",
              "    <tr style=\"text-align: right;\">\n",
              "      <th></th>\n",
              "      <th>budget</th>\n",
              "      <th>popularity</th>\n",
              "      <th>revenue</th>\n",
              "    </tr>\n",
              "  </thead>\n",
              "  <tbody>\n",
              "    <tr>\n",
              "      <th>budget</th>\n",
              "      <td>6.315667e+15</td>\n",
              "      <td>-1.347442e+08</td>\n",
              "      <td>3.501711e+16</td>\n",
              "    </tr>\n",
              "    <tr>\n",
              "      <th>popularity</th>\n",
              "      <td>-1.347442e+08</td>\n",
              "      <td>1.562390e+03</td>\n",
              "      <td>7.317291e+09</td>\n",
              "    </tr>\n",
              "    <tr>\n",
              "      <th>revenue</th>\n",
              "      <td>3.501711e+16</td>\n",
              "      <td>7.317291e+09</td>\n",
              "      <td>2.507854e+17</td>\n",
              "    </tr>\n",
              "  </tbody>\n",
              "</table>\n",
              "</div>"
            ],
            "text/plain": [
              "                  budget    popularity       revenue\n",
              "budget      6.315667e+15 -1.347442e+08  3.501711e+16\n",
              "popularity -1.347442e+08  1.562390e+03  7.317291e+09\n",
              "revenue     3.501711e+16  7.317291e+09  2.507854e+17"
            ]
          },
          "metadata": {
            "tags": []
          },
          "execution_count": 205
        }
      ]
    },
    {
      "cell_type": "code",
      "metadata": {
        "id": "Aq19P0PhOERy",
        "colab_type": "code",
        "colab": {
          "base_uri": "https://localhost:8080/",
          "height": 421
        },
        "outputId": "b3fe76a3-a36c-465a-e222-c36e113dc822"
      },
      "source": [
        "x= filmes_analise.budget\n",
        "y=filmes_analise.popularity\n",
        "ax= sns.scatterplot(x,y)\n",
        "ax.figure.set_size_inches(10,6)\n",
        "plt.title('popularidade x budget')\n",
        "ax.hlines(y=y.mean(), xmin = x.min(), xmax=x.max(), colors='black', linestyles='dashed')\n",
        "ax.vlines(x=x.mean(), ymin = y.min(), ymax=y.max(), colors='black', linestyles='dashed')"
      ],
      "execution_count": 202,
      "outputs": [
        {
          "output_type": "execute_result",
          "data": {
            "text/plain": [
              "<matplotlib.collections.LineCollection at 0x7fb2d5ae5ef0>"
            ]
          },
          "metadata": {
            "tags": []
          },
          "execution_count": 202
        },
        {
          "output_type": "display_data",
          "data": {
            "image/png": "[encoded data removed]",
            "text/plain": [
              "<Figure size 720x432 with 1 Axes>"
            ]
          },
          "metadata": {
            "tags": [],
            "needs_background": "light"
          }
        }
      ]
    },
    {
      "cell_type": "code",
      "metadata": {
        "id": "1hfZLCtPOLl_",
        "colab_type": "code",
        "colab": {
          "base_uri": "https://localhost:8080/",
          "height": 142
        },
        "outputId": "cf228ddc-a5c9-4b39-92be-6e1a5554c129"
      },
      "source": [
        "filmes_analise[['budget', 'popularity', 'revenue']].corr()"
      ],
      "execution_count": 208,
      "outputs": [
        {
          "output_type": "execute_result",
          "data": {
            "text/html": [
              "<div>\n",
              "<style scoped>\n",
              "    .dataframe tbody tr th:only-of-type {\n",
              "        vertical-align: middle;\n",
              "    }\n",
              "\n",
              "    .dataframe tbody tr th {\n",
              "        vertical-align: top;\n",
              "    }\n",
              "\n",
              "    .dataframe thead th {\n",
              "        text-align: right;\n",
              "    }\n",
              "</style>\n",
              "<table border=\"1\" class=\"dataframe\">\n",
              "  <thead>\n",
              "    <tr style=\"text-align: right;\">\n",
              "      <th></th>\n",
              "      <th>budget</th>\n",
              "      <th>popularity</th>\n",
              "      <th>revenue</th>\n",
              "    </tr>\n",
              "  </thead>\n",
              "  <tbody>\n",
              "    <tr>\n",
              "      <th>budget</th>\n",
              "      <td>1.000000</td>\n",
              "      <td>-0.042895</td>\n",
              "      <td>0.879872</td>\n",
              "    </tr>\n",
              "    <tr>\n",
              "      <th>popularity</th>\n",
              "      <td>-0.042895</td>\n",
              "      <td>1.000000</td>\n",
              "      <td>0.369662</td>\n",
              "    </tr>\n",
              "    <tr>\n",
              "      <th>revenue</th>\n",
              "      <td>0.879872</td>\n",
              "      <td>0.369662</td>\n",
              "      <td>1.000000</td>\n",
              "    </tr>\n",
              "  </tbody>\n",
              "</table>\n",
              "</div>"
            ],
            "text/plain": [
              "              budget  popularity   revenue\n",
              "budget      1.000000   -0.042895  0.879872\n",
              "popularity -0.042895    1.000000  0.369662\n",
              "revenue     0.879872    0.369662  1.000000"
            ]
          },
          "metadata": {
            "tags": []
          },
          "execution_count": 208
        }
      ]
    },
    {
      "cell_type": "code",
      "metadata": {
        "id": "8eSo3m-BOSZ5",
        "colab_type": "code",
        "colab": {
          "base_uri": "https://localhost:8080/",
          "height": 173
        },
        "outputId": "418f0989-23d7-4ef5-9546-e4138c495b42"
      },
      "source": [
        "filmes_analise"
      ],
      "execution_count": 203,
      "outputs": [
        {
          "output_type": "execute_result",
          "data": {
            "text/html": [
              "<div>\n",
              "<style scoped>\n",
              "    .dataframe tbody tr th:only-of-type {\n",
              "        vertical-align: middle;\n",
              "    }\n",
              "\n",
              "    .dataframe tbody tr th {\n",
              "        vertical-align: top;\n",
              "    }\n",
              "\n",
              "    .dataframe thead th {\n",
              "        text-align: right;\n",
              "    }\n",
              "</style>\n",
              "<table border=\"1\" class=\"dataframe\">\n",
              "  <thead>\n",
              "    <tr style=\"text-align: right;\">\n",
              "      <th></th>\n",
              "      <th>budget</th>\n",
              "      <th>id</th>\n",
              "      <th>original_title</th>\n",
              "      <th>popularity</th>\n",
              "      <th>release_date</th>\n",
              "      <th>revenue</th>\n",
              "      <th>title</th>\n",
              "      <th>vote_average</th>\n",
              "      <th>vote_count</th>\n",
              "    </tr>\n",
              "  </thead>\n",
              "  <tbody>\n",
              "    <tr>\n",
              "      <th>124</th>\n",
              "      <td>150000000</td>\n",
              "      <td>109445</td>\n",
              "      <td>Frozen</td>\n",
              "      <td>165.125366</td>\n",
              "      <td>2013-11-27</td>\n",
              "      <td>1274219009</td>\n",
              "      <td>Frozen</td>\n",
              "      <td>7.3</td>\n",
              "      <td>5295</td>\n",
              "    </tr>\n",
              "    <tr>\n",
              "      <th>31</th>\n",
              "      <td>200000000</td>\n",
              "      <td>68721</td>\n",
              "      <td>Iron Man 3</td>\n",
              "      <td>77.682080</td>\n",
              "      <td>2013-04-18</td>\n",
              "      <td>1215439994</td>\n",
              "      <td>Iron Man 3</td>\n",
              "      <td>6.8</td>\n",
              "      <td>8806</td>\n",
              "    </tr>\n",
              "    <tr>\n",
              "      <th>506</th>\n",
              "      <td>76000000</td>\n",
              "      <td>93456</td>\n",
              "      <td>Despicable Me 2</td>\n",
              "      <td>136.886704</td>\n",
              "      <td>2013-06-25</td>\n",
              "      <td>970761885</td>\n",
              "      <td>Despicable Me 2</td>\n",
              "      <td>7.0</td>\n",
              "      <td>4637</td>\n",
              "    </tr>\n",
              "    <tr>\n",
              "      <th>2105</th>\n",
              "      <td>20000000</td>\n",
              "      <td>76203</td>\n",
              "      <td>12 Years a Slave</td>\n",
              "      <td>95.922900</td>\n",
              "      <td>2013-10-18</td>\n",
              "      <td>187000000</td>\n",
              "      <td>12 Years a Slave</td>\n",
              "      <td>7.9</td>\n",
              "      <td>3674</td>\n",
              "    </tr>\n",
              "  </tbody>\n",
              "</table>\n",
              "</div>"
            ],
            "text/plain": [
              "         budget      id  ... vote_average  vote_count\n",
              "124   150000000  109445  ...          7.3        5295\n",
              "31    200000000   68721  ...          6.8        8806\n",
              "506    76000000   93456  ...          7.0        4637\n",
              "2105   20000000   76203  ...          7.9        3674\n",
              "\n",
              "[4 rows x 9 columns]"
            ]
          },
          "metadata": {
            "tags": []
          },
          "execution_count": 203
        }
      ]
    },
    {
      "cell_type": "code",
      "metadata": {
        "id": "dsCbOTfbro2l",
        "colab_type": "code",
        "colab": {}
      },
      "source": [
        ""
      ],
      "execution_count": 0,
      "outputs": []
    },
    {
      "cell_type": "markdown",
      "metadata": {
        "id": "ZNEoMGhuuq-e",
        "colab_type": "text"
      },
      "source": [
        "Considerando os 3 maiores filmes de bilheteria no ano de 2013, nao demonstra um padrao no quesito popularidade X receita. Pois Iron Man 3, nao recebeu uma otima critica e mesmo assim foi um dos maiores filmes de receita no ano em questao.\n",
        "\n",
        "Ja o filme ganhador de Oscar apresenta uma boa avaliacao, mas devido nao ser um filme  com alta popularidade teve uma baixa receita em bilheteria"
      ]
    },
    {
      "cell_type": "code",
      "metadata": {
        "id": "ncYnR_G8vWRe",
        "colab_type": "code",
        "colab": {}
      },
      "source": [
        ""
      ],
      "execution_count": 0,
      "outputs": []
    }
  ]
}