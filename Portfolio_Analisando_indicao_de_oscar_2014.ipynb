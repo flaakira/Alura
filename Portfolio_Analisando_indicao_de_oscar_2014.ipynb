{
  "nbformat": 4,
  "nbformat_minor": 0,
  "metadata": {
    "colab": {
      "name": "Portfolio - Analisando indicao de oscar 2014.ipynb",
      "provenance": [],
      "toc_visible": true,
      "authorship_tag": "ABX9TyMSEC2FsTB/S22hKl06L6SD",
      "include_colab_link": true
    },
    "kernelspec": {
      "name": "python3",
      "display_name": "Python 3"
    }
  },
  "cells": [
    {
      "cell_type": "markdown",
      "metadata": {
        "id": "view-in-github",
        "colab_type": "text"
      },
      "source": [
        "<a href=\"https://colab.research.google.com/github/flaakira/Alura/blob/master/Portfolio_Analisando_indicao_de_oscar_2014.ipynb\" target=\"_parent\"><img src=\"https://colab.research.google.com/assets/colab-badge.svg\" alt=\"Open In Colab\"/></a>"
      ]
    },
    {
      "cell_type": "code",
      "metadata": {
        "id": "nlwFTGZNQq-G",
        "colab_type": "code",
        "colab": {}
      },
      "source": [
        ""
      ],
      "execution_count": 0,
      "outputs": []
    },
    {
      "cell_type": "markdown",
      "metadata": {
        "id": "XtMCF4iORx0W",
        "colab_type": "text"
      },
      "source": [
        "## comparativo entre filme ganhador de oscar e indacoes.\n",
        "- Verificar pela nota na amostra do movieleans qual seria o filme ganhador do oscar no ano de 2014\n",
        "\n",
        "- comparar budget, bilheteria. correlacao , erro\n",
        "\n",
        "- apos comparar com os 3 maiores filmes de bilheteria do ano"
      ]
    },
    {
      "cell_type": "markdown",
      "metadata": {
        "id": "e64pokgSQtTp",
        "colab_type": "text"
      },
      "source": [
        "##**12 YEARS A SLAVE** \n",
        "\n",
        "AMERICAN HUSTLE\n",
        "\n",
        "CAPTAIN PHILLIPS\n",
        "\n",
        "DALLAS BUYERS CLUB \n",
        "\n",
        "GRAVITY \n",
        "\n",
        "HER \n",
        "\n",
        "NEBRASKA \n",
        "\n",
        "PHILOMENA \n",
        "\n",
        "THE WOLF OF WALL STREET "
      ]
    },
    {
      "cell_type": "code",
      "metadata": {
        "id": "MQyXbvaLQ3np",
        "colab_type": "code",
        "colab": {}
      },
      "source": [
        "import pandas as pd"
      ],
      "execution_count": 0,
      "outputs": []
    },
    {
      "cell_type": "code",
      "metadata": {
        "id": "SILQLUPlSWGW",
        "colab_type": "code",
        "colab": {}
      },
      "source": [
        "filmes = pd.read_csv('movies.csv')\n",
        "avaliacao = pd.read_csv('ratings.csv')"
      ],
      "execution_count": 0,
      "outputs": []
    },
    {
      "cell_type": "code",
      "metadata": {
        "id": "oQuAFWpaSo6Z",
        "colab_type": "code",
        "colab": {
          "base_uri": "https://localhost:8080/",
          "height": 204
        },
        "outputId": "91e13cd5-f4f0-4163-eda2-88aa0cb0c5a0"
      },
      "source": [
        "filmes.head()"
      ],
      "execution_count": 6,
      "outputs": [
        {
          "output_type": "execute_result",
          "data": {
            "text/html": [
              "<div>\n",
              "<style scoped>\n",
              "    .dataframe tbody tr th:only-of-type {\n",
              "        vertical-align: middle;\n",
              "    }\n",
              "\n",
              "    .dataframe tbody tr th {\n",
              "        vertical-align: top;\n",
              "    }\n",
              "\n",
              "    .dataframe thead th {\n",
              "        text-align: right;\n",
              "    }\n",
              "</style>\n",
              "<table border=\"1\" class=\"dataframe\">\n",
              "  <thead>\n",
              "    <tr style=\"text-align: right;\">\n",
              "      <th></th>\n",
              "      <th>movieId</th>\n",
              "      <th>title</th>\n",
              "      <th>genres</th>\n",
              "    </tr>\n",
              "  </thead>\n",
              "  <tbody>\n",
              "    <tr>\n",
              "      <th>0</th>\n",
              "      <td>1</td>\n",
              "      <td>Toy Story (1995)</td>\n",
              "      <td>Adventure|Animation|Children|Comedy|Fantasy</td>\n",
              "    </tr>\n",
              "    <tr>\n",
              "      <th>1</th>\n",
              "      <td>2</td>\n",
              "      <td>Jumanji (1995)</td>\n",
              "      <td>Adventure|Children|Fantasy</td>\n",
              "    </tr>\n",
              "    <tr>\n",
              "      <th>2</th>\n",
              "      <td>3</td>\n",
              "      <td>Grumpier Old Men (1995)</td>\n",
              "      <td>Comedy|Romance</td>\n",
              "    </tr>\n",
              "    <tr>\n",
              "      <th>3</th>\n",
              "      <td>4</td>\n",
              "      <td>Waiting to Exhale (1995)</td>\n",
              "      <td>Comedy|Drama|Romance</td>\n",
              "    </tr>\n",
              "    <tr>\n",
              "      <th>4</th>\n",
              "      <td>5</td>\n",
              "      <td>Father of the Bride Part II (1995)</td>\n",
              "      <td>Comedy</td>\n",
              "    </tr>\n",
              "  </tbody>\n",
              "</table>\n",
              "</div>"
            ],
            "text/plain": [
              "   movieId  ...                                       genres\n",
              "0        1  ...  Adventure|Animation|Children|Comedy|Fantasy\n",
              "1        2  ...                   Adventure|Children|Fantasy\n",
              "2        3  ...                               Comedy|Romance\n",
              "3        4  ...                         Comedy|Drama|Romance\n",
              "4        5  ...                                       Comedy\n",
              "\n",
              "[5 rows x 3 columns]"
            ]
          },
          "metadata": {
            "tags": []
          },
          "execution_count": 6
        }
      ]
    },
    {
      "cell_type": "code",
      "metadata": {
        "id": "IZU6v9d1SqVn",
        "colab_type": "code",
        "colab": {
          "base_uri": "https://localhost:8080/",
          "height": 204
        },
        "outputId": "15c6b80b-37b8-47de-cb21-430403855c0e"
      },
      "source": [
        "avaliacao.head()"
      ],
      "execution_count": 7,
      "outputs": [
        {
          "output_type": "execute_result",
          "data": {
            "text/html": [
              "<div>\n",
              "<style scoped>\n",
              "    .dataframe tbody tr th:only-of-type {\n",
              "        vertical-align: middle;\n",
              "    }\n",
              "\n",
              "    .dataframe tbody tr th {\n",
              "        vertical-align: top;\n",
              "    }\n",
              "\n",
              "    .dataframe thead th {\n",
              "        text-align: right;\n",
              "    }\n",
              "</style>\n",
              "<table border=\"1\" class=\"dataframe\">\n",
              "  <thead>\n",
              "    <tr style=\"text-align: right;\">\n",
              "      <th></th>\n",
              "      <th>userId</th>\n",
              "      <th>movieId</th>\n",
              "      <th>rating</th>\n",
              "      <th>timestamp</th>\n",
              "    </tr>\n",
              "  </thead>\n",
              "  <tbody>\n",
              "    <tr>\n",
              "      <th>0</th>\n",
              "      <td>1</td>\n",
              "      <td>1</td>\n",
              "      <td>4.0</td>\n",
              "      <td>964982703</td>\n",
              "    </tr>\n",
              "    <tr>\n",
              "      <th>1</th>\n",
              "      <td>1</td>\n",
              "      <td>3</td>\n",
              "      <td>4.0</td>\n",
              "      <td>964981247</td>\n",
              "    </tr>\n",
              "    <tr>\n",
              "      <th>2</th>\n",
              "      <td>1</td>\n",
              "      <td>6</td>\n",
              "      <td>4.0</td>\n",
              "      <td>964982224</td>\n",
              "    </tr>\n",
              "    <tr>\n",
              "      <th>3</th>\n",
              "      <td>1</td>\n",
              "      <td>47</td>\n",
              "      <td>5.0</td>\n",
              "      <td>964983815</td>\n",
              "    </tr>\n",
              "    <tr>\n",
              "      <th>4</th>\n",
              "      <td>1</td>\n",
              "      <td>50</td>\n",
              "      <td>5.0</td>\n",
              "      <td>964982931</td>\n",
              "    </tr>\n",
              "  </tbody>\n",
              "</table>\n",
              "</div>"
            ],
            "text/plain": [
              "   userId  movieId  rating  timestamp\n",
              "0       1        1     4.0  964982703\n",
              "1       1        3     4.0  964981247\n",
              "2       1        6     4.0  964982224\n",
              "3       1       47     5.0  964983815\n",
              "4       1       50     5.0  964982931"
            ]
          },
          "metadata": {
            "tags": []
          },
          "execution_count": 7
        }
      ]
    },
    {
      "cell_type": "code",
      "metadata": {
        "id": "NKykcSNCSsNG",
        "colab_type": "code",
        "colab": {
          "base_uri": "https://localhost:8080/",
          "height": 328
        },
        "outputId": "6c919417-5c3b-4978-adcd-646b384fe494"
      },
      "source": [
        "oscar = filmes.query(\"movieId in [105844,106916,105504, 106100, 104841, 106920, 105197, 106438, 106782]\")\n",
        "oscar"
      ],
      "execution_count": 8,
      "outputs": [
        {
          "output_type": "execute_result",
          "data": {
            "text/html": [
              "<div>\n",
              "<style scoped>\n",
              "    .dataframe tbody tr th:only-of-type {\n",
              "        vertical-align: middle;\n",
              "    }\n",
              "\n",
              "    .dataframe tbody tr th {\n",
              "        vertical-align: top;\n",
              "    }\n",
              "\n",
              "    .dataframe thead th {\n",
              "        text-align: right;\n",
              "    }\n",
              "</style>\n",
              "<table border=\"1\" class=\"dataframe\">\n",
              "  <thead>\n",
              "    <tr style=\"text-align: right;\">\n",
              "      <th></th>\n",
              "      <th>movieId</th>\n",
              "      <th>title</th>\n",
              "      <th>genres</th>\n",
              "    </tr>\n",
              "  </thead>\n",
              "  <tbody>\n",
              "    <tr>\n",
              "      <th>8252</th>\n",
              "      <td>104841</td>\n",
              "      <td>Gravity (2013)</td>\n",
              "      <td>Action|Sci-Fi|IMAX</td>\n",
              "    </tr>\n",
              "    <tr>\n",
              "      <th>8264</th>\n",
              "      <td>105197</td>\n",
              "      <td>Nebraska (2013)</td>\n",
              "      <td>Adventure|Drama</td>\n",
              "    </tr>\n",
              "    <tr>\n",
              "      <th>8274</th>\n",
              "      <td>105504</td>\n",
              "      <td>Captain Phillips (2013)</td>\n",
              "      <td>Adventure|Drama|Thriller|IMAX</td>\n",
              "    </tr>\n",
              "    <tr>\n",
              "      <th>8285</th>\n",
              "      <td>105844</td>\n",
              "      <td>12 Years a Slave (2013)</td>\n",
              "      <td>Drama</td>\n",
              "    </tr>\n",
              "    <tr>\n",
              "      <th>8290</th>\n",
              "      <td>106100</td>\n",
              "      <td>Dallas Buyers Club (2013)</td>\n",
              "      <td>Drama</td>\n",
              "    </tr>\n",
              "    <tr>\n",
              "      <th>8293</th>\n",
              "      <td>106438</td>\n",
              "      <td>Philomena (2013)</td>\n",
              "      <td>Comedy|Drama</td>\n",
              "    </tr>\n",
              "    <tr>\n",
              "      <th>8305</th>\n",
              "      <td>106782</td>\n",
              "      <td>Wolf of Wall Street, The (2013)</td>\n",
              "      <td>Comedy|Crime|Drama</td>\n",
              "    </tr>\n",
              "    <tr>\n",
              "      <th>8311</th>\n",
              "      <td>106916</td>\n",
              "      <td>American Hustle (2013)</td>\n",
              "      <td>Crime|Drama</td>\n",
              "    </tr>\n",
              "    <tr>\n",
              "      <th>8313</th>\n",
              "      <td>106920</td>\n",
              "      <td>Her (2013)</td>\n",
              "      <td>Drama|Romance|Sci-Fi</td>\n",
              "    </tr>\n",
              "  </tbody>\n",
              "</table>\n",
              "</div>"
            ],
            "text/plain": [
              "      movieId                            title                         genres\n",
              "8252   104841                   Gravity (2013)             Action|Sci-Fi|IMAX\n",
              "8264   105197                  Nebraska (2013)                Adventure|Drama\n",
              "8274   105504          Captain Phillips (2013)  Adventure|Drama|Thriller|IMAX\n",
              "8285   105844          12 Years a Slave (2013)                          Drama\n",
              "8290   106100        Dallas Buyers Club (2013)                          Drama\n",
              "8293   106438                 Philomena (2013)                   Comedy|Drama\n",
              "8305   106782  Wolf of Wall Street, The (2013)             Comedy|Crime|Drama\n",
              "8311   106916           American Hustle (2013)                    Crime|Drama\n",
              "8313   106920                       Her (2013)           Drama|Romance|Sci-Fi"
            ]
          },
          "metadata": {
            "tags": []
          },
          "execution_count": 8
        }
      ]
    },
    {
      "cell_type": "code",
      "metadata": {
        "id": "0PhhkVMDVYOY",
        "colab_type": "code",
        "colab": {}
      },
      "source": [
        "import matplotlib.pyplot as plt"
      ],
      "execution_count": 0,
      "outputs": []
    },
    {
      "cell_type": "code",
      "metadata": {
        "id": "9hcINKfbViz3",
        "colab_type": "code",
        "colab": {
          "base_uri": "https://localhost:8080/",
          "height": 281
        },
        "outputId": "4b11beb5-591a-4f16-e9af-29d30653dc1b"
      },
      "source": [
        "notas105844 = avaliacao.query(\"movieId == 105844\")\n",
        "notas106916 = avaliacao.query(\"movieId == 106916\")\n",
        "notas105504 = avaliacao.query(\"movieId == 105504\")\n",
        "notas106100 = avaliacao.query(\"movieId == 106100\")\n",
        "notas104841 = avaliacao.query(\"movieId == 104841\")\n",
        "notas106920 = avaliacao.query(\"movieId == 106920\")\n",
        "notas105197 = avaliacao.query(\"movieId == 105197\")\n",
        "notas106438 = avaliacao.query(\"movieId == 106438\")\n",
        "notas106782 = avaliacao.query(\"movieId == 106782\")\n",
        "\n",
        "plt.boxplot([notas105844.rating, notas106916.rating, notas105504.rating, \n",
        "             notas106100.rating, notas104841.rating, notas106920.rating,\n",
        "             notas105197.rating, notas106438.rating, notas106782.rating]\n",
        "            , labels=['12 YEARS A SLAVE', 'AMERICAN HUSTLE', 'CAPTAIN PHILLIPS', \n",
        "                      'DALLAS BUYERS CLUB', 'GRAVITY', 'HER', 'NEBRASKA', 'PHILOMENA',\n",
        "                      'WOLF OF WALL STREET'])\n",
        "plt.title('Distribuicao das notas de acordo com os filmes')\n",
        "plt.rcParams['figure.figsize']=20,10"
      ],
      "execution_count": 10,
      "outputs": [
        {
          "output_type": "display_data",
          "data": {
            "image/png": "[encoded data removed]",
            "text/plain": [
              "<Figure size 432x288 with 1 Axes>"
            ]
          },
          "metadata": {
            "tags": [],
            "needs_background": "light"
          }
        }
      ]
    },
    {
      "cell_type": "code",
      "metadata": {
        "id": "SdrGrtXzdOk5",
        "colab_type": "code",
        "colab": {
          "base_uri": "https://localhost:8080/",
          "height": 71
        },
        "outputId": "08f6ef70-b107-468f-b7b9-61eefc729a88"
      },
      "source": [
        "import seaborn as sns"
      ],
      "execution_count": 11,
      "outputs": [
        {
          "output_type": "stream",
          "text": [
            "/usr/local/lib/python3.6/dist-packages/statsmodels/tools/_testing.py:19: FutureWarning: pandas.util.testing is deprecated. Use the functions in the public API at pandas.testing instead.\n",
            "  import pandas.util.testing as tm\n"
          ],
          "name": "stderr"
        }
      ]
    },
    {
      "cell_type": "code",
      "metadata": {
        "id": "Eew5LfYxe_6H",
        "colab_type": "code",
        "colab": {
          "base_uri": "https://localhost:8080/",
          "height": 238
        },
        "outputId": "6371bed6-a9bc-479e-c204-80cb1cf46d4e"
      },
      "source": [
        "nota_media_por_filme = avaliacao.groupby(\"movieId\").mean()[\"rating\"]\n",
        "nota_media_por_filme.head(100)"
      ],
      "execution_count": 12,
      "outputs": [
        {
          "output_type": "execute_result",
          "data": {
            "text/plain": [
              "movieId\n",
              "1      3.920930\n",
              "2      3.431818\n",
              "3      3.259615\n",
              "4      2.357143\n",
              "5      3.071429\n",
              "         ...   \n",
              "107    3.326923\n",
              "108    4.000000\n",
              "110    4.031646\n",
              "111    4.105769\n",
              "112    3.543478\n",
              "Name: rating, Length: 100, dtype: float64"
            ]
          },
          "metadata": {
            "tags": []
          },
          "execution_count": 12
        }
      ]
    },
    {
      "cell_type": "code",
      "metadata": {
        "id": "_K-kWtIzjgNf",
        "colab_type": "code",
        "colab": {
          "base_uri": "https://localhost:8080/",
          "height": 450
        },
        "outputId": "7e52e19c-07bd-4a61-febc-88bc3f65e2b9"
      },
      "source": [
        "nota_media_por_filme = pd.DataFrame(data=nota_media_por_filme)\n",
        "nota_media_por_filme"
      ],
      "execution_count": 13,
      "outputs": [
        {
          "output_type": "execute_result",
          "data": {
            "text/html": [
              "<div>\n",
              "<style scoped>\n",
              "    .dataframe tbody tr th:only-of-type {\n",
              "        vertical-align: middle;\n",
              "    }\n",
              "\n",
              "    .dataframe tbody tr th {\n",
              "        vertical-align: top;\n",
              "    }\n",
              "\n",
              "    .dataframe thead th {\n",
              "        text-align: right;\n",
              "    }\n",
              "</style>\n",
              "<table border=\"1\" class=\"dataframe\">\n",
              "  <thead>\n",
              "    <tr style=\"text-align: right;\">\n",
              "      <th></th>\n",
              "      <th>rating</th>\n",
              "    </tr>\n",
              "    <tr>\n",
              "      <th>movieId</th>\n",
              "      <th></th>\n",
              "    </tr>\n",
              "  </thead>\n",
              "  <tbody>\n",
              "    <tr>\n",
              "      <th>1</th>\n",
              "      <td>3.920930</td>\n",
              "    </tr>\n",
              "    <tr>\n",
              "      <th>2</th>\n",
              "      <td>3.431818</td>\n",
              "    </tr>\n",
              "    <tr>\n",
              "      <th>3</th>\n",
              "      <td>3.259615</td>\n",
              "    </tr>\n",
              "    <tr>\n",
              "      <th>4</th>\n",
              "      <td>2.357143</td>\n",
              "    </tr>\n",
              "    <tr>\n",
              "      <th>5</th>\n",
              "      <td>3.071429</td>\n",
              "    </tr>\n",
              "    <tr>\n",
              "      <th>...</th>\n",
              "      <td>...</td>\n",
              "    </tr>\n",
              "    <tr>\n",
              "      <th>193581</th>\n",
              "      <td>4.000000</td>\n",
              "    </tr>\n",
              "    <tr>\n",
              "      <th>193583</th>\n",
              "      <td>3.500000</td>\n",
              "    </tr>\n",
              "    <tr>\n",
              "      <th>193585</th>\n",
              "      <td>3.500000</td>\n",
              "    </tr>\n",
              "    <tr>\n",
              "      <th>193587</th>\n",
              "      <td>3.500000</td>\n",
              "    </tr>\n",
              "    <tr>\n",
              "      <th>193609</th>\n",
              "      <td>4.000000</td>\n",
              "    </tr>\n",
              "  </tbody>\n",
              "</table>\n",
              "<p>9724 rows × 1 columns</p>\n",
              "</div>"
            ],
            "text/plain": [
              "           rating\n",
              "movieId          \n",
              "1        3.920930\n",
              "2        3.431818\n",
              "3        3.259615\n",
              "4        2.357143\n",
              "5        3.071429\n",
              "...           ...\n",
              "193581   4.000000\n",
              "193583   3.500000\n",
              "193585   3.500000\n",
              "193587   3.500000\n",
              "193609   4.000000\n",
              "\n",
              "[9724 rows x 1 columns]"
            ]
          },
          "metadata": {
            "tags": []
          },
          "execution_count": 13
        }
      ]
    },
    {
      "cell_type": "code",
      "metadata": {
        "id": "meJFIqegl8VC",
        "colab_type": "code",
        "colab": {
          "base_uri": "https://localhost:8080/",
          "height": 359
        },
        "outputId": "afe87a1f-552d-441e-b936-4376ccfb542b"
      },
      "source": [
        "nota = nota_media_por_filme.query(\"movieId in [105844,106916,105504, 106100, 104841, 106920, 105197, 106438, 106782]\")\n",
        "nota"
      ],
      "execution_count": 14,
      "outputs": [
        {
          "output_type": "execute_result",
          "data": {
            "text/html": [
              "<div>\n",
              "<style scoped>\n",
              "    .dataframe tbody tr th:only-of-type {\n",
              "        vertical-align: middle;\n",
              "    }\n",
              "\n",
              "    .dataframe tbody tr th {\n",
              "        vertical-align: top;\n",
              "    }\n",
              "\n",
              "    .dataframe thead th {\n",
              "        text-align: right;\n",
              "    }\n",
              "</style>\n",
              "<table border=\"1\" class=\"dataframe\">\n",
              "  <thead>\n",
              "    <tr style=\"text-align: right;\">\n",
              "      <th></th>\n",
              "      <th>rating</th>\n",
              "    </tr>\n",
              "    <tr>\n",
              "      <th>movieId</th>\n",
              "      <th></th>\n",
              "    </tr>\n",
              "  </thead>\n",
              "  <tbody>\n",
              "    <tr>\n",
              "      <th>104841</th>\n",
              "      <td>3.578125</td>\n",
              "    </tr>\n",
              "    <tr>\n",
              "      <th>105197</th>\n",
              "      <td>4.125000</td>\n",
              "    </tr>\n",
              "    <tr>\n",
              "      <th>105504</th>\n",
              "      <td>4.047619</td>\n",
              "    </tr>\n",
              "    <tr>\n",
              "      <th>105844</th>\n",
              "      <td>3.625000</td>\n",
              "    </tr>\n",
              "    <tr>\n",
              "      <th>106100</th>\n",
              "      <td>3.970588</td>\n",
              "    </tr>\n",
              "    <tr>\n",
              "      <th>106438</th>\n",
              "      <td>3.250000</td>\n",
              "    </tr>\n",
              "    <tr>\n",
              "      <th>106782</th>\n",
              "      <td>3.916667</td>\n",
              "    </tr>\n",
              "    <tr>\n",
              "      <th>106916</th>\n",
              "      <td>3.250000</td>\n",
              "    </tr>\n",
              "    <tr>\n",
              "      <th>106920</th>\n",
              "      <td>3.920000</td>\n",
              "    </tr>\n",
              "  </tbody>\n",
              "</table>\n",
              "</div>"
            ],
            "text/plain": [
              "           rating\n",
              "movieId          \n",
              "104841   3.578125\n",
              "105197   4.125000\n",
              "105504   4.047619\n",
              "105844   3.625000\n",
              "106100   3.970588\n",
              "106438   3.250000\n",
              "106782   3.916667\n",
              "106916   3.250000\n",
              "106920   3.920000"
            ]
          },
          "metadata": {
            "tags": []
          },
          "execution_count": 14
        }
      ]
    },
    {
      "cell_type": "code",
      "metadata": {
        "id": "vPE25faQoEuK",
        "colab_type": "code",
        "colab": {
          "base_uri": "https://localhost:8080/",
          "height": 328
        },
        "outputId": "ff2b20df-0fa2-4a71-973f-f708c221b244"
      },
      "source": [
        " oscar.sort_values(by='genres') "
      ],
      "execution_count": 15,
      "outputs": [
        {
          "output_type": "execute_result",
          "data": {
            "text/html": [
              "<div>\n",
              "<style scoped>\n",
              "    .dataframe tbody tr th:only-of-type {\n",
              "        vertical-align: middle;\n",
              "    }\n",
              "\n",
              "    .dataframe tbody tr th {\n",
              "        vertical-align: top;\n",
              "    }\n",
              "\n",
              "    .dataframe thead th {\n",
              "        text-align: right;\n",
              "    }\n",
              "</style>\n",
              "<table border=\"1\" class=\"dataframe\">\n",
              "  <thead>\n",
              "    <tr style=\"text-align: right;\">\n",
              "      <th></th>\n",
              "      <th>movieId</th>\n",
              "      <th>title</th>\n",
              "      <th>genres</th>\n",
              "    </tr>\n",
              "  </thead>\n",
              "  <tbody>\n",
              "    <tr>\n",
              "      <th>8252</th>\n",
              "      <td>104841</td>\n",
              "      <td>Gravity (2013)</td>\n",
              "      <td>Action|Sci-Fi|IMAX</td>\n",
              "    </tr>\n",
              "    <tr>\n",
              "      <th>8264</th>\n",
              "      <td>105197</td>\n",
              "      <td>Nebraska (2013)</td>\n",
              "      <td>Adventure|Drama</td>\n",
              "    </tr>\n",
              "    <tr>\n",
              "      <th>8274</th>\n",
              "      <td>105504</td>\n",
              "      <td>Captain Phillips (2013)</td>\n",
              "      <td>Adventure|Drama|Thriller|IMAX</td>\n",
              "    </tr>\n",
              "    <tr>\n",
              "      <th>8305</th>\n",
              "      <td>106782</td>\n",
              "      <td>Wolf of Wall Street, The (2013)</td>\n",
              "      <td>Comedy|Crime|Drama</td>\n",
              "    </tr>\n",
              "    <tr>\n",
              "      <th>8293</th>\n",
              "      <td>106438</td>\n",
              "      <td>Philomena (2013)</td>\n",
              "      <td>Comedy|Drama</td>\n",
              "    </tr>\n",
              "    <tr>\n",
              "      <th>8311</th>\n",
              "      <td>106916</td>\n",
              "      <td>American Hustle (2013)</td>\n",
              "      <td>Crime|Drama</td>\n",
              "    </tr>\n",
              "    <tr>\n",
              "      <th>8285</th>\n",
              "      <td>105844</td>\n",
              "      <td>12 Years a Slave (2013)</td>\n",
              "      <td>Drama</td>\n",
              "    </tr>\n",
              "    <tr>\n",
              "      <th>8290</th>\n",
              "      <td>106100</td>\n",
              "      <td>Dallas Buyers Club (2013)</td>\n",
              "      <td>Drama</td>\n",
              "    </tr>\n",
              "    <tr>\n",
              "      <th>8313</th>\n",
              "      <td>106920</td>\n",
              "      <td>Her (2013)</td>\n",
              "      <td>Drama|Romance|Sci-Fi</td>\n",
              "    </tr>\n",
              "  </tbody>\n",
              "</table>\n",
              "</div>"
            ],
            "text/plain": [
              "      movieId                            title                         genres\n",
              "8252   104841                   Gravity (2013)             Action|Sci-Fi|IMAX\n",
              "8264   105197                  Nebraska (2013)                Adventure|Drama\n",
              "8274   105504          Captain Phillips (2013)  Adventure|Drama|Thriller|IMAX\n",
              "8305   106782  Wolf of Wall Street, The (2013)             Comedy|Crime|Drama\n",
              "8293   106438                 Philomena (2013)                   Comedy|Drama\n",
              "8311   106916           American Hustle (2013)                    Crime|Drama\n",
              "8285   105844          12 Years a Slave (2013)                          Drama\n",
              "8290   106100        Dallas Buyers Club (2013)                          Drama\n",
              "8313   106920                       Her (2013)           Drama|Romance|Sci-Fi"
            ]
          },
          "metadata": {
            "tags": []
          },
          "execution_count": 15
        }
      ]
    },
    {
      "cell_type": "code",
      "metadata": {
        "id": "SBawsWCKVWTz",
        "colab_type": "code",
        "colab": {}
      },
      "source": [
        "new_col = [3.578125,4.125000, 4.047619, 3.625000, 3.970588, 3.250000, 3.916667, 3.250000, 3.920000]"
      ],
      "execution_count": 0,
      "outputs": []
    },
    {
      "cell_type": "code",
      "metadata": {
        "id": "3nOF3x_kXRkR",
        "colab_type": "code",
        "colab": {}
      },
      "source": [
        "oscar.insert(loc=0,column='rating', value=new_col)"
      ],
      "execution_count": 0,
      "outputs": []
    },
    {
      "cell_type": "code",
      "metadata": {
        "id": "Vgl9wL5HXaeA",
        "colab_type": "code",
        "colab": {
          "base_uri": "https://localhost:8080/",
          "height": 328
        },
        "outputId": "e8b7fc01-15d3-4ffc-f14e-ec5e0c983563"
      },
      "source": [
        "oscar"
      ],
      "execution_count": 35,
      "outputs": [
        {
          "output_type": "execute_result",
          "data": {
            "text/html": [
              "<div>\n",
              "<style scoped>\n",
              "    .dataframe tbody tr th:only-of-type {\n",
              "        vertical-align: middle;\n",
              "    }\n",
              "\n",
              "    .dataframe tbody tr th {\n",
              "        vertical-align: top;\n",
              "    }\n",
              "\n",
              "    .dataframe thead th {\n",
              "        text-align: right;\n",
              "    }\n",
              "</style>\n",
              "<table border=\"1\" class=\"dataframe\">\n",
              "  <thead>\n",
              "    <tr style=\"text-align: right;\">\n",
              "      <th></th>\n",
              "      <th>rating</th>\n",
              "      <th>movieId</th>\n",
              "      <th>title</th>\n",
              "      <th>genres</th>\n",
              "    </tr>\n",
              "  </thead>\n",
              "  <tbody>\n",
              "    <tr>\n",
              "      <th>8252</th>\n",
              "      <td>3.578125</td>\n",
              "      <td>104841</td>\n",
              "      <td>Gravity (2013)</td>\n",
              "      <td>Action|Sci-Fi|IMAX</td>\n",
              "    </tr>\n",
              "    <tr>\n",
              "      <th>8264</th>\n",
              "      <td>4.125000</td>\n",
              "      <td>105197</td>\n",
              "      <td>Nebraska (2013)</td>\n",
              "      <td>Adventure|Drama</td>\n",
              "    </tr>\n",
              "    <tr>\n",
              "      <th>8274</th>\n",
              "      <td>4.047619</td>\n",
              "      <td>105504</td>\n",
              "      <td>Captain Phillips (2013)</td>\n",
              "      <td>Adventure|Drama|Thriller|IMAX</td>\n",
              "    </tr>\n",
              "    <tr>\n",
              "      <th>8285</th>\n",
              "      <td>3.625000</td>\n",
              "      <td>105844</td>\n",
              "      <td>12 Years a Slave (2013)</td>\n",
              "      <td>Drama</td>\n",
              "    </tr>\n",
              "    <tr>\n",
              "      <th>8290</th>\n",
              "      <td>3.970588</td>\n",
              "      <td>106100</td>\n",
              "      <td>Dallas Buyers Club (2013)</td>\n",
              "      <td>Drama</td>\n",
              "    </tr>\n",
              "    <tr>\n",
              "      <th>8293</th>\n",
              "      <td>3.250000</td>\n",
              "      <td>106438</td>\n",
              "      <td>Philomena (2013)</td>\n",
              "      <td>Comedy|Drama</td>\n",
              "    </tr>\n",
              "    <tr>\n",
              "      <th>8305</th>\n",
              "      <td>3.916667</td>\n",
              "      <td>106782</td>\n",
              "      <td>Wolf of Wall Street, The (2013)</td>\n",
              "      <td>Comedy|Crime|Drama</td>\n",
              "    </tr>\n",
              "    <tr>\n",
              "      <th>8311</th>\n",
              "      <td>3.250000</td>\n",
              "      <td>106916</td>\n",
              "      <td>American Hustle (2013)</td>\n",
              "      <td>Crime|Drama</td>\n",
              "    </tr>\n",
              "    <tr>\n",
              "      <th>8313</th>\n",
              "      <td>3.920000</td>\n",
              "      <td>106920</td>\n",
              "      <td>Her (2013)</td>\n",
              "      <td>Drama|Romance|Sci-Fi</td>\n",
              "    </tr>\n",
              "  </tbody>\n",
              "</table>\n",
              "</div>"
            ],
            "text/plain": [
              "        rating  ...                         genres\n",
              "8252  3.578125  ...             Action|Sci-Fi|IMAX\n",
              "8264  4.125000  ...                Adventure|Drama\n",
              "8274  4.047619  ...  Adventure|Drama|Thriller|IMAX\n",
              "8285  3.625000  ...                          Drama\n",
              "8290  3.970588  ...                          Drama\n",
              "8293  3.250000  ...                   Comedy|Drama\n",
              "8305  3.916667  ...             Comedy|Crime|Drama\n",
              "8311  3.250000  ...                    Crime|Drama\n",
              "8313  3.920000  ...           Drama|Romance|Sci-Fi\n",
              "\n",
              "[9 rows x 4 columns]"
            ]
          },
          "metadata": {
            "tags": []
          },
          "execution_count": 35
        }
      ]
    },
    {
      "cell_type": "code",
      "metadata": {
        "id": "59Kd2gU9XhBS",
        "colab_type": "code",
        "colab": {
          "base_uri": "https://localhost:8080/",
          "height": 328
        },
        "outputId": "fc021d8c-d629-4443-8990-a9c809f225b2"
      },
      "source": [
        " oscar.sort_values(by='rating') "
      ],
      "execution_count": 36,
      "outputs": [
        {
          "output_type": "execute_result",
          "data": {
            "text/html": [
              "<div>\n",
              "<style scoped>\n",
              "    .dataframe tbody tr th:only-of-type {\n",
              "        vertical-align: middle;\n",
              "    }\n",
              "\n",
              "    .dataframe tbody tr th {\n",
              "        vertical-align: top;\n",
              "    }\n",
              "\n",
              "    .dataframe thead th {\n",
              "        text-align: right;\n",
              "    }\n",
              "</style>\n",
              "<table border=\"1\" class=\"dataframe\">\n",
              "  <thead>\n",
              "    <tr style=\"text-align: right;\">\n",
              "      <th></th>\n",
              "      <th>rating</th>\n",
              "      <th>movieId</th>\n",
              "      <th>title</th>\n",
              "      <th>genres</th>\n",
              "    </tr>\n",
              "  </thead>\n",
              "  <tbody>\n",
              "    <tr>\n",
              "      <th>8293</th>\n",
              "      <td>3.250000</td>\n",
              "      <td>106438</td>\n",
              "      <td>Philomena (2013)</td>\n",
              "      <td>Comedy|Drama</td>\n",
              "    </tr>\n",
              "    <tr>\n",
              "      <th>8311</th>\n",
              "      <td>3.250000</td>\n",
              "      <td>106916</td>\n",
              "      <td>American Hustle (2013)</td>\n",
              "      <td>Crime|Drama</td>\n",
              "    </tr>\n",
              "    <tr>\n",
              "      <th>8252</th>\n",
              "      <td>3.578125</td>\n",
              "      <td>104841</td>\n",
              "      <td>Gravity (2013)</td>\n",
              "      <td>Action|Sci-Fi|IMAX</td>\n",
              "    </tr>\n",
              "    <tr>\n",
              "      <th>8285</th>\n",
              "      <td>3.625000</td>\n",
              "      <td>105844</td>\n",
              "      <td>12 Years a Slave (2013)</td>\n",
              "      <td>Drama</td>\n",
              "    </tr>\n",
              "    <tr>\n",
              "      <th>8305</th>\n",
              "      <td>3.916667</td>\n",
              "      <td>106782</td>\n",
              "      <td>Wolf of Wall Street, The (2013)</td>\n",
              "      <td>Comedy|Crime|Drama</td>\n",
              "    </tr>\n",
              "    <tr>\n",
              "      <th>8313</th>\n",
              "      <td>3.920000</td>\n",
              "      <td>106920</td>\n",
              "      <td>Her (2013)</td>\n",
              "      <td>Drama|Romance|Sci-Fi</td>\n",
              "    </tr>\n",
              "    <tr>\n",
              "      <th>8290</th>\n",
              "      <td>3.970588</td>\n",
              "      <td>106100</td>\n",
              "      <td>Dallas Buyers Club (2013)</td>\n",
              "      <td>Drama</td>\n",
              "    </tr>\n",
              "    <tr>\n",
              "      <th>8274</th>\n",
              "      <td>4.047619</td>\n",
              "      <td>105504</td>\n",
              "      <td>Captain Phillips (2013)</td>\n",
              "      <td>Adventure|Drama|Thriller|IMAX</td>\n",
              "    </tr>\n",
              "    <tr>\n",
              "      <th>8264</th>\n",
              "      <td>4.125000</td>\n",
              "      <td>105197</td>\n",
              "      <td>Nebraska (2013)</td>\n",
              "      <td>Adventure|Drama</td>\n",
              "    </tr>\n",
              "  </tbody>\n",
              "</table>\n",
              "</div>"
            ],
            "text/plain": [
              "        rating  ...                         genres\n",
              "8293  3.250000  ...                   Comedy|Drama\n",
              "8311  3.250000  ...                    Crime|Drama\n",
              "8252  3.578125  ...             Action|Sci-Fi|IMAX\n",
              "8285  3.625000  ...                          Drama\n",
              "8305  3.916667  ...             Comedy|Crime|Drama\n",
              "8313  3.920000  ...           Drama|Romance|Sci-Fi\n",
              "8290  3.970588  ...                          Drama\n",
              "8274  4.047619  ...  Adventure|Drama|Thriller|IMAX\n",
              "8264  4.125000  ...                Adventure|Drama\n",
              "\n",
              "[9 rows x 4 columns]"
            ]
          },
          "metadata": {
            "tags": []
          },
          "execution_count": 36
        }
      ]
    },
    {
      "cell_type": "markdown",
      "metadata": {
        "id": "PPoTkkXKYgUy",
        "colab_type": "text"
      },
      "source": [
        "#**Verificar pela nota na amostra do movieleans qual seria o filme ganhador do oscar no ano de 2014\n",
        "\n"
      ]
    },
    {
      "cell_type": "markdown",
      "metadata": {
        "id": "LnOK3viGYX2h",
        "colab_type": "text"
      },
      "source": [
        "**Conforme o grafico de candes e a media das avaliacoes, o filme \"12 years a slave\" ganhador do oscar 2014, nao foi considerado o filme melhor avaliado pelo publico em geral**"
      ]
    },
    {
      "cell_type": "code",
      "metadata": {
        "id": "DGRA3rtNZe4O",
        "colab_type": "code",
        "colab": {}
      },
      "source": [
        "tmdb = pd.read_csv('tmdb_5000_movies.csv')"
      ],
      "execution_count": 0,
      "outputs": []
    },
    {
      "cell_type": "code",
      "metadata": {
        "id": "fQcc4QpLZr_i",
        "colab_type": "code",
        "colab": {
          "base_uri": "https://localhost:8080/",
          "height": 185
        },
        "outputId": "3be58ca8-8256-4c0b-a889-f8ecd3e015e3"
      },
      "source": [
        "tmdb.head(1)"
      ],
      "execution_count": 39,
      "outputs": [
        {
          "output_type": "execute_result",
          "data": {
            "text/html": [
              "<div>\n",
              "<style scoped>\n",
              "    .dataframe tbody tr th:only-of-type {\n",
              "        vertical-align: middle;\n",
              "    }\n",
              "\n",
              "    .dataframe tbody tr th {\n",
              "        vertical-align: top;\n",
              "    }\n",
              "\n",
              "    .dataframe thead th {\n",
              "        text-align: right;\n",
              "    }\n",
              "</style>\n",
              "<table border=\"1\" class=\"dataframe\">\n",
              "  <thead>\n",
              "    <tr style=\"text-align: right;\">\n",
              "      <th></th>\n",
              "      <th>budget</th>\n",
              "      <th>genres</th>\n",
              "      <th>homepage</th>\n",
              "      <th>id</th>\n",
              "      <th>keywords</th>\n",
              "      <th>original_language</th>\n",
              "      <th>original_title</th>\n",
              "      <th>overview</th>\n",
              "      <th>popularity</th>\n",
              "      <th>production_companies</th>\n",
              "      <th>production_countries</th>\n",
              "      <th>release_date</th>\n",
              "      <th>revenue</th>\n",
              "      <th>runtime</th>\n",
              "      <th>spoken_languages</th>\n",
              "      <th>status</th>\n",
              "      <th>tagline</th>\n",
              "      <th>title</th>\n",
              "      <th>vote_average</th>\n",
              "      <th>vote_count</th>\n",
              "    </tr>\n",
              "  </thead>\n",
              "  <tbody>\n",
              "    <tr>\n",
              "      <th>0</th>\n",
              "      <td>237000000</td>\n",
              "      <td>[{\"id\": 28, \"name\": \"Action\"}, {\"id\": 12, \"nam...</td>\n",
              "      <td>http://www.avatarmovie.com/</td>\n",
              "      <td>19995</td>\n",
              "      <td>[{\"id\": 1463, \"name\": \"culture clash\"}, {\"id\":...</td>\n",
              "      <td>en</td>\n",
              "      <td>Avatar</td>\n",
              "      <td>In the 22nd century, a paraplegic Marine is di...</td>\n",
              "      <td>150.437577</td>\n",
              "      <td>[{\"name\": \"Ingenious Film Partners\", \"id\": 289...</td>\n",
              "      <td>[{\"iso_3166_1\": \"US\", \"name\": \"United States o...</td>\n",
              "      <td>2009-12-10</td>\n",
              "      <td>2787965087</td>\n",
              "      <td>162.0</td>\n",
              "      <td>[{\"iso_639_1\": \"en\", \"name\": \"English\"}, {\"iso...</td>\n",
              "      <td>Released</td>\n",
              "      <td>Enter the World of Pandora.</td>\n",
              "      <td>Avatar</td>\n",
              "      <td>7.2</td>\n",
              "      <td>11800</td>\n",
              "    </tr>\n",
              "  </tbody>\n",
              "</table>\n",
              "</div>"
            ],
            "text/plain": [
              "      budget  ... vote_count\n",
              "0  237000000  ...      11800\n",
              "\n",
              "[1 rows x 20 columns]"
            ]
          },
          "metadata": {
            "tags": []
          },
          "execution_count": 39
        }
      ]
    },
    {
      "cell_type": "code",
      "metadata": {
        "id": "jh_f90PVZx7K",
        "colab_type": "code",
        "colab": {}
      },
      "source": [
        "tmdb_oscar = tmdb.drop(['genres', 'homepage', 'keywords', 'original_language', \n",
        "                              'overview', 'production_companies', 'runtime', 'spoken_languages', \n",
        "                              'status', 'tagline'], axis=1)"
      ],
      "execution_count": 0,
      "outputs": []
    },
    {
      "cell_type": "code",
      "metadata": {
        "id": "4qt_6uj9bkmR",
        "colab_type": "code",
        "colab": {
          "base_uri": "https://localhost:8080/",
          "height": 428
        },
        "outputId": "2b181b43-063f-4045-9a95-b41e983fff04"
      },
      "source": [
        "tmdb_oscar.head()"
      ],
      "execution_count": 42,
      "outputs": [
        {
          "output_type": "execute_result",
          "data": {
            "text/html": [
              "<div>\n",
              "<style scoped>\n",
              "    .dataframe tbody tr th:only-of-type {\n",
              "        vertical-align: middle;\n",
              "    }\n",
              "\n",
              "    .dataframe tbody tr th {\n",
              "        vertical-align: top;\n",
              "    }\n",
              "\n",
              "    .dataframe thead th {\n",
              "        text-align: right;\n",
              "    }\n",
              "</style>\n",
              "<table border=\"1\" class=\"dataframe\">\n",
              "  <thead>\n",
              "    <tr style=\"text-align: right;\">\n",
              "      <th></th>\n",
              "      <th>budget</th>\n",
              "      <th>id</th>\n",
              "      <th>original_title</th>\n",
              "      <th>popularity</th>\n",
              "      <th>production_countries</th>\n",
              "      <th>release_date</th>\n",
              "      <th>revenue</th>\n",
              "      <th>title</th>\n",
              "      <th>vote_average</th>\n",
              "      <th>vote_count</th>\n",
              "    </tr>\n",
              "  </thead>\n",
              "  <tbody>\n",
              "    <tr>\n",
              "      <th>0</th>\n",
              "      <td>237000000</td>\n",
              "      <td>19995</td>\n",
              "      <td>Avatar</td>\n",
              "      <td>150.437577</td>\n",
              "      <td>[{\"iso_3166_1\": \"US\", \"name\": \"United States o...</td>\n",
              "      <td>2009-12-10</td>\n",
              "      <td>2787965087</td>\n",
              "      <td>Avatar</td>\n",
              "      <td>7.2</td>\n",
              "      <td>11800</td>\n",
              "    </tr>\n",
              "    <tr>\n",
              "      <th>1</th>\n",
              "      <td>300000000</td>\n",
              "      <td>285</td>\n",
              "      <td>Pirates of the Caribbean: At World's End</td>\n",
              "      <td>139.082615</td>\n",
              "      <td>[{\"iso_3166_1\": \"US\", \"name\": \"United States o...</td>\n",
              "      <td>2007-05-19</td>\n",
              "      <td>961000000</td>\n",
              "      <td>Pirates of the Caribbean: At World's End</td>\n",
              "      <td>6.9</td>\n",
              "      <td>4500</td>\n",
              "    </tr>\n",
              "    <tr>\n",
              "      <th>2</th>\n",
              "      <td>245000000</td>\n",
              "      <td>206647</td>\n",
              "      <td>Spectre</td>\n",
              "      <td>107.376788</td>\n",
              "      <td>[{\"iso_3166_1\": \"GB\", \"name\": \"United Kingdom\"...</td>\n",
              "      <td>2015-10-26</td>\n",
              "      <td>880674609</td>\n",
              "      <td>Spectre</td>\n",
              "      <td>6.3</td>\n",
              "      <td>4466</td>\n",
              "    </tr>\n",
              "    <tr>\n",
              "      <th>3</th>\n",
              "      <td>250000000</td>\n",
              "      <td>49026</td>\n",
              "      <td>The Dark Knight Rises</td>\n",
              "      <td>112.312950</td>\n",
              "      <td>[{\"iso_3166_1\": \"US\", \"name\": \"United States o...</td>\n",
              "      <td>2012-07-16</td>\n",
              "      <td>1084939099</td>\n",
              "      <td>The Dark Knight Rises</td>\n",
              "      <td>7.6</td>\n",
              "      <td>9106</td>\n",
              "    </tr>\n",
              "    <tr>\n",
              "      <th>4</th>\n",
              "      <td>260000000</td>\n",
              "      <td>49529</td>\n",
              "      <td>John Carter</td>\n",
              "      <td>43.926995</td>\n",
              "      <td>[{\"iso_3166_1\": \"US\", \"name\": \"United States o...</td>\n",
              "      <td>2012-03-07</td>\n",
              "      <td>284139100</td>\n",
              "      <td>John Carter</td>\n",
              "      <td>6.1</td>\n",
              "      <td>2124</td>\n",
              "    </tr>\n",
              "  </tbody>\n",
              "</table>\n",
              "</div>"
            ],
            "text/plain": [
              "      budget      id  ... vote_average  vote_count\n",
              "0  237000000   19995  ...          7.2       11800\n",
              "1  300000000     285  ...          6.9        4500\n",
              "2  245000000  206647  ...          6.3        4466\n",
              "3  250000000   49026  ...          7.6        9106\n",
              "4  260000000   49529  ...          6.1        2124\n",
              "\n",
              "[5 rows x 10 columns]"
            ]
          },
          "metadata": {
            "tags": []
          },
          "execution_count": 42
        }
      ]
    },
    {
      "cell_type": "code",
      "metadata": {
        "id": "EMVKCtgFbpT3",
        "colab_type": "code",
        "colab": {}
      },
      "source": [
        "timdb_oscar = tmdb_oscar.query(\"title in ['Gravity','Nebraska','Captain Phillips', 'Wolf of Wall Street', 'Philomena', 'American Hustle', '12 Years a Slave', 'Dallas Buyers Club', 'Her']\")"
      ],
      "execution_count": 0,
      "outputs": []
    },
    {
      "cell_type": "code",
      "metadata": {
        "id": "SMEyv-hict84",
        "colab_type": "code",
        "colab": {}
      },
      "source": [
        "tmdb_oscar = timdb_oscar.drop(['production_countries'], axis=1)"
      ],
      "execution_count": 0,
      "outputs": []
    },
    {
      "cell_type": "code",
      "metadata": {
        "id": "7Xbv0a7Ac-dR",
        "colab_type": "code",
        "colab": {
          "base_uri": "https://localhost:8080/",
          "height": 297
        },
        "outputId": "17553b0e-3a00-443f-9279-5dde04dd4e46"
      },
      "source": [
        "tmdb_oscar.head(10)"
      ],
      "execution_count": 51,
      "outputs": [
        {
          "output_type": "execute_result",
          "data": {
            "text/html": [
              "<div>\n",
              "<style scoped>\n",
              "    .dataframe tbody tr th:only-of-type {\n",
              "        vertical-align: middle;\n",
              "    }\n",
              "\n",
              "    .dataframe tbody tr th {\n",
              "        vertical-align: top;\n",
              "    }\n",
              "\n",
              "    .dataframe thead th {\n",
              "        text-align: right;\n",
              "    }\n",
              "</style>\n",
              "<table border=\"1\" class=\"dataframe\">\n",
              "  <thead>\n",
              "    <tr style=\"text-align: right;\">\n",
              "      <th></th>\n",
              "      <th>budget</th>\n",
              "      <th>id</th>\n",
              "      <th>original_title</th>\n",
              "      <th>popularity</th>\n",
              "      <th>release_date</th>\n",
              "      <th>revenue</th>\n",
              "      <th>title</th>\n",
              "      <th>vote_average</th>\n",
              "      <th>vote_count</th>\n",
              "    </tr>\n",
              "  </thead>\n",
              "  <tbody>\n",
              "    <tr>\n",
              "      <th>239</th>\n",
              "      <td>105000000</td>\n",
              "      <td>49047</td>\n",
              "      <td>Gravity</td>\n",
              "      <td>110.153618</td>\n",
              "      <td>2013-09-27</td>\n",
              "      <td>716392705</td>\n",
              "      <td>Gravity</td>\n",
              "      <td>7.3</td>\n",
              "      <td>5751</td>\n",
              "    </tr>\n",
              "    <tr>\n",
              "      <th>818</th>\n",
              "      <td>55000000</td>\n",
              "      <td>109424</td>\n",
              "      <td>Captain Phillips</td>\n",
              "      <td>52.786917</td>\n",
              "      <td>2013-10-10</td>\n",
              "      <td>95000000</td>\n",
              "      <td>Captain Phillips</td>\n",
              "      <td>7.6</td>\n",
              "      <td>2454</td>\n",
              "    </tr>\n",
              "    <tr>\n",
              "      <th>1149</th>\n",
              "      <td>40000000</td>\n",
              "      <td>168672</td>\n",
              "      <td>American Hustle</td>\n",
              "      <td>49.664128</td>\n",
              "      <td>2013-12-12</td>\n",
              "      <td>251171807</td>\n",
              "      <td>American Hustle</td>\n",
              "      <td>6.8</td>\n",
              "      <td>2807</td>\n",
              "    </tr>\n",
              "    <tr>\n",
              "      <th>1997</th>\n",
              "      <td>23000000</td>\n",
              "      <td>152601</td>\n",
              "      <td>Her</td>\n",
              "      <td>53.682367</td>\n",
              "      <td>2013-12-18</td>\n",
              "      <td>47351251</td>\n",
              "      <td>Her</td>\n",
              "      <td>7.9</td>\n",
              "      <td>4097</td>\n",
              "    </tr>\n",
              "    <tr>\n",
              "      <th>2105</th>\n",
              "      <td>20000000</td>\n",
              "      <td>76203</td>\n",
              "      <td>12 Years a Slave</td>\n",
              "      <td>95.922900</td>\n",
              "      <td>2013-10-18</td>\n",
              "      <td>187000000</td>\n",
              "      <td>12 Years a Slave</td>\n",
              "      <td>7.9</td>\n",
              "      <td>3674</td>\n",
              "    </tr>\n",
              "    <tr>\n",
              "      <th>2843</th>\n",
              "      <td>12000000</td>\n",
              "      <td>205220</td>\n",
              "      <td>Philomena</td>\n",
              "      <td>29.019504</td>\n",
              "      <td>2013-11-01</td>\n",
              "      <td>100129872</td>\n",
              "      <td>Philomena</td>\n",
              "      <td>7.4</td>\n",
              "      <td>579</td>\n",
              "    </tr>\n",
              "    <tr>\n",
              "      <th>2849</th>\n",
              "      <td>12000000</td>\n",
              "      <td>129670</td>\n",
              "      <td>Nebraska</td>\n",
              "      <td>29.223881</td>\n",
              "      <td>2013-09-21</td>\n",
              "      <td>17654912</td>\n",
              "      <td>Nebraska</td>\n",
              "      <td>7.4</td>\n",
              "      <td>636</td>\n",
              "    </tr>\n",
              "    <tr>\n",
              "      <th>3571</th>\n",
              "      <td>5000000</td>\n",
              "      <td>152532</td>\n",
              "      <td>Dallas Buyers Club</td>\n",
              "      <td>59.454473</td>\n",
              "      <td>2013-09-07</td>\n",
              "      <td>55198285</td>\n",
              "      <td>Dallas Buyers Club</td>\n",
              "      <td>7.9</td>\n",
              "      <td>2886</td>\n",
              "    </tr>\n",
              "  </tbody>\n",
              "</table>\n",
              "</div>"
            ],
            "text/plain": [
              "         budget      id  ... vote_average  vote_count\n",
              "239   105000000   49047  ...          7.3        5751\n",
              "818    55000000  109424  ...          7.6        2454\n",
              "1149   40000000  168672  ...          6.8        2807\n",
              "1997   23000000  152601  ...          7.9        4097\n",
              "2105   20000000   76203  ...          7.9        3674\n",
              "2843   12000000  205220  ...          7.4         579\n",
              "2849   12000000  129670  ...          7.4         636\n",
              "3571    5000000  152532  ...          7.9        2886\n",
              "\n",
              "[8 rows x 9 columns]"
            ]
          },
          "metadata": {
            "tags": []
          },
          "execution_count": 51
        }
      ]
    },
    {
      "cell_type": "code",
      "metadata": {
        "id": "ONXtRMm7dXWN",
        "colab_type": "code",
        "colab": {}
      },
      "source": [
        ""
      ],
      "execution_count": 0,
      "outputs": []
    },
    {
      "cell_type": "markdown",
      "metadata": {
        "id": "5Tbzimdrduhj",
        "colab_type": "text"
      },
      "source": [
        "Porem considerando a analise do banco de dados da TMDB_5000, o filme ***12 Years a Slave*** recebe junto com outros filmes da lista a maior media de avaliacao."
      ]
    },
    {
      "cell_type": "code",
      "metadata": {
        "id": "vvVcMVLZeYd2",
        "colab_type": "code",
        "colab": {}
      },
      "source": [
        ""
      ],
      "execution_count": 0,
      "outputs": []
    },
    {
      "cell_type": "markdown",
      "metadata": {
        "id": "MLJmrOIEfA6Y",
        "colab_type": "text"
      },
      "source": [
        "# Analisando popularidade X budget"
      ]
    },
    {
      "cell_type": "code",
      "metadata": {
        "id": "XZ-MgMyCfHHv",
        "colab_type": "code",
        "colab": {
          "base_uri": "https://localhost:8080/",
          "height": 509
        },
        "outputId": "9252d086-7191-4263-e481-a345291e7d95"
      },
      "source": [
        "sns.set_color_codes(\"pastel\")\n",
        "\n",
        "sns.barplot(x=\"title\", y=\"popularity\", data=tmdb_oscar,\n",
        "            label=\"popularidade X budget\", palette=\"Blues_d\")"
      ],
      "execution_count": 68,
      "outputs": [
        {
          "output_type": "execute_result",
          "data": {
            "text/plain": [
              "<matplotlib.axes._subplots.AxesSubplot at 0x7f773ce20e10>"
            ]
          },
          "metadata": {
            "tags": []
          },
          "execution_count": 68
        },
        {
          "output_type": "display_data",
          "data": {
            "image/png": "[encoded data removed]",
            "text/plain": [
              "<Figure size 1440x720 with 1 Axes>"
            ]
          },
          "metadata": {
            "tags": [],
            "needs_background": "light"
          }
        }
      ]
    },
    {
      "cell_type": "code",
      "metadata": {
        "id": "siobNSqciKJg",
        "colab_type": "code",
        "colab": {}
      },
      "source": [
        ""
      ],
      "execution_count": 0,
      "outputs": []
    }
  ]
}